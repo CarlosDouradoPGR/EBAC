{
 "cells": [
  {
   "cell_type": "markdown",
   "metadata": {},
   "source": [
    "# Índice <a name=\"Contents\"></a>\n",
    "1. [Importando bibliotecas](#import)\n",
    "2. [Construindo um dataframe ](#read)\n",
    "3. [Amostragem (sample)](#amostragem)\n",
    "3. [Intro sobre métodos de string](#strings)\n",
    "\n"
   ]
  },
  {
   "cell_type": "markdown",
   "metadata": {},
   "source": [
    "# 1. Importando bibliotecas <a name=\"import\"></a>\n",
    "\n",
    "<div style=\"text-align: right\"\n",
    "     \n",
    "[Voltar ao índice](#Contents)"
   ]
  },
  {
   "cell_type": "code",
   "execution_count": 1,
   "metadata": {
    "ExecuteTime": {
     "end_time": "2021-05-31T09:48:00.524786Z",
     "start_time": "2021-05-31T09:47:57.714385Z"
    }
   },
   "outputs": [],
   "source": [
    "import numpy  as np\n",
    "import pandas as pd"
   ]
  },
  {
   "cell_type": "markdown",
   "metadata": {},
   "source": [
    "# 2. Construindo um dataframe  <a name=\"read\"></a>\n",
    "<div style=\"text-align: right\"\n",
    "     \n",
    "[Voltar ao índice](#Contents)"
   ]
  },
  {
   "cell_type": "code",
   "execution_count": 2,
   "metadata": {
    "ExecuteTime": {
     "end_time": "2021-05-31T09:50:48.945129Z",
     "start_time": "2021-05-31T09:50:48.840662Z"
    }
   },
   "outputs": [],
   "source": [
    "df = pd.DataFrame(np.random.randint(100000, size=(1000000, 10)),\n",
    "             columns=['A', 'B', 'C', 'D', 'E', 'F', 'G', 'H', 'I', 'J'])"
   ]
  },
  {
   "cell_type": "markdown",
   "metadata": {},
   "source": [
    "# 3. Amostragem <a name=\"amostragem\"></a>\n",
    "<div style=\"text-align: right\"\n",
    "     \n",
    "[Voltar ao índice](#Contents)"
   ]
  },
  {
   "cell_type": "code",
   "execution_count": 3,
   "metadata": {
    "ExecuteTime": {
     "end_time": "2021-05-31T09:53:30.287377Z",
     "start_time": "2021-05-31T09:53:30.273391Z"
    }
   },
   "outputs": [
    {
     "data": {
      "text/plain": [
       "(1000000, 10)"
      ]
     },
     "execution_count": 3,
     "metadata": {},
     "output_type": "execute_result"
    }
   ],
   "source": [
    "df.shape"
   ]
  },
  {
   "cell_type": "code",
   "execution_count": 4,
   "metadata": {
    "ExecuteTime": {
     "end_time": "2021-05-31T09:52:47.422509Z",
     "start_time": "2021-05-31T09:52:47.363477Z"
    }
   },
   "outputs": [
    {
     "data": {
      "text/html": [
       "<div>\n",
       "<style scoped>\n",
       "    .dataframe tbody tr th:only-of-type {\n",
       "        vertical-align: middle;\n",
       "    }\n",
       "\n",
       "    .dataframe tbody tr th {\n",
       "        vertical-align: top;\n",
       "    }\n",
       "\n",
       "    .dataframe thead th {\n",
       "        text-align: right;\n",
       "    }\n",
       "</style>\n",
       "<table border=\"1\" class=\"dataframe\">\n",
       "  <thead>\n",
       "    <tr style=\"text-align: right;\">\n",
       "      <th></th>\n",
       "      <th>A</th>\n",
       "      <th>B</th>\n",
       "      <th>C</th>\n",
       "      <th>D</th>\n",
       "      <th>E</th>\n",
       "      <th>F</th>\n",
       "      <th>G</th>\n",
       "      <th>H</th>\n",
       "      <th>I</th>\n",
       "      <th>J</th>\n",
       "    </tr>\n",
       "  </thead>\n",
       "  <tbody>\n",
       "    <tr>\n",
       "      <th>49614</th>\n",
       "      <td>94075</td>\n",
       "      <td>24661</td>\n",
       "      <td>23378</td>\n",
       "      <td>24230</td>\n",
       "      <td>27032</td>\n",
       "      <td>33504</td>\n",
       "      <td>35277</td>\n",
       "      <td>73068</td>\n",
       "      <td>75167</td>\n",
       "      <td>33980</td>\n",
       "    </tr>\n",
       "    <tr>\n",
       "      <th>313494</th>\n",
       "      <td>96644</td>\n",
       "      <td>20739</td>\n",
       "      <td>8026</td>\n",
       "      <td>98002</td>\n",
       "      <td>19056</td>\n",
       "      <td>60357</td>\n",
       "      <td>28669</td>\n",
       "      <td>97885</td>\n",
       "      <td>54998</td>\n",
       "      <td>32071</td>\n",
       "    </tr>\n",
       "    <tr>\n",
       "      <th>801777</th>\n",
       "      <td>33621</td>\n",
       "      <td>62144</td>\n",
       "      <td>93678</td>\n",
       "      <td>18623</td>\n",
       "      <td>87417</td>\n",
       "      <td>76484</td>\n",
       "      <td>94160</td>\n",
       "      <td>75744</td>\n",
       "      <td>7220</td>\n",
       "      <td>74397</td>\n",
       "    </tr>\n",
       "    <tr>\n",
       "      <th>207320</th>\n",
       "      <td>66179</td>\n",
       "      <td>58940</td>\n",
       "      <td>84308</td>\n",
       "      <td>97974</td>\n",
       "      <td>51133</td>\n",
       "      <td>5213</td>\n",
       "      <td>59093</td>\n",
       "      <td>94105</td>\n",
       "      <td>90216</td>\n",
       "      <td>55215</td>\n",
       "    </tr>\n",
       "    <tr>\n",
       "      <th>362037</th>\n",
       "      <td>1281</td>\n",
       "      <td>85050</td>\n",
       "      <td>9124</td>\n",
       "      <td>76449</td>\n",
       "      <td>25998</td>\n",
       "      <td>35797</td>\n",
       "      <td>75593</td>\n",
       "      <td>57287</td>\n",
       "      <td>43051</td>\n",
       "      <td>73564</td>\n",
       "    </tr>\n",
       "    <tr>\n",
       "      <th>256524</th>\n",
       "      <td>36957</td>\n",
       "      <td>83492</td>\n",
       "      <td>95563</td>\n",
       "      <td>40</td>\n",
       "      <td>619</td>\n",
       "      <td>99915</td>\n",
       "      <td>512</td>\n",
       "      <td>82225</td>\n",
       "      <td>26955</td>\n",
       "      <td>85783</td>\n",
       "    </tr>\n",
       "    <tr>\n",
       "      <th>902524</th>\n",
       "      <td>34128</td>\n",
       "      <td>59224</td>\n",
       "      <td>79474</td>\n",
       "      <td>4665</td>\n",
       "      <td>79120</td>\n",
       "      <td>45528</td>\n",
       "      <td>64093</td>\n",
       "      <td>2095</td>\n",
       "      <td>9949</td>\n",
       "      <td>53833</td>\n",
       "    </tr>\n",
       "    <tr>\n",
       "      <th>450562</th>\n",
       "      <td>34571</td>\n",
       "      <td>45988</td>\n",
       "      <td>24448</td>\n",
       "      <td>84691</td>\n",
       "      <td>89289</td>\n",
       "      <td>74803</td>\n",
       "      <td>34792</td>\n",
       "      <td>17783</td>\n",
       "      <td>30686</td>\n",
       "      <td>33968</td>\n",
       "    </tr>\n",
       "    <tr>\n",
       "      <th>437472</th>\n",
       "      <td>19807</td>\n",
       "      <td>52606</td>\n",
       "      <td>74911</td>\n",
       "      <td>89874</td>\n",
       "      <td>41968</td>\n",
       "      <td>66935</td>\n",
       "      <td>20138</td>\n",
       "      <td>53089</td>\n",
       "      <td>90871</td>\n",
       "      <td>39094</td>\n",
       "    </tr>\n",
       "    <tr>\n",
       "      <th>410030</th>\n",
       "      <td>19608</td>\n",
       "      <td>57740</td>\n",
       "      <td>65381</td>\n",
       "      <td>43011</td>\n",
       "      <td>60003</td>\n",
       "      <td>44152</td>\n",
       "      <td>34052</td>\n",
       "      <td>57878</td>\n",
       "      <td>94813</td>\n",
       "      <td>23285</td>\n",
       "    </tr>\n",
       "  </tbody>\n",
       "</table>\n",
       "</div>"
      ],
      "text/plain": [
       "            A      B      C      D      E      F      G      H      I      J\n",
       "49614   94075  24661  23378  24230  27032  33504  35277  73068  75167  33980\n",
       "313494  96644  20739   8026  98002  19056  60357  28669  97885  54998  32071\n",
       "801777  33621  62144  93678  18623  87417  76484  94160  75744   7220  74397\n",
       "207320  66179  58940  84308  97974  51133   5213  59093  94105  90216  55215\n",
       "362037   1281  85050   9124  76449  25998  35797  75593  57287  43051  73564\n",
       "256524  36957  83492  95563     40    619  99915    512  82225  26955  85783\n",
       "902524  34128  59224  79474   4665  79120  45528  64093   2095   9949  53833\n",
       "450562  34571  45988  24448  84691  89289  74803  34792  17783  30686  33968\n",
       "437472  19807  52606  74911  89874  41968  66935  20138  53089  90871  39094\n",
       "410030  19608  57740  65381  43011  60003  44152  34052  57878  94813  23285"
      ]
     },
     "execution_count": 4,
     "metadata": {},
     "output_type": "execute_result"
    }
   ],
   "source": [
    "df.sample(10)"
   ]
  },
  {
   "cell_type": "code",
   "execution_count": 5,
   "metadata": {
    "ExecuteTime": {
     "end_time": "2021-05-31T09:52:50.016696Z",
     "start_time": "2021-05-31T09:52:49.955731Z"
    },
    "scrolled": true
   },
   "outputs": [
    {
     "data": {
      "text/html": [
       "<div>\n",
       "<style scoped>\n",
       "    .dataframe tbody tr th:only-of-type {\n",
       "        vertical-align: middle;\n",
       "    }\n",
       "\n",
       "    .dataframe tbody tr th {\n",
       "        vertical-align: top;\n",
       "    }\n",
       "\n",
       "    .dataframe thead th {\n",
       "        text-align: right;\n",
       "    }\n",
       "</style>\n",
       "<table border=\"1\" class=\"dataframe\">\n",
       "  <thead>\n",
       "    <tr style=\"text-align: right;\">\n",
       "      <th></th>\n",
       "      <th>A</th>\n",
       "      <th>B</th>\n",
       "      <th>C</th>\n",
       "      <th>D</th>\n",
       "      <th>E</th>\n",
       "      <th>F</th>\n",
       "      <th>G</th>\n",
       "      <th>H</th>\n",
       "      <th>I</th>\n",
       "      <th>J</th>\n",
       "    </tr>\n",
       "  </thead>\n",
       "  <tbody>\n",
       "    <tr>\n",
       "      <th>617759</th>\n",
       "      <td>33190</td>\n",
       "      <td>57725</td>\n",
       "      <td>98819</td>\n",
       "      <td>57294</td>\n",
       "      <td>67089</td>\n",
       "      <td>21496</td>\n",
       "      <td>25659</td>\n",
       "      <td>52427</td>\n",
       "      <td>15710</td>\n",
       "      <td>85309</td>\n",
       "    </tr>\n",
       "    <tr>\n",
       "      <th>693227</th>\n",
       "      <td>38586</td>\n",
       "      <td>77607</td>\n",
       "      <td>36881</td>\n",
       "      <td>28301</td>\n",
       "      <td>94436</td>\n",
       "      <td>26939</td>\n",
       "      <td>59125</td>\n",
       "      <td>85574</td>\n",
       "      <td>12466</td>\n",
       "      <td>28805</td>\n",
       "    </tr>\n",
       "    <tr>\n",
       "      <th>906065</th>\n",
       "      <td>92932</td>\n",
       "      <td>24925</td>\n",
       "      <td>42064</td>\n",
       "      <td>4795</td>\n",
       "      <td>54026</td>\n",
       "      <td>96842</td>\n",
       "      <td>99653</td>\n",
       "      <td>72207</td>\n",
       "      <td>75093</td>\n",
       "      <td>56783</td>\n",
       "    </tr>\n",
       "    <tr>\n",
       "      <th>828507</th>\n",
       "      <td>82062</td>\n",
       "      <td>8530</td>\n",
       "      <td>53833</td>\n",
       "      <td>26376</td>\n",
       "      <td>72640</td>\n",
       "      <td>63965</td>\n",
       "      <td>55344</td>\n",
       "      <td>60250</td>\n",
       "      <td>15468</td>\n",
       "      <td>5987</td>\n",
       "    </tr>\n",
       "    <tr>\n",
       "      <th>869730</th>\n",
       "      <td>82043</td>\n",
       "      <td>92690</td>\n",
       "      <td>96169</td>\n",
       "      <td>51396</td>\n",
       "      <td>15714</td>\n",
       "      <td>34238</td>\n",
       "      <td>61147</td>\n",
       "      <td>82708</td>\n",
       "      <td>86537</td>\n",
       "      <td>956</td>\n",
       "    </tr>\n",
       "    <tr>\n",
       "      <th>147081</th>\n",
       "      <td>12570</td>\n",
       "      <td>24219</td>\n",
       "      <td>22660</td>\n",
       "      <td>79479</td>\n",
       "      <td>18654</td>\n",
       "      <td>54916</td>\n",
       "      <td>48622</td>\n",
       "      <td>89274</td>\n",
       "      <td>80954</td>\n",
       "      <td>76952</td>\n",
       "    </tr>\n",
       "    <tr>\n",
       "      <th>779428</th>\n",
       "      <td>78429</td>\n",
       "      <td>22009</td>\n",
       "      <td>70252</td>\n",
       "      <td>60722</td>\n",
       "      <td>45820</td>\n",
       "      <td>24679</td>\n",
       "      <td>64829</td>\n",
       "      <td>67607</td>\n",
       "      <td>8495</td>\n",
       "      <td>68025</td>\n",
       "    </tr>\n",
       "    <tr>\n",
       "      <th>485973</th>\n",
       "      <td>97966</td>\n",
       "      <td>41613</td>\n",
       "      <td>94029</td>\n",
       "      <td>85917</td>\n",
       "      <td>19657</td>\n",
       "      <td>16262</td>\n",
       "      <td>24218</td>\n",
       "      <td>22621</td>\n",
       "      <td>42150</td>\n",
       "      <td>43740</td>\n",
       "    </tr>\n",
       "    <tr>\n",
       "      <th>30697</th>\n",
       "      <td>98538</td>\n",
       "      <td>51608</td>\n",
       "      <td>72921</td>\n",
       "      <td>48896</td>\n",
       "      <td>60275</td>\n",
       "      <td>52579</td>\n",
       "      <td>43775</td>\n",
       "      <td>66175</td>\n",
       "      <td>50632</td>\n",
       "      <td>23043</td>\n",
       "    </tr>\n",
       "    <tr>\n",
       "      <th>306669</th>\n",
       "      <td>76091</td>\n",
       "      <td>93181</td>\n",
       "      <td>3936</td>\n",
       "      <td>4645</td>\n",
       "      <td>44794</td>\n",
       "      <td>47208</td>\n",
       "      <td>90875</td>\n",
       "      <td>11094</td>\n",
       "      <td>96196</td>\n",
       "      <td>69760</td>\n",
       "    </tr>\n",
       "  </tbody>\n",
       "</table>\n",
       "</div>"
      ],
      "text/plain": [
       "            A      B      C      D      E      F      G      H      I      J\n",
       "617759  33190  57725  98819  57294  67089  21496  25659  52427  15710  85309\n",
       "693227  38586  77607  36881  28301  94436  26939  59125  85574  12466  28805\n",
       "906065  92932  24925  42064   4795  54026  96842  99653  72207  75093  56783\n",
       "828507  82062   8530  53833  26376  72640  63965  55344  60250  15468   5987\n",
       "869730  82043  92690  96169  51396  15714  34238  61147  82708  86537    956\n",
       "147081  12570  24219  22660  79479  18654  54916  48622  89274  80954  76952\n",
       "779428  78429  22009  70252  60722  45820  24679  64829  67607   8495  68025\n",
       "485973  97966  41613  94029  85917  19657  16262  24218  22621  42150  43740\n",
       "30697   98538  51608  72921  48896  60275  52579  43775  66175  50632  23043\n",
       "306669  76091  93181   3936   4645  44794  47208  90875  11094  96196  69760"
      ]
     },
     "execution_count": 5,
     "metadata": {},
     "output_type": "execute_result"
    }
   ],
   "source": [
    "df.sample(10, random_state=100)"
   ]
  },
  {
   "cell_type": "code",
   "execution_count": 6,
   "metadata": {
    "ExecuteTime": {
     "end_time": "2021-05-31T09:53:12.039004Z",
     "start_time": "2021-05-31T09:53:11.970040Z"
    },
    "scrolled": false
   },
   "outputs": [
    {
     "data": {
      "text/html": [
       "<div>\n",
       "<style scoped>\n",
       "    .dataframe tbody tr th:only-of-type {\n",
       "        vertical-align: middle;\n",
       "    }\n",
       "\n",
       "    .dataframe tbody tr th {\n",
       "        vertical-align: top;\n",
       "    }\n",
       "\n",
       "    .dataframe thead th {\n",
       "        text-align: right;\n",
       "    }\n",
       "</style>\n",
       "<table border=\"1\" class=\"dataframe\">\n",
       "  <thead>\n",
       "    <tr style=\"text-align: right;\">\n",
       "      <th></th>\n",
       "      <th>A</th>\n",
       "      <th>B</th>\n",
       "      <th>C</th>\n",
       "      <th>D</th>\n",
       "      <th>E</th>\n",
       "      <th>F</th>\n",
       "      <th>G</th>\n",
       "      <th>H</th>\n",
       "      <th>I</th>\n",
       "      <th>J</th>\n",
       "    </tr>\n",
       "  </thead>\n",
       "  <tbody>\n",
       "    <tr>\n",
       "      <th>617759</th>\n",
       "      <td>33190</td>\n",
       "      <td>57725</td>\n",
       "      <td>98819</td>\n",
       "      <td>57294</td>\n",
       "      <td>67089</td>\n",
       "      <td>21496</td>\n",
       "      <td>25659</td>\n",
       "      <td>52427</td>\n",
       "      <td>15710</td>\n",
       "      <td>85309</td>\n",
       "    </tr>\n",
       "    <tr>\n",
       "      <th>693227</th>\n",
       "      <td>38586</td>\n",
       "      <td>77607</td>\n",
       "      <td>36881</td>\n",
       "      <td>28301</td>\n",
       "      <td>94436</td>\n",
       "      <td>26939</td>\n",
       "      <td>59125</td>\n",
       "      <td>85574</td>\n",
       "      <td>12466</td>\n",
       "      <td>28805</td>\n",
       "    </tr>\n",
       "    <tr>\n",
       "      <th>906065</th>\n",
       "      <td>92932</td>\n",
       "      <td>24925</td>\n",
       "      <td>42064</td>\n",
       "      <td>4795</td>\n",
       "      <td>54026</td>\n",
       "      <td>96842</td>\n",
       "      <td>99653</td>\n",
       "      <td>72207</td>\n",
       "      <td>75093</td>\n",
       "      <td>56783</td>\n",
       "    </tr>\n",
       "    <tr>\n",
       "      <th>828507</th>\n",
       "      <td>82062</td>\n",
       "      <td>8530</td>\n",
       "      <td>53833</td>\n",
       "      <td>26376</td>\n",
       "      <td>72640</td>\n",
       "      <td>63965</td>\n",
       "      <td>55344</td>\n",
       "      <td>60250</td>\n",
       "      <td>15468</td>\n",
       "      <td>5987</td>\n",
       "    </tr>\n",
       "    <tr>\n",
       "      <th>869730</th>\n",
       "      <td>82043</td>\n",
       "      <td>92690</td>\n",
       "      <td>96169</td>\n",
       "      <td>51396</td>\n",
       "      <td>15714</td>\n",
       "      <td>34238</td>\n",
       "      <td>61147</td>\n",
       "      <td>82708</td>\n",
       "      <td>86537</td>\n",
       "      <td>956</td>\n",
       "    </tr>\n",
       "    <tr>\n",
       "      <th>...</th>\n",
       "      <td>...</td>\n",
       "      <td>...</td>\n",
       "      <td>...</td>\n",
       "      <td>...</td>\n",
       "      <td>...</td>\n",
       "      <td>...</td>\n",
       "      <td>...</td>\n",
       "      <td>...</td>\n",
       "      <td>...</td>\n",
       "      <td>...</td>\n",
       "    </tr>\n",
       "    <tr>\n",
       "      <th>599633</th>\n",
       "      <td>56838</td>\n",
       "      <td>23351</td>\n",
       "      <td>75841</td>\n",
       "      <td>87933</td>\n",
       "      <td>6274</td>\n",
       "      <td>49807</td>\n",
       "      <td>18356</td>\n",
       "      <td>70399</td>\n",
       "      <td>23447</td>\n",
       "      <td>8421</td>\n",
       "    </tr>\n",
       "    <tr>\n",
       "      <th>103907</th>\n",
       "      <td>82476</td>\n",
       "      <td>8931</td>\n",
       "      <td>64540</td>\n",
       "      <td>18003</td>\n",
       "      <td>6504</td>\n",
       "      <td>10273</td>\n",
       "      <td>80333</td>\n",
       "      <td>52297</td>\n",
       "      <td>18903</td>\n",
       "      <td>25830</td>\n",
       "    </tr>\n",
       "    <tr>\n",
       "      <th>536846</th>\n",
       "      <td>830</td>\n",
       "      <td>8237</td>\n",
       "      <td>6704</td>\n",
       "      <td>44575</td>\n",
       "      <td>13057</td>\n",
       "      <td>3183</td>\n",
       "      <td>19243</td>\n",
       "      <td>6237</td>\n",
       "      <td>20639</td>\n",
       "      <td>10880</td>\n",
       "    </tr>\n",
       "    <tr>\n",
       "      <th>68354</th>\n",
       "      <td>50100</td>\n",
       "      <td>98682</td>\n",
       "      <td>65106</td>\n",
       "      <td>8722</td>\n",
       "      <td>95823</td>\n",
       "      <td>12189</td>\n",
       "      <td>5222</td>\n",
       "      <td>57643</td>\n",
       "      <td>95399</td>\n",
       "      <td>72551</td>\n",
       "    </tr>\n",
       "    <tr>\n",
       "      <th>762302</th>\n",
       "      <td>50263</td>\n",
       "      <td>46471</td>\n",
       "      <td>81906</td>\n",
       "      <td>76645</td>\n",
       "      <td>56225</td>\n",
       "      <td>38431</td>\n",
       "      <td>3442</td>\n",
       "      <td>64974</td>\n",
       "      <td>76182</td>\n",
       "      <td>76475</td>\n",
       "    </tr>\n",
       "  </tbody>\n",
       "</table>\n",
       "<p>100000 rows × 10 columns</p>\n",
       "</div>"
      ],
      "text/plain": [
       "            A      B      C      D      E      F      G      H      I      J\n",
       "617759  33190  57725  98819  57294  67089  21496  25659  52427  15710  85309\n",
       "693227  38586  77607  36881  28301  94436  26939  59125  85574  12466  28805\n",
       "906065  92932  24925  42064   4795  54026  96842  99653  72207  75093  56783\n",
       "828507  82062   8530  53833  26376  72640  63965  55344  60250  15468   5987\n",
       "869730  82043  92690  96169  51396  15714  34238  61147  82708  86537    956\n",
       "...       ...    ...    ...    ...    ...    ...    ...    ...    ...    ...\n",
       "599633  56838  23351  75841  87933   6274  49807  18356  70399  23447   8421\n",
       "103907  82476   8931  64540  18003   6504  10273  80333  52297  18903  25830\n",
       "536846    830   8237   6704  44575  13057   3183  19243   6237  20639  10880\n",
       "68354   50100  98682  65106   8722  95823  12189   5222  57643  95399  72551\n",
       "762302  50263  46471  81906  76645  56225  38431   3442  64974  76182  76475\n",
       "\n",
       "[100000 rows x 10 columns]"
      ]
     },
     "execution_count": 6,
     "metadata": {},
     "output_type": "execute_result"
    }
   ],
   "source": [
    "df.sample(frac=0.1, random_state=100)"
   ]
  },
  {
   "cell_type": "markdown",
   "metadata": {},
   "source": [
    "# 4. Manipulação de strings - métodos <a name=\"strings\"></a>\n",
    "<div style=\"text-align: right\"\n",
    "     \n",
    "[Voltar ao índice](#Contents)"
   ]
  },
  {
   "cell_type": "code",
   "execution_count": 7,
   "metadata": {
    "ExecuteTime": {
     "end_time": "2021-05-31T10:15:36.733921Z",
     "start_time": "2021-05-31T10:15:36.725926Z"
    }
   },
   "outputs": [],
   "source": [
    "texto = 'texto'"
   ]
  },
  {
   "cell_type": "code",
   "execution_count": 8,
   "metadata": {
    "ExecuteTime": {
     "end_time": "2021-05-31T10:15:41.550985Z",
     "start_time": "2021-05-31T10:15:41.536019Z"
    }
   },
   "outputs": [
    {
     "data": {
      "text/plain": [
       "'otxet'"
      ]
     },
     "execution_count": 8,
     "metadata": {},
     "output_type": "execute_result"
    }
   ],
   "source": [
    "texto[::-1]"
   ]
  },
  {
   "cell_type": "code",
   "execution_count": 9,
   "metadata": {
    "ExecuteTime": {
     "end_time": "2021-05-31T10:19:25.536743Z",
     "start_time": "2021-05-31T10:19:25.522752Z"
    }
   },
   "outputs": [],
   "source": [
    "palindromo = 'apos a sopa'"
   ]
  },
  {
   "cell_type": "code",
   "execution_count": 10,
   "metadata": {
    "ExecuteTime": {
     "end_time": "2021-05-31T10:19:26.240953Z",
     "start_time": "2021-05-31T10:19:26.225962Z"
    }
   },
   "outputs": [
    {
     "data": {
      "text/plain": [
       "'apos a sopa'"
      ]
     },
     "execution_count": 10,
     "metadata": {},
     "output_type": "execute_result"
    }
   ],
   "source": [
    "palindromo[::-1]"
   ]
  },
  {
   "cell_type": "code",
   "execution_count": 11,
   "metadata": {
    "ExecuteTime": {
     "end_time": "2021-06-01T09:56:36.677981Z",
     "start_time": "2021-06-01T09:56:36.662980Z"
    }
   },
   "outputs": [
    {
     "data": {
      "text/plain": [
       "'Texto'"
      ]
     },
     "execution_count": 11,
     "metadata": {},
     "output_type": "execute_result"
    }
   ],
   "source": [
    "texto = 'teXTO'\n",
    "texto.capitalize()"
   ]
  },
  {
   "cell_type": "code",
   "execution_count": 12,
   "metadata": {
    "ExecuteTime": {
     "end_time": "2021-06-01T09:56:49.873292Z",
     "start_time": "2021-06-01T09:56:49.864296Z"
    }
   },
   "outputs": [
    {
     "data": {
      "text/plain": [
       "'texto'"
      ]
     },
     "execution_count": 12,
     "metadata": {},
     "output_type": "execute_result"
    }
   ],
   "source": [
    "texto.lower()"
   ]
  },
  {
   "cell_type": "code",
   "execution_count": 13,
   "metadata": {
    "ExecuteTime": {
     "end_time": "2021-06-01T09:59:28.909681Z",
     "start_time": "2021-06-01T09:59:28.895687Z"
    }
   },
   "outputs": [
    {
     "data": {
      "text/plain": [
       "'TEXTO'"
      ]
     },
     "execution_count": 13,
     "metadata": {},
     "output_type": "execute_result"
    }
   ],
   "source": [
    "texto.upper()"
   ]
  },
  {
   "cell_type": "code",
   "execution_count": 14,
   "metadata": {
    "ExecuteTime": {
     "end_time": "2021-06-01T10:02:02.244478Z",
     "start_time": "2021-06-01T10:02:02.231486Z"
    }
   },
   "outputs": [
    {
     "data": {
      "text/plain": [
       "2"
      ]
     },
     "execution_count": 14,
     "metadata": {},
     "output_type": "execute_result"
    }
   ],
   "source": [
    "# S.find(sub[, start[, end]]) -> int\n",
    "texto.find('X')"
   ]
  },
  {
   "cell_type": "code",
   "execution_count": 15,
   "metadata": {
    "ExecuteTime": {
     "end_time": "2021-06-01T10:16:22.092756Z",
     "start_time": "2021-06-01T10:16:22.076776Z"
    }
   },
   "outputs": [
    {
     "data": {
      "text/plain": [
       "'X'"
      ]
     },
     "execution_count": 15,
     "metadata": {},
     "output_type": "execute_result"
    }
   ],
   "source": [
    "texto[2]"
   ]
  },
  {
   "cell_type": "code",
   "execution_count": 16,
   "metadata": {
    "ExecuteTime": {
     "end_time": "2021-06-01T10:02:03.055975Z",
     "start_time": "2021-06-01T10:02:03.038984Z"
    }
   },
   "outputs": [
    {
     "data": {
      "text/plain": [
       "-1"
      ]
     },
     "execution_count": 16,
     "metadata": {},
     "output_type": "execute_result"
    }
   ],
   "source": [
    "#S.find(sub[, start[, end]]) -> int\n",
    "texto.find('x')"
   ]
  },
  {
   "cell_type": "code",
   "execution_count": 17,
   "metadata": {
    "ExecuteTime": {
     "end_time": "2021-06-01T10:07:22.993769Z",
     "start_time": "2021-06-01T10:07:22.976796Z"
    }
   },
   "outputs": [
    {
     "data": {
      "text/plain": [
       "'testa'"
      ]
     },
     "execution_count": 17,
     "metadata": {},
     "output_type": "execute_result"
    }
   ],
   "source": [
    "#texto.replace(antigo, novo)\n",
    "texto.replace('XTO','sta')"
   ]
  },
  {
   "cell_type": "code",
   "execution_count": null,
   "metadata": {},
   "outputs": [],
   "source": []
  }
 ],
 "metadata": {
  "kernelspec": {
   "display_name": "Python 3 (ipykernel)",
   "language": "python",
   "name": "python3"
  },
  "language_info": {
   "codemirror_mode": {
    "name": "ipython",
    "version": 3
   },
   "file_extension": ".py",
   "mimetype": "text/x-python",
   "name": "python",
   "nbconvert_exporter": "python",
   "pygments_lexer": "ipython3",
   "version": "3.11.2"
  },
  "varInspector": {
   "cols": {
    "lenName": 16,
    "lenType": 16,
    "lenVar": 40
   },
   "kernels_config": {
    "python": {
     "delete_cmd_postfix": "",
     "delete_cmd_prefix": "del ",
     "library": "var_list.py",
     "varRefreshCmd": "print(var_dic_list())"
    },
    "r": {
     "delete_cmd_postfix": ") ",
     "delete_cmd_prefix": "rm(",
     "library": "var_list.r",
     "varRefreshCmd": "cat(var_dic_list()) "
    }
   },
   "types_to_exclude": [
    "module",
    "function",
    "builtin_function_or_method",
    "instance",
    "_Feature"
   ],
   "window_display": false
  }
 },
 "nbformat": 4,
 "nbformat_minor": 4
}
