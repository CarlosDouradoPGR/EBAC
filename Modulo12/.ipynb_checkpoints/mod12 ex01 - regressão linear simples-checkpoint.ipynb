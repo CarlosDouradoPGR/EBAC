{
 "cells": [
  {
   "cell_type": "markdown",
   "metadata": {},
   "source": [
    "# Regressão 01 - tarefa 01"
   ]
  },
  {
   "cell_type": "markdown",
   "metadata": {},
   "source": [
    "### 1. Explorando a base de gorjetas\n",
    "\n",
    "a. Na aula fizemos uma regressão de ```tip``` explicada por ```net_bill```. Carregue os pacotes e a base, crie as variáveis necessárias como na aula, e reproduza esta regressão.\n",
    "\n",
    "b. Reproduza também o gráfico de dispersão dessas duas variáveis."
   ]
  },
  {
   "cell_type": "code",
   "execution_count": 1,
   "metadata": {},
   "outputs": [],
   "source": [
    "import pandas as pd\n",
    "import seaborn as sns\n",
    "from seaborn import load_dataset\n",
    "from sklearn.metrics import r2_score\n",
    "from sklearn.model_selection import train_test_split\n",
    "import matplotlib.pyplot as plt\n",
    "\n",
    "import numpy as np\n",
    "\n",
    "import statsmodels.formula.api as smf\n"
   ]
  },
  {
   "cell_type": "code",
   "execution_count": 2,
   "metadata": {
    "scrolled": true
   },
   "outputs": [
    {
     "data": {
      "text/html": [
       "<div>\n",
       "<style scoped>\n",
       "    .dataframe tbody tr th:only-of-type {\n",
       "        vertical-align: middle;\n",
       "    }\n",
       "\n",
       "    .dataframe tbody tr th {\n",
       "        vertical-align: top;\n",
       "    }\n",
       "\n",
       "    .dataframe thead th {\n",
       "        text-align: right;\n",
       "    }\n",
       "</style>\n",
       "<table border=\"1\" class=\"dataframe\">\n",
       "  <thead>\n",
       "    <tr style=\"text-align: right;\">\n",
       "      <th></th>\n",
       "      <th>total_bill</th>\n",
       "      <th>tip</th>\n",
       "      <th>sex</th>\n",
       "      <th>smoker</th>\n",
       "      <th>day</th>\n",
       "      <th>time</th>\n",
       "      <th>size</th>\n",
       "      <th>tip_pct</th>\n",
       "      <th>net_bill</th>\n",
       "    </tr>\n",
       "  </thead>\n",
       "  <tbody>\n",
       "    <tr>\n",
       "      <th>0</th>\n",
       "      <td>16.99</td>\n",
       "      <td>1.01</td>\n",
       "      <td>Female</td>\n",
       "      <td>No</td>\n",
       "      <td>Sun</td>\n",
       "      <td>Dinner</td>\n",
       "      <td>2</td>\n",
       "      <td>0.063204</td>\n",
       "      <td>15.98</td>\n",
       "    </tr>\n",
       "    <tr>\n",
       "      <th>1</th>\n",
       "      <td>10.34</td>\n",
       "      <td>1.66</td>\n",
       "      <td>Male</td>\n",
       "      <td>No</td>\n",
       "      <td>Sun</td>\n",
       "      <td>Dinner</td>\n",
       "      <td>3</td>\n",
       "      <td>0.191244</td>\n",
       "      <td>8.68</td>\n",
       "    </tr>\n",
       "    <tr>\n",
       "      <th>2</th>\n",
       "      <td>21.01</td>\n",
       "      <td>3.50</td>\n",
       "      <td>Male</td>\n",
       "      <td>No</td>\n",
       "      <td>Sun</td>\n",
       "      <td>Dinner</td>\n",
       "      <td>3</td>\n",
       "      <td>0.199886</td>\n",
       "      <td>17.51</td>\n",
       "    </tr>\n",
       "    <tr>\n",
       "      <th>3</th>\n",
       "      <td>23.68</td>\n",
       "      <td>3.31</td>\n",
       "      <td>Male</td>\n",
       "      <td>No</td>\n",
       "      <td>Sun</td>\n",
       "      <td>Dinner</td>\n",
       "      <td>2</td>\n",
       "      <td>0.162494</td>\n",
       "      <td>20.37</td>\n",
       "    </tr>\n",
       "    <tr>\n",
       "      <th>4</th>\n",
       "      <td>24.59</td>\n",
       "      <td>3.61</td>\n",
       "      <td>Female</td>\n",
       "      <td>No</td>\n",
       "      <td>Sun</td>\n",
       "      <td>Dinner</td>\n",
       "      <td>4</td>\n",
       "      <td>0.172069</td>\n",
       "      <td>20.98</td>\n",
       "    </tr>\n",
       "  </tbody>\n",
       "</table>\n",
       "</div>"
      ],
      "text/plain": [
       "   total_bill   tip     sex smoker  day    time  size   tip_pct  net_bill\n",
       "0       16.99  1.01  Female     No  Sun  Dinner     2  0.063204     15.98\n",
       "1       10.34  1.66    Male     No  Sun  Dinner     3  0.191244      8.68\n",
       "2       21.01  3.50    Male     No  Sun  Dinner     3  0.199886     17.51\n",
       "3       23.68  3.31    Male     No  Sun  Dinner     2  0.162494     20.37\n",
       "4       24.59  3.61  Female     No  Sun  Dinner     4  0.172069     20.98"
      ]
     },
     "execution_count": 2,
     "metadata": {},
     "output_type": "execute_result"
    }
   ],
   "source": [
    "tips = load_dataset(\"tips\")\n",
    "tips[\"tip_pct\"] = tips[\"tip\"] / (tips[\"total_bill\"] - tips[\"tip\"])\n",
    "tips[\"net_bill\"] = tips[\"total_bill\"] - tips[\"tip\"]\n",
    "tips.head()"
   ]
  },
  {
   "cell_type": "code",
   "execution_count": 3,
   "metadata": {
    "scrolled": true
   },
   "outputs": [
    {
     "data": {
      "text/plain": [
       "total_bill    0\n",
       "tip           0\n",
       "sex           0\n",
       "smoker        0\n",
       "day           0\n",
       "time          0\n",
       "size          0\n",
       "tip_pct       0\n",
       "net_bill      0\n",
       "dtype: int64"
      ]
     },
     "execution_count": 3,
     "metadata": {},
     "output_type": "execute_result"
    }
   ],
   "source": [
    "tips.isna().sum()"
   ]
  },
  {
   "cell_type": "code",
   "execution_count": 4,
   "metadata": {},
   "outputs": [],
   "source": [
    "data_train = tips[:80]"
   ]
  },
  {
   "cell_type": "code",
   "execution_count": 5,
   "metadata": {},
   "outputs": [
    {
     "data": {
      "text/html": [
       "<div>\n",
       "<style scoped>\n",
       "    .dataframe tbody tr th:only-of-type {\n",
       "        vertical-align: middle;\n",
       "    }\n",
       "\n",
       "    .dataframe tbody tr th {\n",
       "        vertical-align: top;\n",
       "    }\n",
       "\n",
       "    .dataframe thead th {\n",
       "        text-align: right;\n",
       "    }\n",
       "</style>\n",
       "<table border=\"1\" class=\"dataframe\">\n",
       "  <thead>\n",
       "    <tr style=\"text-align: right;\">\n",
       "      <th></th>\n",
       "      <th>total_bill</th>\n",
       "      <th>tip</th>\n",
       "      <th>sex</th>\n",
       "      <th>smoker</th>\n",
       "      <th>day</th>\n",
       "      <th>time</th>\n",
       "      <th>size</th>\n",
       "      <th>tip_pct</th>\n",
       "      <th>net_bill</th>\n",
       "    </tr>\n",
       "  </thead>\n",
       "  <tbody>\n",
       "    <tr>\n",
       "      <th>0</th>\n",
       "      <td>16.99</td>\n",
       "      <td>1.01</td>\n",
       "      <td>Female</td>\n",
       "      <td>No</td>\n",
       "      <td>Sun</td>\n",
       "      <td>Dinner</td>\n",
       "      <td>2</td>\n",
       "      <td>0.063204</td>\n",
       "      <td>15.98</td>\n",
       "    </tr>\n",
       "    <tr>\n",
       "      <th>1</th>\n",
       "      <td>10.34</td>\n",
       "      <td>1.66</td>\n",
       "      <td>Male</td>\n",
       "      <td>No</td>\n",
       "      <td>Sun</td>\n",
       "      <td>Dinner</td>\n",
       "      <td>3</td>\n",
       "      <td>0.191244</td>\n",
       "      <td>8.68</td>\n",
       "    </tr>\n",
       "    <tr>\n",
       "      <th>2</th>\n",
       "      <td>21.01</td>\n",
       "      <td>3.50</td>\n",
       "      <td>Male</td>\n",
       "      <td>No</td>\n",
       "      <td>Sun</td>\n",
       "      <td>Dinner</td>\n",
       "      <td>3</td>\n",
       "      <td>0.199886</td>\n",
       "      <td>17.51</td>\n",
       "    </tr>\n",
       "    <tr>\n",
       "      <th>3</th>\n",
       "      <td>23.68</td>\n",
       "      <td>3.31</td>\n",
       "      <td>Male</td>\n",
       "      <td>No</td>\n",
       "      <td>Sun</td>\n",
       "      <td>Dinner</td>\n",
       "      <td>2</td>\n",
       "      <td>0.162494</td>\n",
       "      <td>20.37</td>\n",
       "    </tr>\n",
       "    <tr>\n",
       "      <th>4</th>\n",
       "      <td>24.59</td>\n",
       "      <td>3.61</td>\n",
       "      <td>Female</td>\n",
       "      <td>No</td>\n",
       "      <td>Sun</td>\n",
       "      <td>Dinner</td>\n",
       "      <td>4</td>\n",
       "      <td>0.172069</td>\n",
       "      <td>20.98</td>\n",
       "    </tr>\n",
       "  </tbody>\n",
       "</table>\n",
       "</div>"
      ],
      "text/plain": [
       "   total_bill   tip     sex smoker  day    time  size   tip_pct  net_bill\n",
       "0       16.99  1.01  Female     No  Sun  Dinner     2  0.063204     15.98\n",
       "1       10.34  1.66    Male     No  Sun  Dinner     3  0.191244      8.68\n",
       "2       21.01  3.50    Male     No  Sun  Dinner     3  0.199886     17.51\n",
       "3       23.68  3.31    Male     No  Sun  Dinner     2  0.162494     20.37\n",
       "4       24.59  3.61  Female     No  Sun  Dinner     4  0.172069     20.98"
      ]
     },
     "execution_count": 5,
     "metadata": {},
     "output_type": "execute_result"
    }
   ],
   "source": [
    "data_train.head()"
   ]
  },
  {
   "cell_type": "code",
   "execution_count": 7,
   "metadata": {
    "scrolled": false
   },
   "outputs": [
    {
     "data": {
      "text/html": [
       "<table class=\"simpletable\">\n",
       "<caption>OLS Regression Results</caption>\n",
       "<tr>\n",
       "  <th>Dep. Variable:</th>           <td>tip</td>       <th>  R-squared:         </th> <td>   0.510</td>\n",
       "</tr>\n",
       "<tr>\n",
       "  <th>Model:</th>                   <td>OLS</td>       <th>  Adj. R-squared:    </th> <td>   0.504</td>\n",
       "</tr>\n",
       "<tr>\n",
       "  <th>Method:</th>             <td>Least Squares</td>  <th>  F-statistic:       </th> <td>   81.33</td>\n",
       "</tr>\n",
       "<tr>\n",
       "  <th>Date:</th>             <td>Tue, 06 Jun 2023</td> <th>  Prob (F-statistic):</th> <td>9.94e-14</td>\n",
       "</tr>\n",
       "<tr>\n",
       "  <th>Time:</th>                 <td>22:29:41</td>     <th>  Log-Likelihood:    </th> <td> -103.96</td>\n",
       "</tr>\n",
       "<tr>\n",
       "  <th>No. Observations:</th>      <td>    80</td>      <th>  AIC:               </th> <td>   211.9</td>\n",
       "</tr>\n",
       "<tr>\n",
       "  <th>Df Residuals:</th>          <td>    78</td>      <th>  BIC:               </th> <td>   216.7</td>\n",
       "</tr>\n",
       "<tr>\n",
       "  <th>Df Model:</th>              <td>     1</td>      <th>                     </th>     <td> </td>   \n",
       "</tr>\n",
       "<tr>\n",
       "  <th>Covariance Type:</th>      <td>nonrobust</td>    <th>                     </th>     <td> </td>   \n",
       "</tr>\n",
       "</table>\n",
       "<table class=\"simpletable\">\n",
       "<tr>\n",
       "      <td></td>         <th>coef</th>     <th>std err</th>      <th>t</th>      <th>P>|t|</th>  <th>[0.025</th>    <th>0.975]</th>  \n",
       "</tr>\n",
       "<tr>\n",
       "  <th>Intercept</th> <td>    0.8094</td> <td>    0.264</td> <td>    3.067</td> <td> 0.003</td> <td>    0.284</td> <td>    1.335</td>\n",
       "</tr>\n",
       "<tr>\n",
       "  <th>net_bill</th>  <td>    0.1350</td> <td>    0.015</td> <td>    9.018</td> <td> 0.000</td> <td>    0.105</td> <td>    0.165</td>\n",
       "</tr>\n",
       "</table>\n",
       "<table class=\"simpletable\">\n",
       "<tr>\n",
       "  <th>Omnibus:</th>       <td> 6.918</td> <th>  Durbin-Watson:     </th> <td>   1.904</td>\n",
       "</tr>\n",
       "<tr>\n",
       "  <th>Prob(Omnibus):</th> <td> 0.031</td> <th>  Jarque-Bera (JB):  </th> <td>   8.937</td>\n",
       "</tr>\n",
       "<tr>\n",
       "  <th>Skew:</th>          <td>-0.344</td> <th>  Prob(JB):          </th> <td>  0.0115</td>\n",
       "</tr>\n",
       "<tr>\n",
       "  <th>Kurtosis:</th>      <td> 4.486</td> <th>  Cond. No.          </th> <td>    46.5</td>\n",
       "</tr>\n",
       "</table><br/><br/>Notes:<br/>[1] Standard Errors assume that the covariance matrix of the errors is correctly specified."
      ],
      "text/latex": [
       "\\begin{center}\n",
       "\\begin{tabular}{lclc}\n",
       "\\toprule\n",
       "\\textbf{Dep. Variable:}    &       tip        & \\textbf{  R-squared:         } &     0.510   \\\\\n",
       "\\textbf{Model:}            &       OLS        & \\textbf{  Adj. R-squared:    } &     0.504   \\\\\n",
       "\\textbf{Method:}           &  Least Squares   & \\textbf{  F-statistic:       } &     81.33   \\\\\n",
       "\\textbf{Date:}             & Tue, 06 Jun 2023 & \\textbf{  Prob (F-statistic):} &  9.94e-14   \\\\\n",
       "\\textbf{Time:}             &     22:29:41     & \\textbf{  Log-Likelihood:    } &   -103.96   \\\\\n",
       "\\textbf{No. Observations:} &          80      & \\textbf{  AIC:               } &     211.9   \\\\\n",
       "\\textbf{Df Residuals:}     &          78      & \\textbf{  BIC:               } &     216.7   \\\\\n",
       "\\textbf{Df Model:}         &           1      & \\textbf{                     } &             \\\\\n",
       "\\textbf{Covariance Type:}  &    nonrobust     & \\textbf{                     } &             \\\\\n",
       "\\bottomrule\n",
       "\\end{tabular}\n",
       "\\begin{tabular}{lcccccc}\n",
       "                   & \\textbf{coef} & \\textbf{std err} & \\textbf{t} & \\textbf{P$> |$t$|$} & \\textbf{[0.025} & \\textbf{0.975]}  \\\\\n",
       "\\midrule\n",
       "\\textbf{Intercept} &       0.8094  &        0.264     &     3.067  &         0.003        &        0.284    &        1.335     \\\\\n",
       "\\textbf{net\\_bill} &       0.1350  &        0.015     &     9.018  &         0.000        &        0.105    &        0.165     \\\\\n",
       "\\bottomrule\n",
       "\\end{tabular}\n",
       "\\begin{tabular}{lclc}\n",
       "\\textbf{Omnibus:}       &  6.918 & \\textbf{  Durbin-Watson:     } &    1.904  \\\\\n",
       "\\textbf{Prob(Omnibus):} &  0.031 & \\textbf{  Jarque-Bera (JB):  } &    8.937  \\\\\n",
       "\\textbf{Skew:}          & -0.344 & \\textbf{  Prob(JB):          } &   0.0115  \\\\\n",
       "\\textbf{Kurtosis:}      &  4.486 & \\textbf{  Cond. No.          } &     46.5  \\\\\n",
       "\\bottomrule\n",
       "\\end{tabular}\n",
       "%\\caption{OLS Regression Results}\n",
       "\\end{center}\n",
       "\n",
       "Notes: \\newline\n",
       " [1] Standard Errors assume that the covariance matrix of the errors is correctly specified."
      ],
      "text/plain": [
       "<class 'statsmodels.iolib.summary.Summary'>\n",
       "\"\"\"\n",
       "                            OLS Regression Results                            \n",
       "==============================================================================\n",
       "Dep. Variable:                    tip   R-squared:                       0.510\n",
       "Model:                            OLS   Adj. R-squared:                  0.504\n",
       "Method:                 Least Squares   F-statistic:                     81.33\n",
       "Date:                Tue, 06 Jun 2023   Prob (F-statistic):           9.94e-14\n",
       "Time:                        22:29:41   Log-Likelihood:                -103.96\n",
       "No. Observations:                  80   AIC:                             211.9\n",
       "Df Residuals:                      78   BIC:                             216.7\n",
       "Df Model:                           1                                         \n",
       "Covariance Type:            nonrobust                                         \n",
       "==============================================================================\n",
       "                 coef    std err          t      P>|t|      [0.025      0.975]\n",
       "------------------------------------------------------------------------------\n",
       "Intercept      0.8094      0.264      3.067      0.003       0.284       1.335\n",
       "net_bill       0.1350      0.015      9.018      0.000       0.105       0.165\n",
       "==============================================================================\n",
       "Omnibus:                        6.918   Durbin-Watson:                   1.904\n",
       "Prob(Omnibus):                  0.031   Jarque-Bera (JB):                8.937\n",
       "Skew:                          -0.344   Prob(JB):                       0.0115\n",
       "Kurtosis:                       4.486   Cond. No.                         46.5\n",
       "==============================================================================\n",
       "\n",
       "Notes:\n",
       "[1] Standard Errors assume that the covariance matrix of the errors is correctly specified.\n",
       "\"\"\""
      ]
     },
     "execution_count": 7,
     "metadata": {},
     "output_type": "execute_result"
    }
   ],
   "source": [
    "reg_tip = smf.ols('tip ~ net_bill', data = data_train).fit()\n",
    "reg_tip.summary()\n"
   ]
  },
  {
   "cell_type": "code",
   "execution_count": 8,
   "metadata": {},
   "outputs": [],
   "source": [
    "y_tip_pred = reg_tip.predict(data_train[\"net_bill\"])"
   ]
  },
  {
   "cell_type": "code",
   "execution_count": 30,
   "metadata": {},
   "outputs": [
    {
     "data": {
      "text/plain": [
       "0.5104579871640842"
      ]
     },
     "execution_count": 30,
     "metadata": {},
     "output_type": "execute_result"
    }
   ],
   "source": [
    "r2_score(data_train[\"tip\"], y_tip_pred)"
   ]
  },
  {
   "cell_type": "code",
   "execution_count": 9,
   "metadata": {
    "scrolled": true
   },
   "outputs": [
    {
     "data": {
      "text/plain": [
       "0     2.966032\n",
       "1     1.980853\n",
       "2     3.172515\n",
       "3     3.558489\n",
       "4     3.640812\n",
       "        ...   \n",
       "75    2.059128\n",
       "76    2.812182\n",
       "77    3.940414\n",
       "78    3.476166\n",
       "79    2.777094\n",
       "Length: 80, dtype: float64"
      ]
     },
     "execution_count": 9,
     "metadata": {},
     "output_type": "execute_result"
    }
   ],
   "source": [
    "y_tip_pred"
   ]
  },
  {
   "cell_type": "code",
   "execution_count": 10,
   "metadata": {},
   "outputs": [
    {
     "data": {
      "text/plain": [
       "<Axes: xlabel='tip'>"
      ]
     },
     "execution_count": 10,
     "metadata": {},
     "output_type": "execute_result"
    },
    {
     "data": {
      "image/png": "[encoded data removed]",
      "text/plain": [
       "<Figure size 640x480 with 1 Axes>"
      ]
     },
     "metadata": {},
     "output_type": "display_data"
    }
   ],
   "source": [
    "sns.regplot(x=data_train[\"tip\"], y=y_tip_pred)"
   ]
  },
  {
   "cell_type": "markdown",
   "metadata": {},
   "source": [
    "### 2. Mudança de perspectiva\n",
    "\n",
    "Agora ajuste um modelo de regressão de ```tip_pct``` por ```net_bill```. Construa o gráfico de dispersão correspondente."
   ]
  },
  {
   "cell_type": "code",
   "execution_count": 12,
   "metadata": {},
   "outputs": [
    {
     "data": {
      "text/html": [
       "<table class=\"simpletable\">\n",
       "<caption>OLS Regression Results</caption>\n",
       "<tr>\n",
       "  <th>Dep. Variable:</th>         <td>tip_pct</td>     <th>  R-squared:         </th> <td>   0.154</td>\n",
       "</tr>\n",
       "<tr>\n",
       "  <th>Model:</th>                   <td>OLS</td>       <th>  Adj. R-squared:    </th> <td>   0.143</td>\n",
       "</tr>\n",
       "<tr>\n",
       "  <th>Method:</th>             <td>Least Squares</td>  <th>  F-statistic:       </th> <td>   14.15</td>\n",
       "</tr>\n",
       "<tr>\n",
       "  <th>Date:</th>             <td>Tue, 06 Jun 2023</td> <th>  Prob (F-statistic):</th> <td>0.000324</td>\n",
       "</tr>\n",
       "<tr>\n",
       "  <th>Time:</th>                 <td>22:29:51</td>     <th>  Log-Likelihood:    </th> <td>  115.61</td>\n",
       "</tr>\n",
       "<tr>\n",
       "  <th>No. Observations:</th>      <td>    80</td>      <th>  AIC:               </th> <td>  -227.2</td>\n",
       "</tr>\n",
       "<tr>\n",
       "  <th>Df Residuals:</th>          <td>    78</td>      <th>  BIC:               </th> <td>  -222.5</td>\n",
       "</tr>\n",
       "<tr>\n",
       "  <th>Df Model:</th>              <td>     1</td>      <th>                     </th>     <td> </td>   \n",
       "</tr>\n",
       "<tr>\n",
       "  <th>Covariance Type:</th>      <td>nonrobust</td>    <th>                     </th>     <td> </td>   \n",
       "</tr>\n",
       "</table>\n",
       "<table class=\"simpletable\">\n",
       "<tr>\n",
       "      <td></td>         <th>coef</th>     <th>std err</th>      <th>t</th>      <th>P>|t|</th>  <th>[0.025</th>    <th>0.975]</th>  \n",
       "</tr>\n",
       "<tr>\n",
       "  <th>Intercept</th> <td>    0.2536</td> <td>    0.017</td> <td>   14.950</td> <td> 0.000</td> <td>    0.220</td> <td>    0.287</td>\n",
       "</tr>\n",
       "<tr>\n",
       "  <th>net_bill</th>  <td>   -0.0036</td> <td>    0.001</td> <td>   -3.762</td> <td> 0.000</td> <td>   -0.006</td> <td>   -0.002</td>\n",
       "</tr>\n",
       "</table>\n",
       "<table class=\"simpletable\">\n",
       "<tr>\n",
       "  <th>Omnibus:</th>       <td>18.115</td> <th>  Durbin-Watson:     </th> <td>   2.185</td>\n",
       "</tr>\n",
       "<tr>\n",
       "  <th>Prob(Omnibus):</th> <td> 0.000</td> <th>  Jarque-Bera (JB):  </th> <td>  29.000</td>\n",
       "</tr>\n",
       "<tr>\n",
       "  <th>Skew:</th>          <td> 0.889</td> <th>  Prob(JB):          </th> <td>5.04e-07</td>\n",
       "</tr>\n",
       "<tr>\n",
       "  <th>Kurtosis:</th>      <td> 5.354</td> <th>  Cond. No.          </th> <td>    46.5</td>\n",
       "</tr>\n",
       "</table><br/><br/>Notes:<br/>[1] Standard Errors assume that the covariance matrix of the errors is correctly specified."
      ],
      "text/latex": [
       "\\begin{center}\n",
       "\\begin{tabular}{lclc}\n",
       "\\toprule\n",
       "\\textbf{Dep. Variable:}    &     tip\\_pct     & \\textbf{  R-squared:         } &     0.154   \\\\\n",
       "\\textbf{Model:}            &       OLS        & \\textbf{  Adj. R-squared:    } &     0.143   \\\\\n",
       "\\textbf{Method:}           &  Least Squares   & \\textbf{  F-statistic:       } &     14.15   \\\\\n",
       "\\textbf{Date:}             & Tue, 06 Jun 2023 & \\textbf{  Prob (F-statistic):} &  0.000324   \\\\\n",
       "\\textbf{Time:}             &     22:29:51     & \\textbf{  Log-Likelihood:    } &    115.61   \\\\\n",
       "\\textbf{No. Observations:} &          80      & \\textbf{  AIC:               } &    -227.2   \\\\\n",
       "\\textbf{Df Residuals:}     &          78      & \\textbf{  BIC:               } &    -222.5   \\\\\n",
       "\\textbf{Df Model:}         &           1      & \\textbf{                     } &             \\\\\n",
       "\\textbf{Covariance Type:}  &    nonrobust     & \\textbf{                     } &             \\\\\n",
       "\\bottomrule\n",
       "\\end{tabular}\n",
       "\\begin{tabular}{lcccccc}\n",
       "                   & \\textbf{coef} & \\textbf{std err} & \\textbf{t} & \\textbf{P$> |$t$|$} & \\textbf{[0.025} & \\textbf{0.975]}  \\\\\n",
       "\\midrule\n",
       "\\textbf{Intercept} &       0.2536  &        0.017     &    14.950  &         0.000        &        0.220    &        0.287     \\\\\n",
       "\\textbf{net\\_bill} &      -0.0036  &        0.001     &    -3.762  &         0.000        &       -0.006    &       -0.002     \\\\\n",
       "\\bottomrule\n",
       "\\end{tabular}\n",
       "\\begin{tabular}{lclc}\n",
       "\\textbf{Omnibus:}       & 18.115 & \\textbf{  Durbin-Watson:     } &    2.185  \\\\\n",
       "\\textbf{Prob(Omnibus):} &  0.000 & \\textbf{  Jarque-Bera (JB):  } &   29.000  \\\\\n",
       "\\textbf{Skew:}          &  0.889 & \\textbf{  Prob(JB):          } & 5.04e-07  \\\\\n",
       "\\textbf{Kurtosis:}      &  5.354 & \\textbf{  Cond. No.          } &     46.5  \\\\\n",
       "\\bottomrule\n",
       "\\end{tabular}\n",
       "%\\caption{OLS Regression Results}\n",
       "\\end{center}\n",
       "\n",
       "Notes: \\newline\n",
       " [1] Standard Errors assume that the covariance matrix of the errors is correctly specified."
      ],
      "text/plain": [
       "<class 'statsmodels.iolib.summary.Summary'>\n",
       "\"\"\"\n",
       "                            OLS Regression Results                            \n",
       "==============================================================================\n",
       "Dep. Variable:                tip_pct   R-squared:                       0.154\n",
       "Model:                            OLS   Adj. R-squared:                  0.143\n",
       "Method:                 Least Squares   F-statistic:                     14.15\n",
       "Date:                Tue, 06 Jun 2023   Prob (F-statistic):           0.000324\n",
       "Time:                        22:29:51   Log-Likelihood:                 115.61\n",
       "No. Observations:                  80   AIC:                            -227.2\n",
       "Df Residuals:                      78   BIC:                            -222.5\n",
       "Df Model:                           1                                         \n",
       "Covariance Type:            nonrobust                                         \n",
       "==============================================================================\n",
       "                 coef    std err          t      P>|t|      [0.025      0.975]\n",
       "------------------------------------------------------------------------------\n",
       "Intercept      0.2536      0.017     14.950      0.000       0.220       0.287\n",
       "net_bill      -0.0036      0.001     -3.762      0.000      -0.006      -0.002\n",
       "==============================================================================\n",
       "Omnibus:                       18.115   Durbin-Watson:                   2.185\n",
       "Prob(Omnibus):                  0.000   Jarque-Bera (JB):               29.000\n",
       "Skew:                           0.889   Prob(JB):                     5.04e-07\n",
       "Kurtosis:                       5.354   Cond. No.                         46.5\n",
       "==============================================================================\n",
       "\n",
       "Notes:\n",
       "[1] Standard Errors assume that the covariance matrix of the errors is correctly specified.\n",
       "\"\"\""
      ]
     },
     "execution_count": 12,
     "metadata": {},
     "output_type": "execute_result"
    }
   ],
   "source": [
    "reg_pct = smf.ols('tip_pct ~ net_bill', data = data_train).fit()\n",
    "reg_pct.summary()"
   ]
  },
  {
   "cell_type": "code",
   "execution_count": 13,
   "metadata": {},
   "outputs": [],
   "source": [
    "y_pred_pctip = reg_pct.predict(data_train[\"net_bill\"])"
   ]
  },
  {
   "cell_type": "code",
   "execution_count": 14,
   "metadata": {},
   "outputs": [
    {
     "data": {
      "text/plain": [
       "0     0.195781\n",
       "1     0.222194\n",
       "2     0.190245\n",
       "3     0.179896\n",
       "4     0.177689\n",
       "        ...   \n",
       "75    0.220095\n",
       "76    0.199905\n",
       "77    0.169657\n",
       "78    0.182104\n",
       "79    0.200846\n",
       "Length: 80, dtype: float64"
      ]
     },
     "execution_count": 14,
     "metadata": {},
     "output_type": "execute_result"
    }
   ],
   "source": [
    "y_pred_pctip"
   ]
  },
  {
   "cell_type": "code",
   "execution_count": 15,
   "metadata": {},
   "outputs": [
    {
     "data": {
      "text/plain": [
       "<Axes: xlabel='net_bill'>"
      ]
     },
     "execution_count": 15,
     "metadata": {},
     "output_type": "execute_result"
    },
    {
     "data": {
      "image/png": "[encoded data removed]",
      "text/plain": [
       "<Figure size 640x480 with 1 Axes>"
      ]
     },
     "metadata": {},
     "output_type": "display_data"
    }
   ],
   "source": [
    "sns.regplot(x=data_train[\"net_bill\"], y=y_pred_pctip, data=tips)"
   ]
  },
  {
   "cell_type": "markdown",
   "metadata": {},
   "source": [
    "### 3. Comente\n",
    "\n",
    "Compare os dois gráficos e comente (de forma objetiva e suscinta) a relação entre eles e a diferença do ajuste. Podemos comparar diretamente os $R^2$s?"
   ]
  },
  {
   "cell_type": "code",
   "execution_count": 23,
   "metadata": {},
   "outputs": [
    {
     "data": {
      "image/png": "[encoded data removed]",
      "text/plain": [
       "<Figure size 800x300 with 2 Axes>"
      ]
     },
     "metadata": {},
     "output_type": "display_data"
    }
   ],
   "source": [
    "fig, axes = plt.subplots(1,2, figsize=(8,3))\n",
    "\n",
    "sns.regplot(ax = axes[0], x=data_train[\"net_bill\"], y=y_pred_pctip, data=tips)\n",
    "sns.regplot(ax = axes[1], x=data_train[\"net_bill\"], y=y_tip_pred)\n",
    "\n",
    "plt.show()"
   ]
  },
  {
   "cell_type": "markdown",
   "metadata": {},
   "source": [
    "#### Resposta sobre a relação"
   ]
  },
  {
   "cell_type": "markdown",
   "metadata": {},
   "source": [
    "- Uma das principais relações entres as duas linhas de regressão é que equanto a conta liquida(``net_bill``) aumenta a gorjeta(``tip``) tede a subir também em quanbto a porcentagem de gorgeta(``tip_pct``) tende a descer, ou seja contas mais autas geram porcentagens de gorjeta menores, em compensação o valor da gorjeta é maior"
   ]
  },
  {
   "cell_type": "markdown",
   "metadata": {},
   "source": [
    "### 4. Ajuste do modelo em outra escala\n",
    "\n",
    "Com o modelo no item 3, obtenha a preditiva do valor da gorjeta:\n",
    "  1. obtenha o valor predito ```pred``` para ```tip_pct``` (dica, veja o atributo ```reg.fittedvalues```)\n",
    "  2. obtenha o valor predito para ```tip``` como ```tip_pct * net_bill```\n",
    "  3. calcule o $R^2$ do modelo para ```tip```\n",
    "  4. compare esse $R^2$ com o do item 1"
   ]
  },
  {
   "cell_type": "markdown",
   "metadata": {},
   "source": [
    "### 1. obtenha o valor predito ```pred``` para ```tip_pct``` (dica, veja o atributo ```reg.fittedvalues```)"
   ]
  },
  {
   "cell_type": "code",
   "execution_count": 21,
   "metadata": {},
   "outputs": [
    {
     "data": {
      "text/plain": [
       "0     0.195781\n",
       "1     0.222194\n",
       "2     0.190245\n",
       "3     0.179896\n",
       "4     0.177689\n",
       "        ...   \n",
       "75    0.220095\n",
       "76    0.199905\n",
       "77    0.169657\n",
       "78    0.182104\n",
       "79    0.200846\n",
       "Length: 80, dtype: float64"
      ]
     },
     "execution_count": 21,
     "metadata": {},
     "output_type": "execute_result"
    }
   ],
   "source": [
    "reg_pct.fittedvalues"
   ]
  },
  {
   "cell_type": "markdown",
   "metadata": {},
   "source": [
    "### 2. obtenha o valor predito para ```tip``` como ```tip_pct * net_bill```"
   ]
  },
  {
   "cell_type": "code",
   "execution_count": 25,
   "metadata": {
    "scrolled": true
   },
   "outputs": [
    {
     "data": {
      "text/html": [
       "<table class=\"simpletable\">\n",
       "<caption>OLS Regression Results</caption>\n",
       "<tr>\n",
       "  <th>Dep. Variable:</th>           <td>tip</td>       <th>  R-squared:         </th> <td>   0.510</td>\n",
       "</tr>\n",
       "<tr>\n",
       "  <th>Model:</th>                   <td>OLS</td>       <th>  Adj. R-squared:    </th> <td>   0.504</td>\n",
       "</tr>\n",
       "<tr>\n",
       "  <th>Method:</th>             <td>Least Squares</td>  <th>  F-statistic:       </th> <td>   81.33</td>\n",
       "</tr>\n",
       "<tr>\n",
       "  <th>Date:</th>             <td>Wed, 07 Jun 2023</td> <th>  Prob (F-statistic):</th> <td>9.94e-14</td>\n",
       "</tr>\n",
       "<tr>\n",
       "  <th>Time:</th>                 <td>00:22:10</td>     <th>  Log-Likelihood:    </th> <td> -103.96</td>\n",
       "</tr>\n",
       "<tr>\n",
       "  <th>No. Observations:</th>      <td>    80</td>      <th>  AIC:               </th> <td>   211.9</td>\n",
       "</tr>\n",
       "<tr>\n",
       "  <th>Df Residuals:</th>          <td>    78</td>      <th>  BIC:               </th> <td>   216.7</td>\n",
       "</tr>\n",
       "<tr>\n",
       "  <th>Df Model:</th>              <td>     1</td>      <th>                     </th>     <td> </td>   \n",
       "</tr>\n",
       "<tr>\n",
       "  <th>Covariance Type:</th>      <td>nonrobust</td>    <th>                     </th>     <td> </td>   \n",
       "</tr>\n",
       "</table>\n",
       "<table class=\"simpletable\">\n",
       "<tr>\n",
       "      <td></td>         <th>coef</th>     <th>std err</th>      <th>t</th>      <th>P>|t|</th>  <th>[0.025</th>    <th>0.975]</th>  \n",
       "</tr>\n",
       "<tr>\n",
       "  <th>Intercept</th> <td>    0.8094</td> <td>    0.264</td> <td>    3.067</td> <td> 0.003</td> <td>    0.284</td> <td>    1.335</td>\n",
       "</tr>\n",
       "<tr>\n",
       "  <th>net_bill</th>  <td>    0.1350</td> <td>    0.015</td> <td>    9.018</td> <td> 0.000</td> <td>    0.105</td> <td>    0.165</td>\n",
       "</tr>\n",
       "</table>\n",
       "<table class=\"simpletable\">\n",
       "<tr>\n",
       "  <th>Omnibus:</th>       <td> 6.918</td> <th>  Durbin-Watson:     </th> <td>   1.904</td>\n",
       "</tr>\n",
       "<tr>\n",
       "  <th>Prob(Omnibus):</th> <td> 0.031</td> <th>  Jarque-Bera (JB):  </th> <td>   8.937</td>\n",
       "</tr>\n",
       "<tr>\n",
       "  <th>Skew:</th>          <td>-0.344</td> <th>  Prob(JB):          </th> <td>  0.0115</td>\n",
       "</tr>\n",
       "<tr>\n",
       "  <th>Kurtosis:</th>      <td> 4.486</td> <th>  Cond. No.          </th> <td>    46.5</td>\n",
       "</tr>\n",
       "</table><br/><br/>Notes:<br/>[1] Standard Errors assume that the covariance matrix of the errors is correctly specified."
      ],
      "text/latex": [
       "\\begin{center}\n",
       "\\begin{tabular}{lclc}\n",
       "\\toprule\n",
       "\\textbf{Dep. Variable:}    &       tip        & \\textbf{  R-squared:         } &     0.510   \\\\\n",
       "\\textbf{Model:}            &       OLS        & \\textbf{  Adj. R-squared:    } &     0.504   \\\\\n",
       "\\textbf{Method:}           &  Least Squares   & \\textbf{  F-statistic:       } &     81.33   \\\\\n",
       "\\textbf{Date:}             & Wed, 07 Jun 2023 & \\textbf{  Prob (F-statistic):} &  9.94e-14   \\\\\n",
       "\\textbf{Time:}             &     00:22:10     & \\textbf{  Log-Likelihood:    } &   -103.96   \\\\\n",
       "\\textbf{No. Observations:} &          80      & \\textbf{  AIC:               } &     211.9   \\\\\n",
       "\\textbf{Df Residuals:}     &          78      & \\textbf{  BIC:               } &     216.7   \\\\\n",
       "\\textbf{Df Model:}         &           1      & \\textbf{                     } &             \\\\\n",
       "\\textbf{Covariance Type:}  &    nonrobust     & \\textbf{                     } &             \\\\\n",
       "\\bottomrule\n",
       "\\end{tabular}\n",
       "\\begin{tabular}{lcccccc}\n",
       "                   & \\textbf{coef} & \\textbf{std err} & \\textbf{t} & \\textbf{P$> |$t$|$} & \\textbf{[0.025} & \\textbf{0.975]}  \\\\\n",
       "\\midrule\n",
       "\\textbf{Intercept} &       0.8094  &        0.264     &     3.067  &         0.003        &        0.284    &        1.335     \\\\\n",
       "\\textbf{net\\_bill} &       0.1350  &        0.015     &     9.018  &         0.000        &        0.105    &        0.165     \\\\\n",
       "\\bottomrule\n",
       "\\end{tabular}\n",
       "\\begin{tabular}{lclc}\n",
       "\\textbf{Omnibus:}       &  6.918 & \\textbf{  Durbin-Watson:     } &    1.904  \\\\\n",
       "\\textbf{Prob(Omnibus):} &  0.031 & \\textbf{  Jarque-Bera (JB):  } &    8.937  \\\\\n",
       "\\textbf{Skew:}          & -0.344 & \\textbf{  Prob(JB):          } &   0.0115  \\\\\n",
       "\\textbf{Kurtosis:}      &  4.486 & \\textbf{  Cond. No.          } &     46.5  \\\\\n",
       "\\bottomrule\n",
       "\\end{tabular}\n",
       "%\\caption{OLS Regression Results}\n",
       "\\end{center}\n",
       "\n",
       "Notes: \\newline\n",
       " [1] Standard Errors assume that the covariance matrix of the errors is correctly specified."
      ],
      "text/plain": [
       "<class 'statsmodels.iolib.summary.Summary'>\n",
       "\"\"\"\n",
       "                            OLS Regression Results                            \n",
       "==============================================================================\n",
       "Dep. Variable:                    tip   R-squared:                       0.510\n",
       "Model:                            OLS   Adj. R-squared:                  0.504\n",
       "Method:                 Least Squares   F-statistic:                     81.33\n",
       "Date:                Wed, 07 Jun 2023   Prob (F-statistic):           9.94e-14\n",
       "Time:                        00:22:10   Log-Likelihood:                -103.96\n",
       "No. Observations:                  80   AIC:                             211.9\n",
       "Df Residuals:                      78   BIC:                             216.7\n",
       "Df Model:                           1                                         \n",
       "Covariance Type:            nonrobust                                         \n",
       "==============================================================================\n",
       "                 coef    std err          t      P>|t|      [0.025      0.975]\n",
       "------------------------------------------------------------------------------\n",
       "Intercept      0.8094      0.264      3.067      0.003       0.284       1.335\n",
       "net_bill       0.1350      0.015      9.018      0.000       0.105       0.165\n",
       "==============================================================================\n",
       "Omnibus:                        6.918   Durbin-Watson:                   1.904\n",
       "Prob(Omnibus):                  0.031   Jarque-Bera (JB):                8.937\n",
       "Skew:                          -0.344   Prob(JB):                       0.0115\n",
       "Kurtosis:                       4.486   Cond. No.                         46.5\n",
       "==============================================================================\n",
       "\n",
       "Notes:\n",
       "[1] Standard Errors assume that the covariance matrix of the errors is correctly specified.\n",
       "\"\"\""
      ]
     },
     "execution_count": 25,
     "metadata": {},
     "output_type": "execute_result"
    }
   ],
   "source": [
    "reg = smf.ols('tip ~ tip_pct * net_bill', data = data_train).fit()\n",
    "reg_tip.summary()"
   ]
  },
  {
   "cell_type": "code",
   "execution_count": 28,
   "metadata": {},
   "outputs": [],
   "source": [
    "pred_tip = reg.predict(tips[[\"net_bill\", \"tip_pct\"]])"
   ]
  },
  {
   "cell_type": "code",
   "execution_count": 32,
   "metadata": {},
   "outputs": [
    {
     "data": {
      "text/plain": [
       "0      1.01\n",
       "1      1.66\n",
       "2      3.50\n",
       "3      3.31\n",
       "4      3.61\n",
       "       ... \n",
       "239    5.92\n",
       "240    2.00\n",
       "241    2.00\n",
       "242    1.75\n",
       "243    3.00\n",
       "Length: 244, dtype: float64"
      ]
     },
     "execution_count": 32,
     "metadata": {},
     "output_type": "execute_result"
    }
   ],
   "source": [
    "pred_tip"
   ]
  },
  {
   "cell_type": "markdown",
   "metadata": {},
   "source": [
    "### 3. calcule o $R^2$ do modelo para ```tip```\n"
   ]
  },
  {
   "cell_type": "code",
   "execution_count": 29,
   "metadata": {},
   "outputs": [
    {
     "data": {
      "text/plain": [
       "1.0"
      ]
     },
     "execution_count": 29,
     "metadata": {},
     "output_type": "execute_result"
    }
   ],
   "source": [
    "r2_score(tips[\"tip\"],pred_tip )"
   ]
  },
  {
   "cell_type": "markdown",
   "metadata": {},
   "source": [
    "### 4. compare esse $R^2$ com o do item 1"
   ]
  },
  {
   "cell_type": "code",
   "execution_count": 45,
   "metadata": {},
   "outputs": [
    {
     "name": "stdout",
     "output_type": "stream",
     "text": [
      "r-quadrado do item 1 = 0.5104579871640842 \n",
      "--------------------------------------------------------------------\n",
      "r-quadrado de tip_pct*net_bill = 1.0\n"
     ]
    }
   ],
   "source": [
    "print(f\"r-quadrado do item 1 = {r2_score(data_train['tip'], y_tip_pred)} \\n\"\n",
    "      \"--------------------------------------------------------------------\\n\"\n",
    "      f\"r-quadrado de tip_pct*net_bill = {r2_score(tips['tip'],pred_tip)}\")"
   ]
  },
  {
   "cell_type": "code",
   "execution_count": null,
   "metadata": {},
   "outputs": [],
   "source": []
  }
 ],
 "metadata": {
  "kernelspec": {
   "display_name": "Python 3 (ipykernel)",
   "language": "python",
   "name": "python3"
  },
  "language_info": {
   "codemirror_mode": {
    "name": "ipython",
    "version": 3
   },
   "file_extension": ".py",
   "mimetype": "text/x-python",
   "name": "python",
   "nbconvert_exporter": "python",
   "pygments_lexer": "ipython3",
   "version": "3.11.2"
  }
 },
 "nbformat": 4,
 "nbformat_minor": 4
}
