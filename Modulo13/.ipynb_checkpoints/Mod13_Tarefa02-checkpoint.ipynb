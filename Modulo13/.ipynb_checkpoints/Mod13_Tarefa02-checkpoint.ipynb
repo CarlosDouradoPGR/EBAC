{
 "cells": [
  {
   "cell_type": "markdown",
   "metadata": {},
   "source": [
    "# EBAC - Regressão II - regressão múltipla\n",
    "\n",
    "## Tarefa I"
   ]
  },
  {
   "cell_type": "markdown",
   "metadata": {},
   "source": [
    "#### Previsão de renda II\n",
    "\n",
    "Vamos continuar trabalhando com a base 'previsao_de_renda.csv', que é a base do seu próximo projeto. Vamos usar os recursos que vimos até aqui nesta base.\n",
    "\n",
    "|variavel|descrição|\n",
    "|-|-|\n",
    "|data_ref                | Data de referência de coleta das variáveis |\n",
    "|index                   | Código de identificação do cliente|\n",
    "|sexo                    | Sexo do cliente|\n",
    "|posse_de_veiculo        | Indica se o cliente possui veículo|\n",
    "|posse_de_imovel         | Indica se o cliente possui imóvel|\n",
    "|qtd_filhos              | Quantidade de filhos do cliente|\n",
    "|tipo_renda              | Tipo de renda do cliente|\n",
    "|educacao                | Grau de instrução do cliente|\n",
    "|estado_civil            | Estado civil do cliente|\n",
    "|tipo_residencia         | Tipo de residência do cliente (própria, alugada etc)|\n",
    "|idade                   | Idade do cliente|\n",
    "|tempo_emprego           | Tempo no emprego atual|\n",
    "|qt_pessoas_residencia   | Quantidade de pessoas que moram na residência|\n",
    "|renda                   | Renda em reais|"
   ]
  },
  {
   "cell_type": "code",
   "execution_count": 1,
   "metadata": {},
   "outputs": [],
   "source": [
    "# import math\n",
    "\n",
    "import pandas as pd\n",
    "import numpy as np\n",
    "\n",
    "import seaborn as sns\n",
    "import matplotlib.pyplot as plt\n",
    "\n",
    "import statsmodels.formula.api as smf\n",
    "import statsmodels.api as sm\n",
    "import patsy\n",
    "\n",
    "from sklearn.metrics import r2_score\n",
    "\n",
    "%matplotlib inline"
   ]
  },
  {
   "cell_type": "code",
   "execution_count": 2,
   "metadata": {},
   "outputs": [],
   "source": [
    "df = pd.read_csv('previsao_de_renda.csv')"
   ]
  },
  {
   "cell_type": "code",
   "execution_count": 3,
   "metadata": {},
   "outputs": [
    {
     "name": "stdout",
     "output_type": "stream",
     "text": [
      "<class 'pandas.core.frame.DataFrame'>\n",
      "RangeIndex: 15000 entries, 0 to 14999\n",
      "Data columns (total 15 columns):\n",
      " #   Column                 Non-Null Count  Dtype  \n",
      "---  ------                 --------------  -----  \n",
      " 0   Unnamed: 0             15000 non-null  int64  \n",
      " 1   data_ref               15000 non-null  object \n",
      " 2   id_cliente             15000 non-null  int64  \n",
      " 3   sexo                   15000 non-null  object \n",
      " 4   posse_de_veiculo       15000 non-null  bool   \n",
      " 5   posse_de_imovel        15000 non-null  bool   \n",
      " 6   qtd_filhos             15000 non-null  int64  \n",
      " 7   tipo_renda             15000 non-null  object \n",
      " 8   educacao               15000 non-null  object \n",
      " 9   estado_civil           15000 non-null  object \n",
      " 10  tipo_residencia        15000 non-null  object \n",
      " 11  idade                  15000 non-null  int64  \n",
      " 12  tempo_emprego          12427 non-null  float64\n",
      " 13  qt_pessoas_residencia  15000 non-null  float64\n",
      " 14  renda                  15000 non-null  float64\n",
      "dtypes: bool(2), float64(3), int64(4), object(6)\n",
      "memory usage: 1.5+ MB\n"
     ]
    }
   ],
   "source": [
    "df.info()"
   ]
  },
  {
   "cell_type": "markdown",
   "metadata": {},
   "source": [
    "1. Separe a base em treinamento e teste (25% para teste, 75% para treinamento).\n",
    "2. Rode uma regularização *ridge* com alpha = [0, 0.001, 0.005, 0.01, 0.05, 0.1] e avalie o $R^2$ na base de testes. Qual o melhor modelo?\n",
    "3. Faça o mesmo que no passo 2, com uma regressão *LASSO*. Qual método chega a um melhor resultado?\n",
    "4. Rode um modelo *stepwise*. Avalie o $R^2$ na base de testes. Qual o melhor resultado?\n",
    "5. Compare os parâmetros e avalie eventuais diferenças. Qual modelo você acha o melhor de todos?\n",
    "6. Partindo dos modelos que você ajustou, tente melhorar o $R^2$ na base de testes. Use a criatividade, veja se consegue inserir alguma transformação ou combinação de variáveis.\n",
    "7. Ajuste uma árvore de regressão e veja se consegue um $R^2$ melhor com ela."
   ]
  },
  {
   "cell_type": "markdown",
   "metadata": {},
   "source": [
    "## 1. Separe a base em treinamento e teste (25% para teste, 75% para treinamento)."
   ]
  },
  {
   "cell_type": "code",
   "execution_count": 4,
   "metadata": {},
   "outputs": [
    {
     "data": {
      "text/html": [
       "<div>\n",
       "<style scoped>\n",
       "    .dataframe tbody tr th:only-of-type {\n",
       "        vertical-align: middle;\n",
       "    }\n",
       "\n",
       "    .dataframe tbody tr th {\n",
       "        vertical-align: top;\n",
       "    }\n",
       "\n",
       "    .dataframe thead th {\n",
       "        text-align: right;\n",
       "    }\n",
       "</style>\n",
       "<table border=\"1\" class=\"dataframe\">\n",
       "  <thead>\n",
       "    <tr style=\"text-align: right;\">\n",
       "      <th></th>\n",
       "      <th>Unnamed: 0</th>\n",
       "      <th>data_ref</th>\n",
       "      <th>id_cliente</th>\n",
       "      <th>sexo</th>\n",
       "      <th>posse_de_veiculo</th>\n",
       "      <th>posse_de_imovel</th>\n",
       "      <th>qtd_filhos</th>\n",
       "      <th>tipo_renda</th>\n",
       "      <th>educacao</th>\n",
       "      <th>estado_civil</th>\n",
       "      <th>tipo_residencia</th>\n",
       "      <th>idade</th>\n",
       "      <th>tempo_emprego</th>\n",
       "      <th>qt_pessoas_residencia</th>\n",
       "      <th>renda</th>\n",
       "    </tr>\n",
       "  </thead>\n",
       "  <tbody>\n",
       "    <tr>\n",
       "      <th>0</th>\n",
       "      <td>0</td>\n",
       "      <td>2015-01-01</td>\n",
       "      <td>15056</td>\n",
       "      <td>F</td>\n",
       "      <td>False</td>\n",
       "      <td>True</td>\n",
       "      <td>0</td>\n",
       "      <td>Empresário</td>\n",
       "      <td>Secundário</td>\n",
       "      <td>Solteiro</td>\n",
       "      <td>Casa</td>\n",
       "      <td>26</td>\n",
       "      <td>6.602740</td>\n",
       "      <td>1.0</td>\n",
       "      <td>8060.34</td>\n",
       "    </tr>\n",
       "    <tr>\n",
       "      <th>1</th>\n",
       "      <td>1</td>\n",
       "      <td>2015-01-01</td>\n",
       "      <td>9968</td>\n",
       "      <td>M</td>\n",
       "      <td>True</td>\n",
       "      <td>True</td>\n",
       "      <td>0</td>\n",
       "      <td>Assalariado</td>\n",
       "      <td>Superior completo</td>\n",
       "      <td>Casado</td>\n",
       "      <td>Casa</td>\n",
       "      <td>28</td>\n",
       "      <td>7.183562</td>\n",
       "      <td>2.0</td>\n",
       "      <td>1852.15</td>\n",
       "    </tr>\n",
       "    <tr>\n",
       "      <th>2</th>\n",
       "      <td>2</td>\n",
       "      <td>2015-01-01</td>\n",
       "      <td>4312</td>\n",
       "      <td>F</td>\n",
       "      <td>True</td>\n",
       "      <td>True</td>\n",
       "      <td>0</td>\n",
       "      <td>Empresário</td>\n",
       "      <td>Superior completo</td>\n",
       "      <td>Casado</td>\n",
       "      <td>Casa</td>\n",
       "      <td>35</td>\n",
       "      <td>0.838356</td>\n",
       "      <td>2.0</td>\n",
       "      <td>2253.89</td>\n",
       "    </tr>\n",
       "    <tr>\n",
       "      <th>3</th>\n",
       "      <td>3</td>\n",
       "      <td>2015-01-01</td>\n",
       "      <td>10639</td>\n",
       "      <td>F</td>\n",
       "      <td>False</td>\n",
       "      <td>True</td>\n",
       "      <td>1</td>\n",
       "      <td>Servidor público</td>\n",
       "      <td>Superior completo</td>\n",
       "      <td>Casado</td>\n",
       "      <td>Casa</td>\n",
       "      <td>30</td>\n",
       "      <td>4.846575</td>\n",
       "      <td>3.0</td>\n",
       "      <td>6600.77</td>\n",
       "    </tr>\n",
       "    <tr>\n",
       "      <th>4</th>\n",
       "      <td>4</td>\n",
       "      <td>2015-01-01</td>\n",
       "      <td>7064</td>\n",
       "      <td>M</td>\n",
       "      <td>True</td>\n",
       "      <td>False</td>\n",
       "      <td>0</td>\n",
       "      <td>Assalariado</td>\n",
       "      <td>Secundário</td>\n",
       "      <td>Solteiro</td>\n",
       "      <td>Governamental</td>\n",
       "      <td>33</td>\n",
       "      <td>4.293151</td>\n",
       "      <td>1.0</td>\n",
       "      <td>6475.97</td>\n",
       "    </tr>\n",
       "  </tbody>\n",
       "</table>\n",
       "</div>"
      ],
      "text/plain": [
       "   Unnamed: 0    data_ref  id_cliente sexo  posse_de_veiculo  posse_de_imovel   \n",
       "0           0  2015-01-01       15056    F             False             True  \\\n",
       "1           1  2015-01-01        9968    M              True             True   \n",
       "2           2  2015-01-01        4312    F              True             True   \n",
       "3           3  2015-01-01       10639    F             False             True   \n",
       "4           4  2015-01-01        7064    M              True            False   \n",
       "\n",
       "   qtd_filhos        tipo_renda           educacao estado_civil   \n",
       "0           0        Empresário         Secundário     Solteiro  \\\n",
       "1           0       Assalariado  Superior completo       Casado   \n",
       "2           0        Empresário  Superior completo       Casado   \n",
       "3           1  Servidor público  Superior completo       Casado   \n",
       "4           0       Assalariado         Secundário     Solteiro   \n",
       "\n",
       "  tipo_residencia  idade  tempo_emprego  qt_pessoas_residencia    renda  \n",
       "0            Casa     26       6.602740                    1.0  8060.34  \n",
       "1            Casa     28       7.183562                    2.0  1852.15  \n",
       "2            Casa     35       0.838356                    2.0  2253.89  \n",
       "3            Casa     30       4.846575                    3.0  6600.77  \n",
       "4   Governamental     33       4.293151                    1.0  6475.97  "
      ]
     },
     "execution_count": 4,
     "metadata": {},
     "output_type": "execute_result"
    }
   ],
   "source": [
    "df.head()"
   ]
  },
  {
   "cell_type": "code",
   "execution_count": 5,
   "metadata": {},
   "outputs": [],
   "source": [
    "df.dropna(inplace=True)"
   ]
  },
  {
   "cell_type": "code",
   "execution_count": null,
   "metadata": {},
   "outputs": [],
   "source": []
  },
  {
   "cell_type": "code",
   "execution_count": 6,
   "metadata": {
    "scrolled": true
   },
   "outputs": [
    {
     "data": {
      "text/plain": [
       "3106.75"
      ]
     },
     "execution_count": 6,
     "metadata": {},
     "output_type": "execute_result"
    }
   ],
   "source": [
    "# Verificando a quatidade de linhas para fazer a divisão entre treino e test\n",
    "df.shape[0] / 4"
   ]
  },
  {
   "cell_type": "markdown",
   "metadata": {},
   "source": [
    "As variáveis ``Unnamed: 0``, ``data_ref`` e ``id_cliente`` são variáveis apenas de informações do data frame, e não serão úteis na analise"
   ]
  },
  {
   "cell_type": "code",
   "execution_count": 7,
   "metadata": {},
   "outputs": [],
   "source": [
    "# DataFrame de test\n",
    "df_test = df.loc[3107:, \"sexo\": ]"
   ]
  },
  {
   "cell_type": "code",
   "execution_count": 8,
   "metadata": {},
   "outputs": [],
   "source": [
    "# DataFrame de treino\n",
    "df_train = df.loc[3106:, \"sexo\":]"
   ]
  },
  {
   "cell_type": "markdown",
   "metadata": {},
   "source": [
    "## 2. Rode uma regularização *ridge* com alpha = [0, 0.001, 0.005, 0.01, 0.05, 0.1] e avalie o $R^2$ na base de testes. Qual o melhor modelo?"
   ]
  },
  {
   "cell_type": "code",
   "execution_count": 9,
   "metadata": {},
   "outputs": [
    {
     "data": {
      "text/html": [
       "<div>\n",
       "<style scoped>\n",
       "    .dataframe tbody tr th:only-of-type {\n",
       "        vertical-align: middle;\n",
       "    }\n",
       "\n",
       "    .dataframe tbody tr th {\n",
       "        vertical-align: top;\n",
       "    }\n",
       "\n",
       "    .dataframe thead th {\n",
       "        text-align: right;\n",
       "    }\n",
       "</style>\n",
       "<table border=\"1\" class=\"dataframe\">\n",
       "  <thead>\n",
       "    <tr style=\"text-align: right;\">\n",
       "      <th></th>\n",
       "      <th>sexo</th>\n",
       "      <th>posse_de_veiculo</th>\n",
       "      <th>posse_de_imovel</th>\n",
       "      <th>qtd_filhos</th>\n",
       "      <th>tipo_renda</th>\n",
       "      <th>educacao</th>\n",
       "      <th>estado_civil</th>\n",
       "      <th>tipo_residencia</th>\n",
       "      <th>idade</th>\n",
       "      <th>tempo_emprego</th>\n",
       "      <th>qt_pessoas_residencia</th>\n",
       "      <th>renda</th>\n",
       "    </tr>\n",
       "  </thead>\n",
       "  <tbody>\n",
       "    <tr>\n",
       "      <th>3106</th>\n",
       "      <td>F</td>\n",
       "      <td>False</td>\n",
       "      <td>True</td>\n",
       "      <td>0</td>\n",
       "      <td>Assalariado</td>\n",
       "      <td>Superior incompleto</td>\n",
       "      <td>Solteiro</td>\n",
       "      <td>Casa</td>\n",
       "      <td>50</td>\n",
       "      <td>19.967123</td>\n",
       "      <td>1.0</td>\n",
       "      <td>2745.91</td>\n",
       "    </tr>\n",
       "    <tr>\n",
       "      <th>3107</th>\n",
       "      <td>F</td>\n",
       "      <td>True</td>\n",
       "      <td>True</td>\n",
       "      <td>1</td>\n",
       "      <td>Assalariado</td>\n",
       "      <td>Superior incompleto</td>\n",
       "      <td>União</td>\n",
       "      <td>Casa</td>\n",
       "      <td>35</td>\n",
       "      <td>7.542466</td>\n",
       "      <td>3.0</td>\n",
       "      <td>11973.99</td>\n",
       "    </tr>\n",
       "    <tr>\n",
       "      <th>3108</th>\n",
       "      <td>F</td>\n",
       "      <td>False</td>\n",
       "      <td>False</td>\n",
       "      <td>7</td>\n",
       "      <td>Assalariado</td>\n",
       "      <td>Secundário</td>\n",
       "      <td>Casado</td>\n",
       "      <td>Casa</td>\n",
       "      <td>37</td>\n",
       "      <td>4.517808</td>\n",
       "      <td>9.0</td>\n",
       "      <td>1531.68</td>\n",
       "    </tr>\n",
       "    <tr>\n",
       "      <th>3109</th>\n",
       "      <td>M</td>\n",
       "      <td>False</td>\n",
       "      <td>True</td>\n",
       "      <td>0</td>\n",
       "      <td>Assalariado</td>\n",
       "      <td>Secundário</td>\n",
       "      <td>Casado</td>\n",
       "      <td>Casa</td>\n",
       "      <td>47</td>\n",
       "      <td>6.468493</td>\n",
       "      <td>2.0</td>\n",
       "      <td>9524.95</td>\n",
       "    </tr>\n",
       "    <tr>\n",
       "      <th>3111</th>\n",
       "      <td>F</td>\n",
       "      <td>True</td>\n",
       "      <td>True</td>\n",
       "      <td>2</td>\n",
       "      <td>Assalariado</td>\n",
       "      <td>Secundário</td>\n",
       "      <td>Casado</td>\n",
       "      <td>Casa</td>\n",
       "      <td>35</td>\n",
       "      <td>5.717808</td>\n",
       "      <td>4.0</td>\n",
       "      <td>3468.51</td>\n",
       "    </tr>\n",
       "  </tbody>\n",
       "</table>\n",
       "</div>"
      ],
      "text/plain": [
       "     sexo  posse_de_veiculo  posse_de_imovel  qtd_filhos   tipo_renda   \n",
       "3106    F             False             True           0  Assalariado  \\\n",
       "3107    F              True             True           1  Assalariado   \n",
       "3108    F             False            False           7  Assalariado   \n",
       "3109    M             False             True           0  Assalariado   \n",
       "3111    F              True             True           2  Assalariado   \n",
       "\n",
       "                 educacao estado_civil tipo_residencia  idade  tempo_emprego   \n",
       "3106  Superior incompleto     Solteiro            Casa     50      19.967123  \\\n",
       "3107  Superior incompleto        União            Casa     35       7.542466   \n",
       "3108           Secundário       Casado            Casa     37       4.517808   \n",
       "3109           Secundário       Casado            Casa     47       6.468493   \n",
       "3111           Secundário       Casado            Casa     35       5.717808   \n",
       "\n",
       "      qt_pessoas_residencia     renda  \n",
       "3106                    1.0   2745.91  \n",
       "3107                    3.0  11973.99  \n",
       "3108                    9.0   1531.68  \n",
       "3109                    2.0   9524.95  \n",
       "3111                    4.0   3468.51  "
      ]
     },
     "execution_count": 9,
     "metadata": {},
     "output_type": "execute_result"
    }
   ],
   "source": [
    "df_train.head()"
   ]
  },
  {
   "cell_type": "markdown",
   "metadata": {},
   "source": [
    "##### Antes de rodar as regularizações, vamo tentar obter o menor r-squared  e as melhores variáveis explicativas"
   ]
  },
  {
   "cell_type": "code",
   "execution_count": 10,
   "metadata": {},
   "outputs": [],
   "source": [
    "y1, X1 = patsy.dmatrices(\"\"\"renda ~ posse_de_veiculo + \n",
    "posse_de_imovel + \n",
    "qtd_filhos + \n",
    "tipo_renda + \n",
    "educacao + \n",
    "estado_civil + \n",
    "tipo_residencia + \n",
    "idade + \n",
    "tempo_emprego + \n",
    "qt_pessoas_residencia\"\"\", data=df_train)"
   ]
  },
  {
   "cell_type": "code",
   "execution_count": 11,
   "metadata": {},
   "outputs": [],
   "source": [
    "reg = sm.OLS(y1, X1).fit()"
   ]
  },
  {
   "cell_type": "code",
   "execution_count": 12,
   "metadata": {},
   "outputs": [
    {
     "data": {
      "text/html": [
       "<table class=\"simpletable\">\n",
       "<caption>OLS Regression Results</caption>\n",
       "<tr>\n",
       "  <th>Dep. Variable:</th>          <td>renda</td>      <th>  R-squared:         </th>  <td>   0.169</td>  \n",
       "</tr>\n",
       "<tr>\n",
       "  <th>Model:</th>                   <td>OLS</td>       <th>  Adj. R-squared:    </th>  <td>   0.167</td>  \n",
       "</tr>\n",
       "<tr>\n",
       "  <th>Method:</th>             <td>Least Squares</td>  <th>  F-statistic:       </th>  <td>   86.63</td>  \n",
       "</tr>\n",
       "<tr>\n",
       "  <th>Date:</th>             <td>Fri, 16 Jun 2023</td> <th>  Prob (F-statistic):</th>   <td>  0.00</td>   \n",
       "</tr>\n",
       "<tr>\n",
       "  <th>Time:</th>                 <td>01:29:44</td>     <th>  Log-Likelihood:    </th> <td>-1.0301e+05</td>\n",
       "</tr>\n",
       "<tr>\n",
       "  <th>No. Observations:</th>      <td>  9854</td>      <th>  AIC:               </th>  <td>2.061e+05</td> \n",
       "</tr>\n",
       "<tr>\n",
       "  <th>Df Residuals:</th>          <td>  9830</td>      <th>  BIC:               </th>  <td>2.062e+05</td> \n",
       "</tr>\n",
       "<tr>\n",
       "  <th>Df Model:</th>              <td>    23</td>      <th>                     </th>      <td> </td>     \n",
       "</tr>\n",
       "<tr>\n",
       "  <th>Covariance Type:</th>      <td>nonrobust</td>    <th>                     </th>      <td> </td>     \n",
       "</tr>\n",
       "</table>\n",
       "<table class=\"simpletable\">\n",
       "<tr>\n",
       "                  <td></td>                    <th>coef</th>     <th>std err</th>      <th>t</th>      <th>P>|t|</th>  <th>[0.025</th>    <th>0.975]</th>  \n",
       "</tr>\n",
       "<tr>\n",
       "  <th>Intercept</th>                        <td>-1325.9977</td> <td> 2848.339</td> <td>   -0.466</td> <td> 0.642</td> <td>-6909.326</td> <td> 4257.331</td>\n",
       "</tr>\n",
       "<tr>\n",
       "  <th>posse_de_veiculo[T.True]</th>         <td> 1989.6161</td> <td>  175.747</td> <td>   11.321</td> <td> 0.000</td> <td> 1645.116</td> <td> 2334.116</td>\n",
       "</tr>\n",
       "<tr>\n",
       "  <th>posse_de_imovel[T.True]</th>          <td>  139.5460</td> <td>  182.641</td> <td>    0.764</td> <td> 0.445</td> <td> -218.467</td> <td>  497.559</td>\n",
       "</tr>\n",
       "<tr>\n",
       "  <th>tipo_renda[T.Bolsista]</th>           <td>-2293.0237</td> <td> 3182.818</td> <td>   -0.720</td> <td> 0.471</td> <td>-8532.001</td> <td> 3945.954</td>\n",
       "</tr>\n",
       "<tr>\n",
       "  <th>tipo_renda[T.Empresário]</th>         <td>  528.6497</td> <td>  194.697</td> <td>    2.715</td> <td> 0.007</td> <td>  147.003</td> <td>  910.297</td>\n",
       "</tr>\n",
       "<tr>\n",
       "  <th>tipo_renda[T.Pensionista]</th>        <td>-2416.6035</td> <td> 3183.754</td> <td>   -0.759</td> <td> 0.448</td> <td>-8657.416</td> <td> 3824.209</td>\n",
       "</tr>\n",
       "<tr>\n",
       "  <th>tipo_renda[T.Servidor público]</th>   <td> -384.7675</td> <td>  290.217</td> <td>   -1.326</td> <td> 0.185</td> <td> -953.652</td> <td>  184.117</td>\n",
       "</tr>\n",
       "<tr>\n",
       "  <th>educacao[T.Pós graduação]</th>        <td> -158.0629</td> <td> 2154.907</td> <td>   -0.073</td> <td> 0.942</td> <td>-4382.123</td> <td> 4065.997</td>\n",
       "</tr>\n",
       "<tr>\n",
       "  <th>educacao[T.Secundário]</th>           <td>  380.5198</td> <td>  961.519</td> <td>    0.396</td> <td> 0.692</td> <td>-1504.254</td> <td> 2265.294</td>\n",
       "</tr>\n",
       "<tr>\n",
       "  <th>educacao[T.Superior completo]</th>    <td>  589.5309</td> <td>  964.135</td> <td>    0.611</td> <td> 0.541</td> <td>-1300.373</td> <td> 2479.434</td>\n",
       "</tr>\n",
       "<tr>\n",
       "  <th>educacao[T.Superior incompleto]</th>  <td> -167.9904</td> <td> 1031.804</td> <td>   -0.163</td> <td> 0.871</td> <td>-2190.539</td> <td> 1854.558</td>\n",
       "</tr>\n",
       "<tr>\n",
       "  <th>estado_civil[T.Separado]</th>         <td>  236.3749</td> <td> 1333.725</td> <td>    0.177</td> <td> 0.859</td> <td>-2378.000</td> <td> 2850.750</td>\n",
       "</tr>\n",
       "<tr>\n",
       "  <th>estado_civil[T.Solteiro]</th>         <td>  492.8010</td> <td> 1301.658</td> <td>    0.379</td> <td> 0.705</td> <td>-2058.716</td> <td> 3044.318</td>\n",
       "</tr>\n",
       "<tr>\n",
       "  <th>estado_civil[T.União]</th>            <td> -970.2810</td> <td>  324.159</td> <td>   -2.993</td> <td> 0.003</td> <td>-1605.699</td> <td> -334.864</td>\n",
       "</tr>\n",
       "<tr>\n",
       "  <th>estado_civil[T.Viúvo]</th>            <td> -854.0373</td> <td> 1390.678</td> <td>   -0.614</td> <td> 0.539</td> <td>-3580.052</td> <td> 1871.978</td>\n",
       "</tr>\n",
       "<tr>\n",
       "  <th>tipo_residencia[T.Casa]</th>          <td>-1290.9481</td> <td>  704.728</td> <td>   -1.832</td> <td> 0.067</td> <td>-2672.360</td> <td>   90.464</td>\n",
       "</tr>\n",
       "<tr>\n",
       "  <th>tipo_residencia[T.Com os pais]</th>   <td>-1175.8741</td> <td>  787.956</td> <td>   -1.492</td> <td> 0.136</td> <td>-2720.431</td> <td>  368.682</td>\n",
       "</tr>\n",
       "<tr>\n",
       "  <th>tipo_residencia[T.Comunitário]</th>   <td>-2007.5217</td> <td> 1371.647</td> <td>   -1.464</td> <td> 0.143</td> <td>-4696.232</td> <td>  681.189</td>\n",
       "</tr>\n",
       "<tr>\n",
       "  <th>tipo_residencia[T.Estúdio]</th>       <td> 1123.5260</td> <td> 1278.506</td> <td>    0.879</td> <td> 0.380</td> <td>-1382.609</td> <td> 3629.661</td>\n",
       "</tr>\n",
       "<tr>\n",
       "  <th>tipo_residencia[T.Governamental]</th> <td> -862.5890</td> <td>  860.494</td> <td>   -1.002</td> <td> 0.316</td> <td>-2549.333</td> <td>  824.155</td>\n",
       "</tr>\n",
       "<tr>\n",
       "  <th>qtd_filhos</th>                       <td> -980.0546</td> <td> 1285.538</td> <td>   -0.762</td> <td> 0.446</td> <td>-3499.974</td> <td> 1539.865</td>\n",
       "</tr>\n",
       "<tr>\n",
       "  <th>idade</th>                            <td>   22.7920</td> <td>   10.443</td> <td>    2.183</td> <td> 0.029</td> <td>    2.322</td> <td>   43.262</td>\n",
       "</tr>\n",
       "<tr>\n",
       "  <th>tempo_emprego</th>                    <td>  540.8163</td> <td>   13.495</td> <td>   40.076</td> <td> 0.000</td> <td>  514.363</td> <td>  567.269</td>\n",
       "</tr>\n",
       "<tr>\n",
       "  <th>qt_pessoas_residencia</th>            <td> 1175.8114</td> <td> 1283.323</td> <td>    0.916</td> <td> 0.360</td> <td>-1339.765</td> <td> 3691.388</td>\n",
       "</tr>\n",
       "</table>\n",
       "<table class=\"simpletable\">\n",
       "<tr>\n",
       "  <th>Omnibus:</th>       <td>13563.270</td> <th>  Durbin-Watson:     </th>  <td>   2.030</td>  \n",
       "</tr>\n",
       "<tr>\n",
       "  <th>Prob(Omnibus):</th>  <td> 0.000</td>   <th>  Jarque-Bera (JB):  </th> <td>6177333.579</td>\n",
       "</tr>\n",
       "<tr>\n",
       "  <th>Skew:</th>           <td> 7.768</td>   <th>  Prob(JB):          </th>  <td>    0.00</td>  \n",
       "</tr>\n",
       "<tr>\n",
       "  <th>Kurtosis:</th>       <td>124.671</td>  <th>  Cond. No.          </th>  <td>2.00e+03</td>  \n",
       "</tr>\n",
       "</table><br/><br/>Notes:<br/>[1] Standard Errors assume that the covariance matrix of the errors is correctly specified.<br/>[2] The condition number is large,  2e+03. This might indicate that there are<br/>strong multicollinearity or other numerical problems."
      ],
      "text/latex": [
       "\\begin{center}\n",
       "\\begin{tabular}{lclc}\n",
       "\\toprule\n",
       "\\textbf{Dep. Variable:}                    &      renda       & \\textbf{  R-squared:         } &      0.169   \\\\\n",
       "\\textbf{Model:}                            &       OLS        & \\textbf{  Adj. R-squared:    } &      0.167   \\\\\n",
       "\\textbf{Method:}                           &  Least Squares   & \\textbf{  F-statistic:       } &      86.63   \\\\\n",
       "\\textbf{Date:}                             & Fri, 16 Jun 2023 & \\textbf{  Prob (F-statistic):} &      0.00    \\\\\n",
       "\\textbf{Time:}                             &     01:29:44     & \\textbf{  Log-Likelihood:    } & -1.0301e+05  \\\\\n",
       "\\textbf{No. Observations:}                 &        9854      & \\textbf{  AIC:               } &  2.061e+05   \\\\\n",
       "\\textbf{Df Residuals:}                     &        9830      & \\textbf{  BIC:               } &  2.062e+05   \\\\\n",
       "\\textbf{Df Model:}                         &          23      & \\textbf{                     } &              \\\\\n",
       "\\textbf{Covariance Type:}                  &    nonrobust     & \\textbf{                     } &              \\\\\n",
       "\\bottomrule\n",
       "\\end{tabular}\n",
       "\\begin{tabular}{lcccccc}\n",
       "                                           & \\textbf{coef} & \\textbf{std err} & \\textbf{t} & \\textbf{P$> |$t$|$} & \\textbf{[0.025} & \\textbf{0.975]}  \\\\\n",
       "\\midrule\n",
       "\\textbf{Intercept}                         &   -1325.9977  &     2848.339     &    -0.466  &         0.642        &    -6909.326    &     4257.331     \\\\\n",
       "\\textbf{posse\\_de\\_veiculo[T.True]}        &    1989.6161  &      175.747     &    11.321  &         0.000        &     1645.116    &     2334.116     \\\\\n",
       "\\textbf{posse\\_de\\_imovel[T.True]}         &     139.5460  &      182.641     &     0.764  &         0.445        &     -218.467    &      497.559     \\\\\n",
       "\\textbf{tipo\\_renda[T.Bolsista]}           &   -2293.0237  &     3182.818     &    -0.720  &         0.471        &    -8532.001    &     3945.954     \\\\\n",
       "\\textbf{tipo\\_renda[T.Empresário]}         &     528.6497  &      194.697     &     2.715  &         0.007        &      147.003    &      910.297     \\\\\n",
       "\\textbf{tipo\\_renda[T.Pensionista]}        &   -2416.6035  &     3183.754     &    -0.759  &         0.448        &    -8657.416    &     3824.209     \\\\\n",
       "\\textbf{tipo\\_renda[T.Servidor público]}   &    -384.7675  &      290.217     &    -1.326  &         0.185        &     -953.652    &      184.117     \\\\\n",
       "\\textbf{educacao[T.Pós graduação]}         &    -158.0629  &     2154.907     &    -0.073  &         0.942        &    -4382.123    &     4065.997     \\\\\n",
       "\\textbf{educacao[T.Secundário]}            &     380.5198  &      961.519     &     0.396  &         0.692        &    -1504.254    &     2265.294     \\\\\n",
       "\\textbf{educacao[T.Superior completo]}     &     589.5309  &      964.135     &     0.611  &         0.541        &    -1300.373    &     2479.434     \\\\\n",
       "\\textbf{educacao[T.Superior incompleto]}   &    -167.9904  &     1031.804     &    -0.163  &         0.871        &    -2190.539    &     1854.558     \\\\\n",
       "\\textbf{estado\\_civil[T.Separado]}         &     236.3749  &     1333.725     &     0.177  &         0.859        &    -2378.000    &     2850.750     \\\\\n",
       "\\textbf{estado\\_civil[T.Solteiro]}         &     492.8010  &     1301.658     &     0.379  &         0.705        &    -2058.716    &     3044.318     \\\\\n",
       "\\textbf{estado\\_civil[T.União]}            &    -970.2810  &      324.159     &    -2.993  &         0.003        &    -1605.699    &     -334.864     \\\\\n",
       "\\textbf{estado\\_civil[T.Viúvo]}            &    -854.0373  &     1390.678     &    -0.614  &         0.539        &    -3580.052    &     1871.978     \\\\\n",
       "\\textbf{tipo\\_residencia[T.Casa]}          &   -1290.9481  &      704.728     &    -1.832  &         0.067        &    -2672.360    &       90.464     \\\\\n",
       "\\textbf{tipo\\_residencia[T.Com os pais]}   &   -1175.8741  &      787.956     &    -1.492  &         0.136        &    -2720.431    &      368.682     \\\\\n",
       "\\textbf{tipo\\_residencia[T.Comunitário]}   &   -2007.5217  &     1371.647     &    -1.464  &         0.143        &    -4696.232    &      681.189     \\\\\n",
       "\\textbf{tipo\\_residencia[T.Estúdio]}       &    1123.5260  &     1278.506     &     0.879  &         0.380        &    -1382.609    &     3629.661     \\\\\n",
       "\\textbf{tipo\\_residencia[T.Governamental]} &    -862.5890  &      860.494     &    -1.002  &         0.316        &    -2549.333    &      824.155     \\\\\n",
       "\\textbf{qtd\\_filhos}                       &    -980.0546  &     1285.538     &    -0.762  &         0.446        &    -3499.974    &     1539.865     \\\\\n",
       "\\textbf{idade}                             &      22.7920  &       10.443     &     2.183  &         0.029        &        2.322    &       43.262     \\\\\n",
       "\\textbf{tempo\\_emprego}                    &     540.8163  &       13.495     &    40.076  &         0.000        &      514.363    &      567.269     \\\\\n",
       "\\textbf{qt\\_pessoas\\_residencia}           &    1175.8114  &     1283.323     &     0.916  &         0.360        &    -1339.765    &     3691.388     \\\\\n",
       "\\bottomrule\n",
       "\\end{tabular}\n",
       "\\begin{tabular}{lclc}\n",
       "\\textbf{Omnibus:}       & 13563.270 & \\textbf{  Durbin-Watson:     } &      2.030   \\\\\n",
       "\\textbf{Prob(Omnibus):} &    0.000  & \\textbf{  Jarque-Bera (JB):  } & 6177333.579  \\\\\n",
       "\\textbf{Skew:}          &    7.768  & \\textbf{  Prob(JB):          } &       0.00   \\\\\n",
       "\\textbf{Kurtosis:}      &  124.671  & \\textbf{  Cond. No.          } &   2.00e+03   \\\\\n",
       "\\bottomrule\n",
       "\\end{tabular}\n",
       "%\\caption{OLS Regression Results}\n",
       "\\end{center}\n",
       "\n",
       "Notes: \\newline\n",
       " [1] Standard Errors assume that the covariance matrix of the errors is correctly specified. \\newline\n",
       " [2] The condition number is large,  2e+03. This might indicate that there are \\newline\n",
       " strong multicollinearity or other numerical problems."
      ],
      "text/plain": [
       "<class 'statsmodels.iolib.summary.Summary'>\n",
       "\"\"\"\n",
       "                            OLS Regression Results                            \n",
       "==============================================================================\n",
       "Dep. Variable:                  renda   R-squared:                       0.169\n",
       "Model:                            OLS   Adj. R-squared:                  0.167\n",
       "Method:                 Least Squares   F-statistic:                     86.63\n",
       "Date:                Fri, 16 Jun 2023   Prob (F-statistic):               0.00\n",
       "Time:                        01:29:44   Log-Likelihood:            -1.0301e+05\n",
       "No. Observations:                9854   AIC:                         2.061e+05\n",
       "Df Residuals:                    9830   BIC:                         2.062e+05\n",
       "Df Model:                          23                                         \n",
       "Covariance Type:            nonrobust                                         \n",
       "====================================================================================================\n",
       "                                       coef    std err          t      P>|t|      [0.025      0.975]\n",
       "----------------------------------------------------------------------------------------------------\n",
       "Intercept                        -1325.9977   2848.339     -0.466      0.642   -6909.326    4257.331\n",
       "posse_de_veiculo[T.True]          1989.6161    175.747     11.321      0.000    1645.116    2334.116\n",
       "posse_de_imovel[T.True]            139.5460    182.641      0.764      0.445    -218.467     497.559\n",
       "tipo_renda[T.Bolsista]           -2293.0237   3182.818     -0.720      0.471   -8532.001    3945.954\n",
       "tipo_renda[T.Empresário]           528.6497    194.697      2.715      0.007     147.003     910.297\n",
       "tipo_renda[T.Pensionista]        -2416.6035   3183.754     -0.759      0.448   -8657.416    3824.209\n",
       "tipo_renda[T.Servidor público]    -384.7675    290.217     -1.326      0.185    -953.652     184.117\n",
       "educacao[T.Pós graduação]         -158.0629   2154.907     -0.073      0.942   -4382.123    4065.997\n",
       "educacao[T.Secundário]             380.5198    961.519      0.396      0.692   -1504.254    2265.294\n",
       "educacao[T.Superior completo]      589.5309    964.135      0.611      0.541   -1300.373    2479.434\n",
       "educacao[T.Superior incompleto]   -167.9904   1031.804     -0.163      0.871   -2190.539    1854.558\n",
       "estado_civil[T.Separado]           236.3749   1333.725      0.177      0.859   -2378.000    2850.750\n",
       "estado_civil[T.Solteiro]           492.8010   1301.658      0.379      0.705   -2058.716    3044.318\n",
       "estado_civil[T.União]             -970.2810    324.159     -2.993      0.003   -1605.699    -334.864\n",
       "estado_civil[T.Viúvo]             -854.0373   1390.678     -0.614      0.539   -3580.052    1871.978\n",
       "tipo_residencia[T.Casa]          -1290.9481    704.728     -1.832      0.067   -2672.360      90.464\n",
       "tipo_residencia[T.Com os pais]   -1175.8741    787.956     -1.492      0.136   -2720.431     368.682\n",
       "tipo_residencia[T.Comunitário]   -2007.5217   1371.647     -1.464      0.143   -4696.232     681.189\n",
       "tipo_residencia[T.Estúdio]        1123.5260   1278.506      0.879      0.380   -1382.609    3629.661\n",
       "tipo_residencia[T.Governamental]  -862.5890    860.494     -1.002      0.316   -2549.333     824.155\n",
       "qtd_filhos                        -980.0546   1285.538     -0.762      0.446   -3499.974    1539.865\n",
       "idade                               22.7920     10.443      2.183      0.029       2.322      43.262\n",
       "tempo_emprego                      540.8163     13.495     40.076      0.000     514.363     567.269\n",
       "qt_pessoas_residencia             1175.8114   1283.323      0.916      0.360   -1339.765    3691.388\n",
       "==============================================================================\n",
       "Omnibus:                    13563.270   Durbin-Watson:                   2.030\n",
       "Prob(Omnibus):                  0.000   Jarque-Bera (JB):          6177333.579\n",
       "Skew:                           7.768   Prob(JB):                         0.00\n",
       "Kurtosis:                     124.671   Cond. No.                     2.00e+03\n",
       "==============================================================================\n",
       "\n",
       "Notes:\n",
       "[1] Standard Errors assume that the covariance matrix of the errors is correctly specified.\n",
       "[2] The condition number is large,  2e+03. This might indicate that there are\n",
       "strong multicollinearity or other numerical problems.\n",
       "\"\"\""
      ]
     },
     "execution_count": 12,
     "metadata": {},
     "output_type": "execute_result"
    }
   ],
   "source": [
    "reg.summary()"
   ]
  },
  {
   "cell_type": "markdown",
   "metadata": {},
   "source": [
    "#### Foram testadas diveras trocas de variáveis e diversas transformações de variáveis, e a melhor encontrada foi essa"
   ]
  },
  {
   "cell_type": "code",
   "execution_count": 13,
   "metadata": {},
   "outputs": [],
   "source": [
    "# Criando a coluna de log de renda\n",
    "df_train[\"log_renda\"] = np.log(df_train[\"renda\"])"
   ]
  },
  {
   "cell_type": "code",
   "execution_count": 14,
   "metadata": {},
   "outputs": [],
   "source": [
    "# Deixando apenas a categoria mais relevente dentro da variável estado_civil\n",
    "df_train[\"estado_civil\"].where(df_train[\"estado_civil\"] == \"União\", 0, inplace=True)"
   ]
  },
  {
   "cell_type": "code",
   "execution_count": 15,
   "metadata": {},
   "outputs": [],
   "source": [
    "# Deixando apenas a categoria mais relevente dentro da variável tipo_renda\n",
    "df_train[\"tipo_renda\"].where(df_train[\"tipo_renda\"] == \"Empresário\", 0, inplace=True)"
   ]
  },
  {
   "cell_type": "code",
   "execution_count": 16,
   "metadata": {},
   "outputs": [],
   "source": [
    "# Deixando apenas a categoria mais relevente dentro da variável tipo_residencia\n",
    "df_train[\"tipo_residencia\"].where(df_train[\"tipo_residencia\"] == \"Comunitário\", 0, inplace=True)"
   ]
  },
  {
   "cell_type": "code",
   "execution_count": 17,
   "metadata": {},
   "outputs": [],
   "source": [
    "y, X = patsy.dmatrices(\"\"\"log_renda ~ posse_de_veiculo + \n",
    "posse_de_imovel + \n",
    "qtd_filhos + \n",
    "tipo_renda + \n",
    "estado_civil + \n",
    "tipo_residencia + \n",
    "idade + \n",
    "tempo_emprego + \n",
    "qt_pessoas_residencia\"\"\", data=df_train)"
   ]
  },
  {
   "cell_type": "code",
   "execution_count": 18,
   "metadata": {},
   "outputs": [],
   "source": [
    "reg1 = sm.OLS(y, X).fit()"
   ]
  },
  {
   "cell_type": "code",
   "execution_count": 19,
   "metadata": {},
   "outputs": [
    {
     "data": {
      "text/html": [
       "<table class=\"simpletable\">\n",
       "<caption>OLS Regression Results</caption>\n",
       "<tr>\n",
       "  <th>Dep. Variable:</th>        <td>log_renda</td>    <th>  R-squared:         </th> <td>   0.207</td> \n",
       "</tr>\n",
       "<tr>\n",
       "  <th>Model:</th>                   <td>OLS</td>       <th>  Adj. R-squared:    </th> <td>   0.206</td> \n",
       "</tr>\n",
       "<tr>\n",
       "  <th>Method:</th>             <td>Least Squares</td>  <th>  F-statistic:       </th> <td>   285.7</td> \n",
       "</tr>\n",
       "<tr>\n",
       "  <th>Date:</th>             <td>Fri, 16 Jun 2023</td> <th>  Prob (F-statistic):</th>  <td>  0.00</td>  \n",
       "</tr>\n",
       "<tr>\n",
       "  <th>Time:</th>                 <td>01:29:44</td>     <th>  Log-Likelihood:    </th> <td> -11866.</td> \n",
       "</tr>\n",
       "<tr>\n",
       "  <th>No. Observations:</th>      <td>  9854</td>      <th>  AIC:               </th> <td>2.375e+04</td>\n",
       "</tr>\n",
       "<tr>\n",
       "  <th>Df Residuals:</th>          <td>  9844</td>      <th>  BIC:               </th> <td>2.382e+04</td>\n",
       "</tr>\n",
       "<tr>\n",
       "  <th>Df Model:</th>              <td>     9</td>      <th>                     </th>     <td> </td>    \n",
       "</tr>\n",
       "<tr>\n",
       "  <th>Covariance Type:</th>      <td>nonrobust</td>    <th>                     </th>     <td> </td>    \n",
       "</tr>\n",
       "</table>\n",
       "<table class=\"simpletable\">\n",
       "<tr>\n",
       "                 <td></td>                   <th>coef</th>     <th>std err</th>      <th>t</th>      <th>P>|t|</th>  <th>[0.025</th>    <th>0.975]</th>  \n",
       "</tr>\n",
       "<tr>\n",
       "  <th>Intercept</th>                      <td>    7.3806</td> <td>    0.054</td> <td>  135.849</td> <td> 0.000</td> <td>    7.274</td> <td>    7.487</td>\n",
       "</tr>\n",
       "<tr>\n",
       "  <th>posse_de_veiculo[T.True]</th>       <td>    0.2931</td> <td>    0.017</td> <td>   17.428</td> <td> 0.000</td> <td>    0.260</td> <td>    0.326</td>\n",
       "</tr>\n",
       "<tr>\n",
       "  <th>posse_de_imovel[T.True]</th>        <td>    0.0593</td> <td>    0.017</td> <td>    3.453</td> <td> 0.001</td> <td>    0.026</td> <td>    0.093</td>\n",
       "</tr>\n",
       "<tr>\n",
       "  <th>tipo_renda[T.Empresário]</th>       <td>    0.1265</td> <td>    0.018</td> <td>    6.955</td> <td> 0.000</td> <td>    0.091</td> <td>    0.162</td>\n",
       "</tr>\n",
       "<tr>\n",
       "  <th>estado_civil[T.União]</th>          <td>   -0.0965</td> <td>    0.031</td> <td>   -3.102</td> <td> 0.002</td> <td>   -0.157</td> <td>   -0.036</td>\n",
       "</tr>\n",
       "<tr>\n",
       "  <th>tipo_residencia[T.Comunitário]</th> <td>   -0.1480</td> <td>    0.113</td> <td>   -1.305</td> <td> 0.192</td> <td>   -0.370</td> <td>    0.074</td>\n",
       "</tr>\n",
       "<tr>\n",
       "  <th>qtd_filhos</th>                     <td>   -0.0451</td> <td>    0.024</td> <td>   -1.851</td> <td> 0.064</td> <td>   -0.093</td> <td>    0.003</td>\n",
       "</tr>\n",
       "<tr>\n",
       "  <th>idade</th>                          <td>    0.0022</td> <td>    0.001</td> <td>    2.257</td> <td> 0.024</td> <td>    0.000</td> <td>    0.004</td>\n",
       "</tr>\n",
       "<tr>\n",
       "  <th>tempo_emprego</th>                  <td>    0.0577</td> <td>    0.001</td> <td>   44.881</td> <td> 0.000</td> <td>    0.055</td> <td>    0.060</td>\n",
       "</tr>\n",
       "<tr>\n",
       "  <th>qt_pessoas_residencia</th>          <td>    0.0814</td> <td>    0.021</td> <td>    3.973</td> <td> 0.000</td> <td>    0.041</td> <td>    0.122</td>\n",
       "</tr>\n",
       "</table>\n",
       "<table class=\"simpletable\">\n",
       "<tr>\n",
       "  <th>Omnibus:</th>       <td>26.645</td> <th>  Durbin-Watson:     </th> <td>   2.026</td>\n",
       "</tr>\n",
       "<tr>\n",
       "  <th>Prob(Omnibus):</th> <td> 0.000</td> <th>  Jarque-Bera (JB):  </th> <td>  26.793</td>\n",
       "</tr>\n",
       "<tr>\n",
       "  <th>Skew:</th>          <td> 0.127</td> <th>  Prob(JB):          </th> <td>1.52e-06</td>\n",
       "</tr>\n",
       "<tr>\n",
       "  <th>Kurtosis:</th>      <td> 3.017</td> <th>  Cond. No.          </th> <td>    594.</td>\n",
       "</tr>\n",
       "</table><br/><br/>Notes:<br/>[1] Standard Errors assume that the covariance matrix of the errors is correctly specified."
      ],
      "text/latex": [
       "\\begin{center}\n",
       "\\begin{tabular}{lclc}\n",
       "\\toprule\n",
       "\\textbf{Dep. Variable:}                  &    log\\_renda    & \\textbf{  R-squared:         } &     0.207   \\\\\n",
       "\\textbf{Model:}                          &       OLS        & \\textbf{  Adj. R-squared:    } &     0.206   \\\\\n",
       "\\textbf{Method:}                         &  Least Squares   & \\textbf{  F-statistic:       } &     285.7   \\\\\n",
       "\\textbf{Date:}                           & Fri, 16 Jun 2023 & \\textbf{  Prob (F-statistic):} &     0.00    \\\\\n",
       "\\textbf{Time:}                           &     01:29:44     & \\textbf{  Log-Likelihood:    } &   -11866.   \\\\\n",
       "\\textbf{No. Observations:}               &        9854      & \\textbf{  AIC:               } & 2.375e+04   \\\\\n",
       "\\textbf{Df Residuals:}                   &        9844      & \\textbf{  BIC:               } & 2.382e+04   \\\\\n",
       "\\textbf{Df Model:}                       &           9      & \\textbf{                     } &             \\\\\n",
       "\\textbf{Covariance Type:}                &    nonrobust     & \\textbf{                     } &             \\\\\n",
       "\\bottomrule\n",
       "\\end{tabular}\n",
       "\\begin{tabular}{lcccccc}\n",
       "                                         & \\textbf{coef} & \\textbf{std err} & \\textbf{t} & \\textbf{P$> |$t$|$} & \\textbf{[0.025} & \\textbf{0.975]}  \\\\\n",
       "\\midrule\n",
       "\\textbf{Intercept}                       &       7.3806  &        0.054     &   135.849  &         0.000        &        7.274    &        7.487     \\\\\n",
       "\\textbf{posse\\_de\\_veiculo[T.True]}      &       0.2931  &        0.017     &    17.428  &         0.000        &        0.260    &        0.326     \\\\\n",
       "\\textbf{posse\\_de\\_imovel[T.True]}       &       0.0593  &        0.017     &     3.453  &         0.001        &        0.026    &        0.093     \\\\\n",
       "\\textbf{tipo\\_renda[T.Empresário]}       &       0.1265  &        0.018     &     6.955  &         0.000        &        0.091    &        0.162     \\\\\n",
       "\\textbf{estado\\_civil[T.União]}          &      -0.0965  &        0.031     &    -3.102  &         0.002        &       -0.157    &       -0.036     \\\\\n",
       "\\textbf{tipo\\_residencia[T.Comunitário]} &      -0.1480  &        0.113     &    -1.305  &         0.192        &       -0.370    &        0.074     \\\\\n",
       "\\textbf{qtd\\_filhos}                     &      -0.0451  &        0.024     &    -1.851  &         0.064        &       -0.093    &        0.003     \\\\\n",
       "\\textbf{idade}                           &       0.0022  &        0.001     &     2.257  &         0.024        &        0.000    &        0.004     \\\\\n",
       "\\textbf{tempo\\_emprego}                  &       0.0577  &        0.001     &    44.881  &         0.000        &        0.055    &        0.060     \\\\\n",
       "\\textbf{qt\\_pessoas\\_residencia}         &       0.0814  &        0.021     &     3.973  &         0.000        &        0.041    &        0.122     \\\\\n",
       "\\bottomrule\n",
       "\\end{tabular}\n",
       "\\begin{tabular}{lclc}\n",
       "\\textbf{Omnibus:}       & 26.645 & \\textbf{  Durbin-Watson:     } &    2.026  \\\\\n",
       "\\textbf{Prob(Omnibus):} &  0.000 & \\textbf{  Jarque-Bera (JB):  } &   26.793  \\\\\n",
       "\\textbf{Skew:}          &  0.127 & \\textbf{  Prob(JB):          } & 1.52e-06  \\\\\n",
       "\\textbf{Kurtosis:}      &  3.017 & \\textbf{  Cond. No.          } &     594.  \\\\\n",
       "\\bottomrule\n",
       "\\end{tabular}\n",
       "%\\caption{OLS Regression Results}\n",
       "\\end{center}\n",
       "\n",
       "Notes: \\newline\n",
       " [1] Standard Errors assume that the covariance matrix of the errors is correctly specified."
      ],
      "text/plain": [
       "<class 'statsmodels.iolib.summary.Summary'>\n",
       "\"\"\"\n",
       "                            OLS Regression Results                            \n",
       "==============================================================================\n",
       "Dep. Variable:              log_renda   R-squared:                       0.207\n",
       "Model:                            OLS   Adj. R-squared:                  0.206\n",
       "Method:                 Least Squares   F-statistic:                     285.7\n",
       "Date:                Fri, 16 Jun 2023   Prob (F-statistic):               0.00\n",
       "Time:                        01:29:44   Log-Likelihood:                -11866.\n",
       "No. Observations:                9854   AIC:                         2.375e+04\n",
       "Df Residuals:                    9844   BIC:                         2.382e+04\n",
       "Df Model:                           9                                         \n",
       "Covariance Type:            nonrobust                                         \n",
       "==================================================================================================\n",
       "                                     coef    std err          t      P>|t|      [0.025      0.975]\n",
       "--------------------------------------------------------------------------------------------------\n",
       "Intercept                          7.3806      0.054    135.849      0.000       7.274       7.487\n",
       "posse_de_veiculo[T.True]           0.2931      0.017     17.428      0.000       0.260       0.326\n",
       "posse_de_imovel[T.True]            0.0593      0.017      3.453      0.001       0.026       0.093\n",
       "tipo_renda[T.Empresário]           0.1265      0.018      6.955      0.000       0.091       0.162\n",
       "estado_civil[T.União]             -0.0965      0.031     -3.102      0.002      -0.157      -0.036\n",
       "tipo_residencia[T.Comunitário]    -0.1480      0.113     -1.305      0.192      -0.370       0.074\n",
       "qtd_filhos                        -0.0451      0.024     -1.851      0.064      -0.093       0.003\n",
       "idade                              0.0022      0.001      2.257      0.024       0.000       0.004\n",
       "tempo_emprego                      0.0577      0.001     44.881      0.000       0.055       0.060\n",
       "qt_pessoas_residencia              0.0814      0.021      3.973      0.000       0.041       0.122\n",
       "==============================================================================\n",
       "Omnibus:                       26.645   Durbin-Watson:                   2.026\n",
       "Prob(Omnibus):                  0.000   Jarque-Bera (JB):               26.793\n",
       "Skew:                           0.127   Prob(JB):                     1.52e-06\n",
       "Kurtosis:                       3.017   Cond. No.                         594.\n",
       "==============================================================================\n",
       "\n",
       "Notes:\n",
       "[1] Standard Errors assume that the covariance matrix of the errors is correctly specified.\n",
       "\"\"\""
      ]
     },
     "execution_count": 19,
     "metadata": {},
     "output_type": "execute_result"
    }
   ],
   "source": [
    "reg1.summary()"
   ]
  },
  {
   "cell_type": "code",
   "execution_count": 20,
   "metadata": {},
   "outputs": [
    {
     "data": {
      "image/png": "[encoded data removed]",
      "text/plain": [
       "<Figure size 640x480 with 1 Axes>"
      ]
     },
     "metadata": {},
     "output_type": "display_data"
    }
   ],
   "source": [
    "#Gráfico de residos\n",
    "sns.scatterplot(x=reg1.fittedvalues, y=reg1.resid)\n",
    "plt.axhline(y=0, color=\"r\", linestyle=\"--\")\n",
    "plt.show()"
   ]
  },
  {
   "cell_type": "markdown",
   "metadata": {},
   "source": [
    "### Nesse ponto vamos ampliar a melhoria do modelo"
   ]
  },
  {
   "cell_type": "markdown",
   "metadata": {},
   "source": [
    "- Testando a regularização \"*ridge*\" nos dados de test"
   ]
  },
  {
   "cell_type": "code",
   "execution_count": 21,
   "metadata": {},
   "outputs": [],
   "source": [
    "#Para iniciar os testes precisamos que a base de teste fique parecida com a base de treino\n",
    "\n",
    "# Criando a coluna de log de renda\n",
    "df_test[\"log_renda\"] = np.log(df_test[\"renda\"])\n",
    "\n",
    "# Deixando apenas a categoria mais relevente dentro da variável estado_civil\n",
    "df_test[\"estado_civil\"].where(df_test[\"estado_civil\"] == \"União\", 0, inplace=True)\n",
    "\n",
    "# Deixando apenas a categoria mais relevente dentro da variável tipo_renda\n",
    "df_test[\"tipo_renda\"].where(df_test[\"tipo_renda\"] == \"Empresário\", 0, inplace=True)\n",
    "\n",
    "# Deixando apenas a categoria mais relevente dentro da variável tipo_residencia\n",
    "df_test[\"tipo_residencia\"].where(df_test[\"tipo_residencia\"] == \"Comunitário\", 0, inplace=True)"
   ]
  },
  {
   "cell_type": "code",
   "execution_count": 22,
   "metadata": {},
   "outputs": [],
   "source": [
    "alpha = [0, 0.001, 0.005, 0.01, 0.05, 0.1]"
   ]
  },
  {
   "cell_type": "code",
   "execution_count": 23,
   "metadata": {},
   "outputs": [],
   "source": [
    "r_quadrado = list()"
   ]
  },
  {
   "cell_type": "code",
   "execution_count": 24,
   "metadata": {},
   "outputs": [],
   "source": [
    "X_test = patsy.dmatrix(\"\"\"posse_de_veiculo + \n",
    "posse_de_imovel + \n",
    "qtd_filhos + \n",
    "tipo_renda + \n",
    "estado_civil + \n",
    "tipo_residencia + \n",
    "idade + \n",
    "tempo_emprego + \n",
    "qt_pessoas_residencia\"\"\", data=df_test)"
   ]
  },
  {
   "cell_type": "code",
   "execution_count": 25,
   "metadata": {},
   "outputs": [],
   "source": [
    "y_true = df_test[\"log_renda\"]"
   ]
  },
  {
   "cell_type": "code",
   "execution_count": 26,
   "metadata": {},
   "outputs": [],
   "source": [
    "r_quadrado_ridge = list()\n",
    "for i in alpha:\n",
    "    reg = sm.OLS(y, X).fit_regularized(method = 'elastic_net' \n",
    "                             , refit = True\n",
    "                             , L1_wt = 0\n",
    "                             , alpha = i)\n",
    "    y_pred = reg.predict(X_test)\n",
    "    r_quadrado_ridge.append((r2_score(y_true, y_pred), f\"Alpha: {i}\"))"
   ]
  },
  {
   "cell_type": "code",
   "execution_count": 27,
   "metadata": {},
   "outputs": [
    {
     "data": {
      "text/plain": [
       "[(0.2071743928985902, 'Alpha: 0'),\n",
       " (0.2044997904506648, 'Alpha: 0.001'),\n",
       " (0.15979252811808986, 'Alpha: 0.005'),\n",
       " (0.07419334155092172, 'Alpha: 0.01'),\n",
       " (-0.4628983776202511, 'Alpha: 0.05'),\n",
       " (-0.7960998583233785, 'Alpha: 0.1')]"
      ]
     },
     "execution_count": 27,
     "metadata": {},
     "output_type": "execute_result"
    }
   ],
   "source": [
    "r_quadrado_ridge"
   ]
  },
  {
   "cell_type": "markdown",
   "metadata": {},
   "source": [
    "#### Concluimos que quanto maior o alpha a predição do modelo piora de forma drástica para uma regularização do tipo *ridge*"
   ]
  },
  {
   "cell_type": "markdown",
   "metadata": {},
   "source": [
    "### 3. Faça o mesmo que no passo 2, com uma regressão *LASSO*. Qual método chega a um melhor resultado?"
   ]
  },
  {
   "cell_type": "code",
   "execution_count": 28,
   "metadata": {},
   "outputs": [],
   "source": [
    "r_quadrado_lasso = list()\n",
    "for i in alpha:\n",
    "    reg = sm.OLS(y, X).fit_regularized(method = 'elastic_net' \n",
    "                             , refit = True\n",
    "                             , L1_wt = 1\n",
    "                             , alpha = i)\n",
    "    y_pred = reg.predict(X_test)\n",
    "    r_quadrado_lasso.append((r2_score(y_true, y_pred), f\"Alpha: {i}\"))"
   ]
  },
  {
   "cell_type": "code",
   "execution_count": 29,
   "metadata": {},
   "outputs": [
    {
     "data": {
      "text/plain": [
       "[(0.2071743928985902, 'Alpha: 0'),\n",
       " (0.2031121169061767, 'Alpha: 0.001'),\n",
       " (0.20142637138609054, 'Alpha: 0.005'),\n",
       " (0.20054178447523385, 'Alpha: 0.01'),\n",
       " (0.20054178447523385, 'Alpha: 0.05'),\n",
       " (0.1994492745698605, 'Alpha: 0.1')]"
      ]
     },
     "execution_count": 29,
     "metadata": {},
     "output_type": "execute_result"
    }
   ],
   "source": [
    "r_quadrado_lasso"
   ]
  },
  {
   "cell_type": "markdown",
   "metadata": {},
   "source": [
    "#### Concluimos que quanto maior o alpha a predição do modelo piora de forma suave para uma regularização do tipo *lasso*"
   ]
  },
  {
   "cell_type": "markdown",
   "metadata": {},
   "source": [
    "### 4. Rode um modelo *stepwise*. Avalie o $R^2$ na base de testes. Qual o melhor resultado?"
   ]
  },
  {
   "cell_type": "code",
   "execution_count": 30,
   "metadata": {},
   "outputs": [],
   "source": [
    "def stepwise_selection(X, y, \n",
    "                       initial_list=[], \n",
    "                       threshold_in=0.01, \n",
    "                       threshold_out = 0.05, \n",
    "                       verbose=True):\n",
    "    \"\"\" Perform a forward-backward feature selection \n",
    "    based on p-value from statsmodels.api.OLS\n",
    "    Arguments:\n",
    "        X - pandas.DataFrame with candidate features\n",
    "        y - list-like with the target\n",
    "        initial_list - list of features to start with (column names of X)\n",
    "        threshold_in - include a feature if its p-value < threshold_in\n",
    "        threshold_out - exclude a feature if its p-value > threshold_out\n",
    "        verbose - whether to print the sequence of inclusions and exclusions\n",
    "    Returns: list of selected features \n",
    "    Always set threshold_in < threshold_out to avoid infinite looping.\n",
    "    See https://en.wikipedia.org/wiki/Stepwise_regression for the details\n",
    "    \"\"\"\n",
    "    included = list(initial_list)\n",
    "    while True:\n",
    "        changed=False\n",
    "        # forward step\n",
    "        excluded = list(set(X.columns)-set(included))\n",
    "        new_pval = pd.Series(index=excluded)\n",
    "        for new_column in excluded:\n",
    "            print(included+[new_column])\n",
    "            model = sm.OLS(y, sm.add_constant(pd.DataFrame(X[included+[new_column]]))).fit()\n",
    "            new_pval[new_column] = model.pvalues[new_column]\n",
    "        best_pval = new_pval.min()\n",
    "        if best_pval < threshold_in:\n",
    "            best_feature = new_pval.argmin()\n",
    "            included.append(best_feature)\n",
    "            changed=True\n",
    "            if verbose:\n",
    "                print('Add  {:30} with p-value {:.6}'.format(best_feature, best_pval))\n",
    "\n",
    "        # backward step\n",
    "        print(included)\n",
    "        model = sm.OLS(y, sm.add_constant(pd.DataFrame(X[included]))).fit()\n",
    "        # use all coefs except intercept\n",
    "        pvalues = model.pvalues.iloc[1:]\n",
    "        worst_pval = pvalues.max() # null if pvalues is empty\n",
    "        if worst_pval > threshold_out:\n",
    "            changed=True\n",
    "            worst_feature = pvalues.argmax()\n",
    "            included.remove(worst_feature)\n",
    "            if verbose:\n",
    "                print('Drop {:30} with p-value {:.6}'.format(worst_feature, worst_pval))\n",
    "        if not changed:\n",
    "            break\n",
    "    return included"
   ]
  },
  {
   "cell_type": "code",
   "execution_count": 31,
   "metadata": {},
   "outputs": [],
   "source": [
    "dummies_test = pd.get_dummies(df_test[[\"sexo\", \"tipo_renda\", \"estado_civil\", \"tipo_residencia\"]], drop_first=True)"
   ]
  },
  {
   "cell_type": "code",
   "execution_count": 32,
   "metadata": {},
   "outputs": [],
   "source": [
    "X_test = df_test[[\"posse_de_veiculo\", \"posse_de_imovel\", \"qtd_filhos\", \"idade\", \"tempo_emprego\", \"qt_pessoas_residencia\" ]].join(dummies_test)"
   ]
  },
  {
   "cell_type": "code",
   "execution_count": 35,
   "metadata": {},
   "outputs": [
    {
     "name": "stdout",
     "output_type": "stream",
     "text": [
      "<class 'pandas.core.frame.DataFrame'>\n",
      "Index: 9853 entries, 3107 to 14999\n",
      "Data columns (total 10 columns):\n",
      " #   Column                       Non-Null Count  Dtype  \n",
      "---  ------                       --------------  -----  \n",
      " 0   posse_de_veiculo             9853 non-null   bool   \n",
      " 1   posse_de_imovel              9853 non-null   bool   \n",
      " 2   qtd_filhos                   9853 non-null   int64  \n",
      " 3   idade                        9853 non-null   int64  \n",
      " 4   tempo_emprego                9853 non-null   float64\n",
      " 5   qt_pessoas_residencia        9853 non-null   float64\n",
      " 6   sexo_M                       9853 non-null   bool   \n",
      " 7   tipo_renda_Empresário        9853 non-null   bool   \n",
      " 8   estado_civil_União           9853 non-null   bool   \n",
      " 9   tipo_residencia_Comunitário  9853 non-null   bool   \n",
      "dtypes: bool(6), float64(2), int64(2)\n",
      "memory usage: 700.7 KB\n"
     ]
    }
   ],
   "source": [
    "X_test.info()"
   ]
  },
  {
   "cell_type": "code",
   "execution_count": 36,
   "metadata": {},
   "outputs": [],
   "source": [
    "y_test = df_test[\"renda\"]"
   ]
  },
  {
   "cell_type": "code",
   "execution_count": 37,
   "metadata": {},
   "outputs": [
    {
     "name": "stdout",
     "output_type": "stream",
     "text": [
      "['tipo_residencia_Comunitário']\n"
     ]
    },
    {
     "ename": "ValueError",
     "evalue": "Pandas data cast to numpy dtype of object. Check input data with np.asarray(data).",
     "output_type": "error",
     "traceback": [
      "\u001b[1;31m---------------------------------------------------------------------------\u001b[0m",
      "\u001b[1;31mValueError\u001b[0m                                Traceback (most recent call last)",
      "Cell \u001b[1;32mIn[37], line 1\u001b[0m\n\u001b[1;32m----> 1\u001b[0m stepwise_selection(X_test, y_test)\n",
      "Cell \u001b[1;32mIn[30], line 27\u001b[0m, in \u001b[0;36mstepwise_selection\u001b[1;34m(X, y, initial_list, threshold_in, threshold_out, verbose)\u001b[0m\n\u001b[0;32m     25\u001b[0m \u001b[38;5;28;01mfor\u001b[39;00m new_column \u001b[38;5;129;01min\u001b[39;00m excluded:\n\u001b[0;32m     26\u001b[0m     \u001b[38;5;28mprint\u001b[39m(included\u001b[38;5;241m+\u001b[39m[new_column])\n\u001b[1;32m---> 27\u001b[0m     model \u001b[38;5;241m=\u001b[39m sm\u001b[38;5;241m.\u001b[39mOLS(y, sm\u001b[38;5;241m.\u001b[39madd_constant(pd\u001b[38;5;241m.\u001b[39mDataFrame(X[included\u001b[38;5;241m+\u001b[39m[new_column]])))\u001b[38;5;241m.\u001b[39mfit()\n\u001b[0;32m     28\u001b[0m     new_pval[new_column] \u001b[38;5;241m=\u001b[39m model\u001b[38;5;241m.\u001b[39mpvalues[new_column]\n\u001b[0;32m     29\u001b[0m best_pval \u001b[38;5;241m=\u001b[39m new_pval\u001b[38;5;241m.\u001b[39mmin()\n",
      "File \u001b[1;32m~\\anaconda3\\envs\\ebac\\Lib\\site-packages\\statsmodels\\regression\\linear_model.py:922\u001b[0m, in \u001b[0;36mOLS.__init__\u001b[1;34m(self, endog, exog, missing, hasconst, **kwargs)\u001b[0m\n\u001b[0;32m    919\u001b[0m     msg \u001b[38;5;241m=\u001b[39m (\u001b[38;5;124m\"\u001b[39m\u001b[38;5;124mWeights are not supported in OLS and will be ignored\u001b[39m\u001b[38;5;124m\"\u001b[39m\n\u001b[0;32m    920\u001b[0m            \u001b[38;5;124m\"\u001b[39m\u001b[38;5;124mAn exception will be raised in the next version.\u001b[39m\u001b[38;5;124m\"\u001b[39m)\n\u001b[0;32m    921\u001b[0m     warnings\u001b[38;5;241m.\u001b[39mwarn(msg, ValueWarning)\n\u001b[1;32m--> 922\u001b[0m \u001b[38;5;28msuper\u001b[39m(OLS, \u001b[38;5;28mself\u001b[39m)\u001b[38;5;241m.\u001b[39m\u001b[38;5;21m__init__\u001b[39m(endog, exog, missing\u001b[38;5;241m=\u001b[39mmissing,\n\u001b[0;32m    923\u001b[0m                           hasconst\u001b[38;5;241m=\u001b[39mhasconst, \u001b[38;5;241m*\u001b[39m\u001b[38;5;241m*\u001b[39mkwargs)\n\u001b[0;32m    924\u001b[0m \u001b[38;5;28;01mif\u001b[39;00m \u001b[38;5;124m\"\u001b[39m\u001b[38;5;124mweights\u001b[39m\u001b[38;5;124m\"\u001b[39m \u001b[38;5;129;01min\u001b[39;00m \u001b[38;5;28mself\u001b[39m\u001b[38;5;241m.\u001b[39m_init_keys:\n\u001b[0;32m    925\u001b[0m     \u001b[38;5;28mself\u001b[39m\u001b[38;5;241m.\u001b[39m_init_keys\u001b[38;5;241m.\u001b[39mremove(\u001b[38;5;124m\"\u001b[39m\u001b[38;5;124mweights\u001b[39m\u001b[38;5;124m\"\u001b[39m)\n",
      "File \u001b[1;32m~\\anaconda3\\envs\\ebac\\Lib\\site-packages\\statsmodels\\regression\\linear_model.py:748\u001b[0m, in \u001b[0;36mWLS.__init__\u001b[1;34m(self, endog, exog, weights, missing, hasconst, **kwargs)\u001b[0m\n\u001b[0;32m    746\u001b[0m \u001b[38;5;28;01melse\u001b[39;00m:\n\u001b[0;32m    747\u001b[0m     weights \u001b[38;5;241m=\u001b[39m weights\u001b[38;5;241m.\u001b[39msqueeze()\n\u001b[1;32m--> 748\u001b[0m \u001b[38;5;28msuper\u001b[39m(WLS, \u001b[38;5;28mself\u001b[39m)\u001b[38;5;241m.\u001b[39m\u001b[38;5;21m__init__\u001b[39m(endog, exog, missing\u001b[38;5;241m=\u001b[39mmissing,\n\u001b[0;32m    749\u001b[0m                           weights\u001b[38;5;241m=\u001b[39mweights, hasconst\u001b[38;5;241m=\u001b[39mhasconst, \u001b[38;5;241m*\u001b[39m\u001b[38;5;241m*\u001b[39mkwargs)\n\u001b[0;32m    750\u001b[0m nobs \u001b[38;5;241m=\u001b[39m \u001b[38;5;28mself\u001b[39m\u001b[38;5;241m.\u001b[39mexog\u001b[38;5;241m.\u001b[39mshape[\u001b[38;5;241m0\u001b[39m]\n\u001b[0;32m    751\u001b[0m weights \u001b[38;5;241m=\u001b[39m \u001b[38;5;28mself\u001b[39m\u001b[38;5;241m.\u001b[39mweights\n",
      "File \u001b[1;32m~\\anaconda3\\envs\\ebac\\Lib\\site-packages\\statsmodels\\regression\\linear_model.py:202\u001b[0m, in \u001b[0;36mRegressionModel.__init__\u001b[1;34m(self, endog, exog, **kwargs)\u001b[0m\n\u001b[0;32m    201\u001b[0m \u001b[38;5;28;01mdef\u001b[39;00m \u001b[38;5;21m__init__\u001b[39m(\u001b[38;5;28mself\u001b[39m, endog, exog, \u001b[38;5;241m*\u001b[39m\u001b[38;5;241m*\u001b[39mkwargs):\n\u001b[1;32m--> 202\u001b[0m     \u001b[38;5;28msuper\u001b[39m(RegressionModel, \u001b[38;5;28mself\u001b[39m)\u001b[38;5;241m.\u001b[39m\u001b[38;5;21m__init__\u001b[39m(endog, exog, \u001b[38;5;241m*\u001b[39m\u001b[38;5;241m*\u001b[39mkwargs)\n\u001b[0;32m    203\u001b[0m     \u001b[38;5;28mself\u001b[39m\u001b[38;5;241m.\u001b[39mpinv_wexog: Float64Array \u001b[38;5;241m|\u001b[39m \u001b[38;5;28;01mNone\u001b[39;00m \u001b[38;5;241m=\u001b[39m \u001b[38;5;28;01mNone\u001b[39;00m\n\u001b[0;32m    204\u001b[0m     \u001b[38;5;28mself\u001b[39m\u001b[38;5;241m.\u001b[39m_data_attr\u001b[38;5;241m.\u001b[39mextend([\u001b[38;5;124m'\u001b[39m\u001b[38;5;124mpinv_wexog\u001b[39m\u001b[38;5;124m'\u001b[39m, \u001b[38;5;124m'\u001b[39m\u001b[38;5;124mwendog\u001b[39m\u001b[38;5;124m'\u001b[39m, \u001b[38;5;124m'\u001b[39m\u001b[38;5;124mwexog\u001b[39m\u001b[38;5;124m'\u001b[39m, \u001b[38;5;124m'\u001b[39m\u001b[38;5;124mweights\u001b[39m\u001b[38;5;124m'\u001b[39m])\n",
      "File \u001b[1;32m~\\anaconda3\\envs\\ebac\\Lib\\site-packages\\statsmodels\\base\\model.py:270\u001b[0m, in \u001b[0;36mLikelihoodModel.__init__\u001b[1;34m(self, endog, exog, **kwargs)\u001b[0m\n\u001b[0;32m    269\u001b[0m \u001b[38;5;28;01mdef\u001b[39;00m \u001b[38;5;21m__init__\u001b[39m(\u001b[38;5;28mself\u001b[39m, endog, exog\u001b[38;5;241m=\u001b[39m\u001b[38;5;28;01mNone\u001b[39;00m, \u001b[38;5;241m*\u001b[39m\u001b[38;5;241m*\u001b[39mkwargs):\n\u001b[1;32m--> 270\u001b[0m     \u001b[38;5;28msuper\u001b[39m()\u001b[38;5;241m.\u001b[39m\u001b[38;5;21m__init__\u001b[39m(endog, exog, \u001b[38;5;241m*\u001b[39m\u001b[38;5;241m*\u001b[39mkwargs)\n\u001b[0;32m    271\u001b[0m     \u001b[38;5;28mself\u001b[39m\u001b[38;5;241m.\u001b[39minitialize()\n",
      "File \u001b[1;32m~\\anaconda3\\envs\\ebac\\Lib\\site-packages\\statsmodels\\base\\model.py:95\u001b[0m, in \u001b[0;36mModel.__init__\u001b[1;34m(self, endog, exog, **kwargs)\u001b[0m\n\u001b[0;32m     93\u001b[0m missing \u001b[38;5;241m=\u001b[39m kwargs\u001b[38;5;241m.\u001b[39mpop(\u001b[38;5;124m'\u001b[39m\u001b[38;5;124mmissing\u001b[39m\u001b[38;5;124m'\u001b[39m, \u001b[38;5;124m'\u001b[39m\u001b[38;5;124mnone\u001b[39m\u001b[38;5;124m'\u001b[39m)\n\u001b[0;32m     94\u001b[0m hasconst \u001b[38;5;241m=\u001b[39m kwargs\u001b[38;5;241m.\u001b[39mpop(\u001b[38;5;124m'\u001b[39m\u001b[38;5;124mhasconst\u001b[39m\u001b[38;5;124m'\u001b[39m, \u001b[38;5;28;01mNone\u001b[39;00m)\n\u001b[1;32m---> 95\u001b[0m \u001b[38;5;28mself\u001b[39m\u001b[38;5;241m.\u001b[39mdata \u001b[38;5;241m=\u001b[39m \u001b[38;5;28mself\u001b[39m\u001b[38;5;241m.\u001b[39m_handle_data(endog, exog, missing, hasconst,\n\u001b[0;32m     96\u001b[0m                               \u001b[38;5;241m*\u001b[39m\u001b[38;5;241m*\u001b[39mkwargs)\n\u001b[0;32m     97\u001b[0m \u001b[38;5;28mself\u001b[39m\u001b[38;5;241m.\u001b[39mk_constant \u001b[38;5;241m=\u001b[39m \u001b[38;5;28mself\u001b[39m\u001b[38;5;241m.\u001b[39mdata\u001b[38;5;241m.\u001b[39mk_constant\n\u001b[0;32m     98\u001b[0m \u001b[38;5;28mself\u001b[39m\u001b[38;5;241m.\u001b[39mexog \u001b[38;5;241m=\u001b[39m \u001b[38;5;28mself\u001b[39m\u001b[38;5;241m.\u001b[39mdata\u001b[38;5;241m.\u001b[39mexog\n",
      "File \u001b[1;32m~\\anaconda3\\envs\\ebac\\Lib\\site-packages\\statsmodels\\base\\model.py:135\u001b[0m, in \u001b[0;36mModel._handle_data\u001b[1;34m(self, endog, exog, missing, hasconst, **kwargs)\u001b[0m\n\u001b[0;32m    134\u001b[0m \u001b[38;5;28;01mdef\u001b[39;00m \u001b[38;5;21m_handle_data\u001b[39m(\u001b[38;5;28mself\u001b[39m, endog, exog, missing, hasconst, \u001b[38;5;241m*\u001b[39m\u001b[38;5;241m*\u001b[39mkwargs):\n\u001b[1;32m--> 135\u001b[0m     data \u001b[38;5;241m=\u001b[39m handle_data(endog, exog, missing, hasconst, \u001b[38;5;241m*\u001b[39m\u001b[38;5;241m*\u001b[39mkwargs)\n\u001b[0;32m    136\u001b[0m     \u001b[38;5;66;03m# kwargs arrays could have changed, easier to just attach here\u001b[39;00m\n\u001b[0;32m    137\u001b[0m     \u001b[38;5;28;01mfor\u001b[39;00m key \u001b[38;5;129;01min\u001b[39;00m kwargs:\n",
      "File \u001b[1;32m~\\anaconda3\\envs\\ebac\\Lib\\site-packages\\statsmodels\\base\\data.py:675\u001b[0m, in \u001b[0;36mhandle_data\u001b[1;34m(endog, exog, missing, hasconst, **kwargs)\u001b[0m\n\u001b[0;32m    672\u001b[0m     exog \u001b[38;5;241m=\u001b[39m np\u001b[38;5;241m.\u001b[39masarray(exog)\n\u001b[0;32m    674\u001b[0m klass \u001b[38;5;241m=\u001b[39m handle_data_class_factory(endog, exog)\n\u001b[1;32m--> 675\u001b[0m \u001b[38;5;28;01mreturn\u001b[39;00m klass(endog, exog\u001b[38;5;241m=\u001b[39mexog, missing\u001b[38;5;241m=\u001b[39mmissing, hasconst\u001b[38;5;241m=\u001b[39mhasconst,\n\u001b[0;32m    676\u001b[0m              \u001b[38;5;241m*\u001b[39m\u001b[38;5;241m*\u001b[39mkwargs)\n",
      "File \u001b[1;32m~\\anaconda3\\envs\\ebac\\Lib\\site-packages\\statsmodels\\base\\data.py:84\u001b[0m, in \u001b[0;36mModelData.__init__\u001b[1;34m(self, endog, exog, missing, hasconst, **kwargs)\u001b[0m\n\u001b[0;32m     82\u001b[0m     \u001b[38;5;28mself\u001b[39m\u001b[38;5;241m.\u001b[39morig_endog \u001b[38;5;241m=\u001b[39m endog\n\u001b[0;32m     83\u001b[0m     \u001b[38;5;28mself\u001b[39m\u001b[38;5;241m.\u001b[39morig_exog \u001b[38;5;241m=\u001b[39m exog\n\u001b[1;32m---> 84\u001b[0m     \u001b[38;5;28mself\u001b[39m\u001b[38;5;241m.\u001b[39mendog, \u001b[38;5;28mself\u001b[39m\u001b[38;5;241m.\u001b[39mexog \u001b[38;5;241m=\u001b[39m \u001b[38;5;28mself\u001b[39m\u001b[38;5;241m.\u001b[39m_convert_endog_exog(endog, exog)\n\u001b[0;32m     86\u001b[0m \u001b[38;5;28mself\u001b[39m\u001b[38;5;241m.\u001b[39mconst_idx \u001b[38;5;241m=\u001b[39m \u001b[38;5;28;01mNone\u001b[39;00m\n\u001b[0;32m     87\u001b[0m \u001b[38;5;28mself\u001b[39m\u001b[38;5;241m.\u001b[39mk_constant \u001b[38;5;241m=\u001b[39m \u001b[38;5;241m0\u001b[39m\n",
      "File \u001b[1;32m~\\anaconda3\\envs\\ebac\\Lib\\site-packages\\statsmodels\\base\\data.py:509\u001b[0m, in \u001b[0;36mPandasData._convert_endog_exog\u001b[1;34m(self, endog, exog)\u001b[0m\n\u001b[0;32m    507\u001b[0m exog \u001b[38;5;241m=\u001b[39m exog \u001b[38;5;28;01mif\u001b[39;00m exog \u001b[38;5;129;01mis\u001b[39;00m \u001b[38;5;28;01mNone\u001b[39;00m \u001b[38;5;28;01melse\u001b[39;00m np\u001b[38;5;241m.\u001b[39masarray(exog)\n\u001b[0;32m    508\u001b[0m \u001b[38;5;28;01mif\u001b[39;00m endog\u001b[38;5;241m.\u001b[39mdtype \u001b[38;5;241m==\u001b[39m \u001b[38;5;28mobject\u001b[39m \u001b[38;5;129;01mor\u001b[39;00m exog \u001b[38;5;129;01mis\u001b[39;00m \u001b[38;5;129;01mnot\u001b[39;00m \u001b[38;5;28;01mNone\u001b[39;00m \u001b[38;5;129;01mand\u001b[39;00m exog\u001b[38;5;241m.\u001b[39mdtype \u001b[38;5;241m==\u001b[39m \u001b[38;5;28mobject\u001b[39m:\n\u001b[1;32m--> 509\u001b[0m     \u001b[38;5;28;01mraise\u001b[39;00m \u001b[38;5;167;01mValueError\u001b[39;00m(\u001b[38;5;124m\"\u001b[39m\u001b[38;5;124mPandas data cast to numpy dtype of object. \u001b[39m\u001b[38;5;124m\"\u001b[39m\n\u001b[0;32m    510\u001b[0m                      \u001b[38;5;124m\"\u001b[39m\u001b[38;5;124mCheck input data with np.asarray(data).\u001b[39m\u001b[38;5;124m\"\u001b[39m)\n\u001b[0;32m    511\u001b[0m \u001b[38;5;28;01mreturn\u001b[39;00m \u001b[38;5;28msuper\u001b[39m(PandasData, \u001b[38;5;28mself\u001b[39m)\u001b[38;5;241m.\u001b[39m_convert_endog_exog(endog, exog)\n",
      "\u001b[1;31mValueError\u001b[0m: Pandas data cast to numpy dtype of object. Check input data with np.asarray(data)."
     ]
    }
   ],
   "source": [
    "stepwise_selection(X_test, y_test)"
   ]
  },
  {
   "cell_type": "code",
   "execution_count": null,
   "metadata": {},
   "outputs": [],
   "source": []
  }
 ],
 "metadata": {
  "kernelspec": {
   "display_name": "Python 3 (ipykernel)",
   "language": "python",
   "name": "python3"
  },
  "language_info": {
   "codemirror_mode": {
    "name": "ipython",
    "version": 3
   },
   "file_extension": ".py",
   "mimetype": "text/x-python",
   "name": "python",
   "nbconvert_exporter": "python",
   "pygments_lexer": "ipython3",
   "version": "3.11.2"
  }
 },
 "nbformat": 4,
 "nbformat_minor": 4
}
