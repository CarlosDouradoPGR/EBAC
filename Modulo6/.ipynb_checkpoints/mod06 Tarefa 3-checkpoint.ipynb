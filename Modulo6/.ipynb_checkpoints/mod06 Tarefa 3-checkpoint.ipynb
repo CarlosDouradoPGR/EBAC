{
 "cells": [
  {
   "cell_type": "markdown",
   "metadata": {},
   "source": [
    "# Módulo 6 tarefa 3\n",
    "\n",
    "#### 1) A base 'sinasc_RO_2019.csv' contém dados do sistema de nascidos vivos do DataSUS, cujo dicionário de dados está no arquivo 'Estrutura_SINASC_para_CD.pdf'. Carregue esse arquivo."
   ]
  },
  {
   "cell_type": "code",
   "execution_count": 1,
   "metadata": {},
   "outputs": [],
   "source": [
    "import pandas as pd\n",
    "import seaborn as sns\n",
    "import matplotlib.pyplot as plt"
   ]
  },
  {
   "cell_type": "code",
   "execution_count": 2,
   "metadata": {},
   "outputs": [],
   "source": [
    "df = pd.read_csv(\"SINASC_2019.csv\")"
   ]
  },
  {
   "cell_type": "code",
   "execution_count": 3,
   "metadata": {},
   "outputs": [
    {
     "data": {
      "text/html": [
       "<div>\n",
       "<style scoped>\n",
       "    .dataframe tbody tr th:only-of-type {\n",
       "        vertical-align: middle;\n",
       "    }\n",
       "\n",
       "    .dataframe tbody tr th {\n",
       "        vertical-align: top;\n",
       "    }\n",
       "\n",
       "    .dataframe thead th {\n",
       "        text-align: right;\n",
       "    }\n",
       "</style>\n",
       "<table border=\"1\" class=\"dataframe\">\n",
       "  <thead>\n",
       "    <tr style=\"text-align: right;\">\n",
       "      <th></th>\n",
       "      <th>ORIGEM</th>\n",
       "      <th>CODESTAB</th>\n",
       "      <th>CODMUNNASC</th>\n",
       "      <th>LOCNASC</th>\n",
       "      <th>IDADEMAE</th>\n",
       "      <th>ESTCIVMAE</th>\n",
       "      <th>ESCMAE</th>\n",
       "      <th>CODOCUPMAE</th>\n",
       "      <th>QTDFILVIVO</th>\n",
       "      <th>QTDFILMORT</th>\n",
       "      <th>...</th>\n",
       "      <th>KOTELCHUCK</th>\n",
       "      <th>CONTADOR</th>\n",
       "      <th>munResStatus</th>\n",
       "      <th>munResTipo</th>\n",
       "      <th>munResNome</th>\n",
       "      <th>munResUf</th>\n",
       "      <th>munResLat</th>\n",
       "      <th>munResLon</th>\n",
       "      <th>munResAlt</th>\n",
       "      <th>munResArea</th>\n",
       "    </tr>\n",
       "  </thead>\n",
       "  <tbody>\n",
       "    <tr>\n",
       "      <th>0</th>\n",
       "      <td>1</td>\n",
       "      <td>2679477.0</td>\n",
       "      <td>110001</td>\n",
       "      <td>1</td>\n",
       "      <td>19</td>\n",
       "      <td>5.0</td>\n",
       "      <td>8 a 11 anos</td>\n",
       "      <td>NaN</td>\n",
       "      <td>0.0</td>\n",
       "      <td>0.0</td>\n",
       "      <td>...</td>\n",
       "      <td>5</td>\n",
       "      <td>1</td>\n",
       "      <td>ATIVO</td>\n",
       "      <td>MUNIC</td>\n",
       "      <td>Alta Floresta D'Oeste</td>\n",
       "      <td>Rondônia</td>\n",
       "      <td>-11.93554</td>\n",
       "      <td>-61.99982</td>\n",
       "      <td>338.0</td>\n",
       "      <td>7067.025</td>\n",
       "    </tr>\n",
       "    <tr>\n",
       "      <th>1</th>\n",
       "      <td>1</td>\n",
       "      <td>2679477.0</td>\n",
       "      <td>110001</td>\n",
       "      <td>1</td>\n",
       "      <td>29</td>\n",
       "      <td>2.0</td>\n",
       "      <td>8 a 11 anos</td>\n",
       "      <td>999992.0</td>\n",
       "      <td>1.0</td>\n",
       "      <td>0.0</td>\n",
       "      <td>...</td>\n",
       "      <td>5</td>\n",
       "      <td>2</td>\n",
       "      <td>ATIVO</td>\n",
       "      <td>MUNIC</td>\n",
       "      <td>Alta Floresta D'Oeste</td>\n",
       "      <td>Rondônia</td>\n",
       "      <td>-11.93554</td>\n",
       "      <td>-61.99982</td>\n",
       "      <td>338.0</td>\n",
       "      <td>7067.025</td>\n",
       "    </tr>\n",
       "    <tr>\n",
       "      <th>2</th>\n",
       "      <td>1</td>\n",
       "      <td>2679477.0</td>\n",
       "      <td>110001</td>\n",
       "      <td>1</td>\n",
       "      <td>37</td>\n",
       "      <td>9.0</td>\n",
       "      <td>8 a 11 anos</td>\n",
       "      <td>513205.0</td>\n",
       "      <td>2.0</td>\n",
       "      <td>0.0</td>\n",
       "      <td>...</td>\n",
       "      <td>5</td>\n",
       "      <td>3</td>\n",
       "      <td>ATIVO</td>\n",
       "      <td>MUNIC</td>\n",
       "      <td>Alta Floresta D'Oeste</td>\n",
       "      <td>Rondônia</td>\n",
       "      <td>-11.93554</td>\n",
       "      <td>-61.99982</td>\n",
       "      <td>338.0</td>\n",
       "      <td>7067.025</td>\n",
       "    </tr>\n",
       "    <tr>\n",
       "      <th>3</th>\n",
       "      <td>1</td>\n",
       "      <td>2516500.0</td>\n",
       "      <td>110001</td>\n",
       "      <td>1</td>\n",
       "      <td>30</td>\n",
       "      <td>5.0</td>\n",
       "      <td>12 anos ou mais</td>\n",
       "      <td>231205.0</td>\n",
       "      <td>0.0</td>\n",
       "      <td>0.0</td>\n",
       "      <td>...</td>\n",
       "      <td>4</td>\n",
       "      <td>4</td>\n",
       "      <td>ATIVO</td>\n",
       "      <td>MUNIC</td>\n",
       "      <td>Alto Alegre dos Parecis</td>\n",
       "      <td>Rondônia</td>\n",
       "      <td>-12.13178</td>\n",
       "      <td>-61.85308</td>\n",
       "      <td>397.0</td>\n",
       "      <td>3958.273</td>\n",
       "    </tr>\n",
       "    <tr>\n",
       "      <th>4</th>\n",
       "      <td>1</td>\n",
       "      <td>2516500.0</td>\n",
       "      <td>110001</td>\n",
       "      <td>1</td>\n",
       "      <td>30</td>\n",
       "      <td>2.0</td>\n",
       "      <td>8 a 11 anos</td>\n",
       "      <td>999992.0</td>\n",
       "      <td>1.0</td>\n",
       "      <td>0.0</td>\n",
       "      <td>...</td>\n",
       "      <td>5</td>\n",
       "      <td>5</td>\n",
       "      <td>ATIVO</td>\n",
       "      <td>MUNIC</td>\n",
       "      <td>Alta Floresta D'Oeste</td>\n",
       "      <td>Rondônia</td>\n",
       "      <td>-11.93554</td>\n",
       "      <td>-61.99982</td>\n",
       "      <td>338.0</td>\n",
       "      <td>7067.025</td>\n",
       "    </tr>\n",
       "  </tbody>\n",
       "</table>\n",
       "<p>5 rows × 69 columns</p>\n",
       "</div>"
      ],
      "text/plain": [
       "   ORIGEM   CODESTAB  CODMUNNASC  LOCNASC  IDADEMAE  ESTCIVMAE   \n",
       "0       1  2679477.0      110001        1        19        5.0  \\\n",
       "1       1  2679477.0      110001        1        29        2.0   \n",
       "2       1  2679477.0      110001        1        37        9.0   \n",
       "3       1  2516500.0      110001        1        30        5.0   \n",
       "4       1  2516500.0      110001        1        30        2.0   \n",
       "\n",
       "            ESCMAE  CODOCUPMAE  QTDFILVIVO  QTDFILMORT  ...  KOTELCHUCK   \n",
       "0      8 a 11 anos         NaN         0.0         0.0  ...           5  \\\n",
       "1      8 a 11 anos    999992.0         1.0         0.0  ...           5   \n",
       "2      8 a 11 anos    513205.0         2.0         0.0  ...           5   \n",
       "3  12 anos ou mais    231205.0         0.0         0.0  ...           4   \n",
       "4      8 a 11 anos    999992.0         1.0         0.0  ...           5   \n",
       "\n",
       "  CONTADOR munResStatus munResTipo               munResNome  munResUf   \n",
       "0        1        ATIVO      MUNIC    Alta Floresta D'Oeste  Rondônia  \\\n",
       "1        2        ATIVO      MUNIC    Alta Floresta D'Oeste  Rondônia   \n",
       "2        3        ATIVO      MUNIC    Alta Floresta D'Oeste  Rondônia   \n",
       "3        4        ATIVO      MUNIC  Alto Alegre dos Parecis  Rondônia   \n",
       "4        5        ATIVO      MUNIC    Alta Floresta D'Oeste  Rondônia   \n",
       "\n",
       "   munResLat munResLon  munResAlt  munResArea  \n",
       "0  -11.93554 -61.99982      338.0    7067.025  \n",
       "1  -11.93554 -61.99982      338.0    7067.025  \n",
       "2  -11.93554 -61.99982      338.0    7067.025  \n",
       "3  -12.13178 -61.85308      397.0    3958.273  \n",
       "4  -11.93554 -61.99982      338.0    7067.025  \n",
       "\n",
       "[5 rows x 69 columns]"
      ]
     },
     "execution_count": 3,
     "metadata": {},
     "output_type": "execute_result"
    }
   ],
   "source": [
    "df.head()"
   ]
  },
  {
   "cell_type": "code",
   "execution_count": 4,
   "metadata": {},
   "outputs": [
    {
     "data": {
      "text/plain": [
       "Index(['ORIGEM', 'CODESTAB', 'CODMUNNASC', 'LOCNASC', 'IDADEMAE', 'ESTCIVMAE',\n",
       "       'ESCMAE', 'CODOCUPMAE', 'QTDFILVIVO', 'QTDFILMORT', 'CODMUNRES',\n",
       "       'GESTACAO', 'GRAVIDEZ', 'PARTO', 'CONSULTAS', 'DTNASC', 'HORANASC',\n",
       "       'SEXO', 'APGAR1', 'APGAR5', 'RACACOR', 'PESO', 'IDANOMAL', 'DTCADASTRO',\n",
       "       'CODANOMAL', 'NUMEROLOTE', 'VERSAOSIST', 'DTRECEBIM', 'DIFDATA',\n",
       "       'DTRECORIGA', 'NATURALMAE', 'CODMUNNATU', 'CODUFNATU', 'ESCMAE2010',\n",
       "       'SERIESCMAE', 'DTNASCMAE', 'RACACORMAE', 'QTDGESTANT', 'QTDPARTNOR',\n",
       "       'QTDPARTCES', 'IDADEPAI', 'DTULTMENST', 'SEMAGESTAC', 'TPMETESTIM',\n",
       "       'CONSPRENAT', 'MESPRENAT', 'TPAPRESENT', 'STTRABPART', 'STCESPARTO',\n",
       "       'TPNASCASSI', 'TPFUNCRESP', 'TPDOCRESP', 'DTDECLARAC', 'ESCMAEAGR1',\n",
       "       'STDNEPIDEM', 'STDNNOVA', 'CODPAISRES', 'TPROBSON', 'PARIDADE',\n",
       "       'KOTELCHUCK', 'CONTADOR', 'munResStatus', 'munResTipo', 'munResNome',\n",
       "       'munResUf', 'munResLat', 'munResLon', 'munResAlt', 'munResArea'],\n",
       "      dtype='object')"
      ]
     },
     "execution_count": 4,
     "metadata": {},
     "output_type": "execute_result"
    }
   ],
   "source": [
    "df.columns"
   ]
  },
  {
   "cell_type": "markdown",
   "metadata": {},
   "source": [
    "Como iremos utilizar apenas as colunas ``GESTACAO`` e ``APGAR5`` irei fazer a seleção apenas dessas duas colunase outras que acho relevante para a analise"
   ]
  },
  {
   "cell_type": "code",
   "execution_count": 5,
   "metadata": {},
   "outputs": [],
   "source": [
    "df = df[[\"APGAR5\", \"GESTACAO\", \"SEXO\", \"PESO\", \"IDADEMAE\"]]"
   ]
  },
  {
   "cell_type": "code",
   "execution_count": 6,
   "metadata": {},
   "outputs": [
    {
     "data": {
      "text/html": [
       "<div>\n",
       "<style scoped>\n",
       "    .dataframe tbody tr th:only-of-type {\n",
       "        vertical-align: middle;\n",
       "    }\n",
       "\n",
       "    .dataframe tbody tr th {\n",
       "        vertical-align: top;\n",
       "    }\n",
       "\n",
       "    .dataframe thead th {\n",
       "        text-align: right;\n",
       "    }\n",
       "</style>\n",
       "<table border=\"1\" class=\"dataframe\">\n",
       "  <thead>\n",
       "    <tr style=\"text-align: right;\">\n",
       "      <th></th>\n",
       "      <th>APGAR5</th>\n",
       "      <th>GESTACAO</th>\n",
       "      <th>SEXO</th>\n",
       "      <th>PESO</th>\n",
       "      <th>IDADEMAE</th>\n",
       "    </tr>\n",
       "  </thead>\n",
       "  <tbody>\n",
       "    <tr>\n",
       "      <th>0</th>\n",
       "      <td>10.0</td>\n",
       "      <td>37 a 41 semanas</td>\n",
       "      <td>Masculino</td>\n",
       "      <td>3685</td>\n",
       "      <td>19</td>\n",
       "    </tr>\n",
       "    <tr>\n",
       "      <th>1</th>\n",
       "      <td>9.0</td>\n",
       "      <td>37 a 41 semanas</td>\n",
       "      <td>Feminino</td>\n",
       "      <td>3055</td>\n",
       "      <td>29</td>\n",
       "    </tr>\n",
       "    <tr>\n",
       "      <th>2</th>\n",
       "      <td>10.0</td>\n",
       "      <td>37 a 41 semanas</td>\n",
       "      <td>Feminino</td>\n",
       "      <td>3460</td>\n",
       "      <td>37</td>\n",
       "    </tr>\n",
       "    <tr>\n",
       "      <th>3</th>\n",
       "      <td>10.0</td>\n",
       "      <td>37 a 41 semanas</td>\n",
       "      <td>Feminino</td>\n",
       "      <td>2982</td>\n",
       "      <td>30</td>\n",
       "    </tr>\n",
       "    <tr>\n",
       "      <th>4</th>\n",
       "      <td>10.0</td>\n",
       "      <td>37 a 41 semanas</td>\n",
       "      <td>Feminino</td>\n",
       "      <td>3310</td>\n",
       "      <td>30</td>\n",
       "    </tr>\n",
       "  </tbody>\n",
       "</table>\n",
       "</div>"
      ],
      "text/plain": [
       "   APGAR5         GESTACAO       SEXO  PESO  IDADEMAE\n",
       "0    10.0  37 a 41 semanas  Masculino  3685        19\n",
       "1     9.0  37 a 41 semanas   Feminino  3055        29\n",
       "2    10.0  37 a 41 semanas   Feminino  3460        37\n",
       "3    10.0  37 a 41 semanas   Feminino  2982        30\n",
       "4    10.0  37 a 41 semanas   Feminino  3310        30"
      ]
     },
     "execution_count": 6,
     "metadata": {},
     "output_type": "execute_result"
    }
   ],
   "source": [
    "df.head()"
   ]
  },
  {
   "cell_type": "code",
   "execution_count": 7,
   "metadata": {},
   "outputs": [
    {
     "data": {
      "text/plain": [
       "APGAR5\n",
       "9.0     16076\n",
       "10.0     8393\n",
       "8.0      1994\n",
       "7.0       241\n",
       "6.0        79\n",
       "5.0        45\n",
       "1.0        24\n",
       "4.0        23\n",
       "2.0        18\n",
       "0.0        17\n",
       "3.0        15\n",
       "Name: count, dtype: int64"
      ]
     },
     "execution_count": 7,
     "metadata": {},
     "output_type": "execute_result"
    }
   ],
   "source": [
    "df[\"APGAR5\"].value_counts()"
   ]
  },
  {
   "cell_type": "markdown",
   "metadata": {},
   "source": [
    "#### 2) Categorize a variável APGAR5 conforme as seguintes quebras:\n",
    "\n",
    "- 0 a 3: 'asfixia grave'\n",
    "- 4 a 5: 'asfixia moderada'\n",
    "- 6 a 7: 'asfixia leve'\n",
    "- 8 a 10: 'normal'"
   ]
  },
  {
   "cell_type": "code",
   "execution_count": 8,
   "metadata": {},
   "outputs": [],
   "source": [
    "df[\"cat_1\"] = None"
   ]
  },
  {
   "cell_type": "code",
   "execution_count": 9,
   "metadata": {},
   "outputs": [],
   "source": [
    "df.loc[df[\"APGAR5\"] <= 3, \"cat_1\"] = \"asfixia grave\""
   ]
  },
  {
   "cell_type": "code",
   "execution_count": 10,
   "metadata": {},
   "outputs": [],
   "source": [
    "df.loc[(df[\"APGAR5\"] > 3) & (df[\"APGAR5\"] <= 5 ), \"cat_1\"] = \"asfixia moderada\""
   ]
  },
  {
   "cell_type": "code",
   "execution_count": 11,
   "metadata": {},
   "outputs": [],
   "source": [
    "df.loc[(df[\"APGAR5\"] > 5) & (df[\"APGAR5\"] <= 7 ), \"cat_1\"] = \"asfixia leve\""
   ]
  },
  {
   "cell_type": "code",
   "execution_count": 12,
   "metadata": {},
   "outputs": [],
   "source": [
    "df.loc[df[\"APGAR5\"] >= 8 , \"cat_1\"] = \"normal\""
   ]
  },
  {
   "cell_type": "code",
   "execution_count": 13,
   "metadata": {},
   "outputs": [
    {
     "data": {
      "text/html": [
       "<div>\n",
       "<style scoped>\n",
       "    .dataframe tbody tr th:only-of-type {\n",
       "        vertical-align: middle;\n",
       "    }\n",
       "\n",
       "    .dataframe tbody tr th {\n",
       "        vertical-align: top;\n",
       "    }\n",
       "\n",
       "    .dataframe thead th {\n",
       "        text-align: right;\n",
       "    }\n",
       "</style>\n",
       "<table border=\"1\" class=\"dataframe\">\n",
       "  <thead>\n",
       "    <tr style=\"text-align: right;\">\n",
       "      <th></th>\n",
       "      <th>APGAR5</th>\n",
       "      <th>GESTACAO</th>\n",
       "      <th>SEXO</th>\n",
       "      <th>PESO</th>\n",
       "      <th>IDADEMAE</th>\n",
       "      <th>cat_1</th>\n",
       "    </tr>\n",
       "  </thead>\n",
       "  <tbody>\n",
       "    <tr>\n",
       "      <th>0</th>\n",
       "      <td>10.0</td>\n",
       "      <td>37 a 41 semanas</td>\n",
       "      <td>Masculino</td>\n",
       "      <td>3685</td>\n",
       "      <td>19</td>\n",
       "      <td>normal</td>\n",
       "    </tr>\n",
       "    <tr>\n",
       "      <th>1</th>\n",
       "      <td>9.0</td>\n",
       "      <td>37 a 41 semanas</td>\n",
       "      <td>Feminino</td>\n",
       "      <td>3055</td>\n",
       "      <td>29</td>\n",
       "      <td>normal</td>\n",
       "    </tr>\n",
       "    <tr>\n",
       "      <th>2</th>\n",
       "      <td>10.0</td>\n",
       "      <td>37 a 41 semanas</td>\n",
       "      <td>Feminino</td>\n",
       "      <td>3460</td>\n",
       "      <td>37</td>\n",
       "      <td>normal</td>\n",
       "    </tr>\n",
       "    <tr>\n",
       "      <th>3</th>\n",
       "      <td>10.0</td>\n",
       "      <td>37 a 41 semanas</td>\n",
       "      <td>Feminino</td>\n",
       "      <td>2982</td>\n",
       "      <td>30</td>\n",
       "      <td>normal</td>\n",
       "    </tr>\n",
       "    <tr>\n",
       "      <th>4</th>\n",
       "      <td>10.0</td>\n",
       "      <td>37 a 41 semanas</td>\n",
       "      <td>Feminino</td>\n",
       "      <td>3310</td>\n",
       "      <td>30</td>\n",
       "      <td>normal</td>\n",
       "    </tr>\n",
       "  </tbody>\n",
       "</table>\n",
       "</div>"
      ],
      "text/plain": [
       "   APGAR5         GESTACAO       SEXO  PESO  IDADEMAE   cat_1\n",
       "0    10.0  37 a 41 semanas  Masculino  3685        19  normal\n",
       "1     9.0  37 a 41 semanas   Feminino  3055        29  normal\n",
       "2    10.0  37 a 41 semanas   Feminino  3460        37  normal\n",
       "3    10.0  37 a 41 semanas   Feminino  2982        30  normal\n",
       "4    10.0  37 a 41 semanas   Feminino  3310        30  normal"
      ]
     },
     "execution_count": 13,
     "metadata": {},
     "output_type": "execute_result"
    }
   ],
   "source": [
    "df.head()"
   ]
  },
  {
   "cell_type": "markdown",
   "metadata": {},
   "source": [
    "#### 3) Monte um gráfico comparando a distribuição de APGAR5 por sexo para cada grupo de tempo de gestação (GESTACAO)."
   ]
  },
  {
   "cell_type": "code",
   "execution_count": 14,
   "metadata": {},
   "outputs": [
    {
     "data": {
      "text/plain": [
       "<Axes: xlabel='APGAR5', ylabel='GESTACAO'>"
      ]
     },
     "execution_count": 14,
     "metadata": {},
     "output_type": "execute_result"
    },
    {
     "data": {
      "image/png": "[encoded data removed]",
      "text/plain": [
       "<Figure size 400x400 with 1 Axes>"
      ]
     },
     "metadata": {},
     "output_type": "display_data"
    }
   ],
   "source": [
    "fig, ax = plt.subplots(figsize=(4,4))\n",
    "\n",
    "sns.scatterplot(x= \"APGAR5\",\n",
    "                y=\"GESTACAO\",\n",
    "                data=df,\n",
    "                hue = 'GESTACAO',\n",
    "              # size=\"GESTACAO\",\n",
    "               alpha=.1,\n",
    "               legend=False,\n",
    "               palette=[\"#3A0CA3\"] * 6)"
   ]
  },
  {
   "cell_type": "markdown",
   "metadata": {},
   "source": [
    "####  4) Monte uma tabela cruzada com APGAR5 nas colunas e GESTACAO nas linhas"
   ]
  },
  {
   "cell_type": "code",
   "execution_count": 15,
   "metadata": {},
   "outputs": [],
   "source": [
    "df_cruz = pd.crosstab(df[\"GESTACAO\"], df[\"APGAR5\"])"
   ]
  },
  {
   "cell_type": "code",
   "execution_count": 16,
   "metadata": {},
   "outputs": [
    {
     "data": {
      "text/html": [
       "<div>\n",
       "<style scoped>\n",
       "    .dataframe tbody tr th:only-of-type {\n",
       "        vertical-align: middle;\n",
       "    }\n",
       "\n",
       "    .dataframe tbody tr th {\n",
       "        vertical-align: top;\n",
       "    }\n",
       "\n",
       "    .dataframe thead th {\n",
       "        text-align: right;\n",
       "    }\n",
       "</style>\n",
       "<table border=\"1\" class=\"dataframe\">\n",
       "  <thead>\n",
       "    <tr style=\"text-align: right;\">\n",
       "      <th>APGAR5</th>\n",
       "      <th>0.0</th>\n",
       "      <th>1.0</th>\n",
       "      <th>2.0</th>\n",
       "      <th>3.0</th>\n",
       "      <th>4.0</th>\n",
       "      <th>5.0</th>\n",
       "      <th>6.0</th>\n",
       "      <th>7.0</th>\n",
       "      <th>8.0</th>\n",
       "      <th>9.0</th>\n",
       "      <th>10.0</th>\n",
       "    </tr>\n",
       "    <tr>\n",
       "      <th>GESTACAO</th>\n",
       "      <th></th>\n",
       "      <th></th>\n",
       "      <th></th>\n",
       "      <th></th>\n",
       "      <th></th>\n",
       "      <th></th>\n",
       "      <th></th>\n",
       "      <th></th>\n",
       "      <th></th>\n",
       "      <th></th>\n",
       "      <th></th>\n",
       "    </tr>\n",
       "  </thead>\n",
       "  <tbody>\n",
       "    <tr>\n",
       "      <th>22 a 27 semanas</th>\n",
       "      <td>7</td>\n",
       "      <td>0</td>\n",
       "      <td>8</td>\n",
       "      <td>6</td>\n",
       "      <td>1</td>\n",
       "      <td>0</td>\n",
       "      <td>2</td>\n",
       "      <td>10</td>\n",
       "      <td>24</td>\n",
       "      <td>19</td>\n",
       "      <td>8</td>\n",
       "    </tr>\n",
       "    <tr>\n",
       "      <th>28 a 31 semanas</th>\n",
       "      <td>0</td>\n",
       "      <td>0</td>\n",
       "      <td>2</td>\n",
       "      <td>1</td>\n",
       "      <td>5</td>\n",
       "      <td>7</td>\n",
       "      <td>7</td>\n",
       "      <td>11</td>\n",
       "      <td>61</td>\n",
       "      <td>55</td>\n",
       "      <td>13</td>\n",
       "    </tr>\n",
       "    <tr>\n",
       "      <th>32 a 36 semanas</th>\n",
       "      <td>2</td>\n",
       "      <td>2</td>\n",
       "      <td>2</td>\n",
       "      <td>2</td>\n",
       "      <td>8</td>\n",
       "      <td>11</td>\n",
       "      <td>17</td>\n",
       "      <td>56</td>\n",
       "      <td>362</td>\n",
       "      <td>1307</td>\n",
       "      <td>465</td>\n",
       "    </tr>\n",
       "    <tr>\n",
       "      <th>37 a 41 semanas</th>\n",
       "      <td>5</td>\n",
       "      <td>20</td>\n",
       "      <td>3</td>\n",
       "      <td>5</td>\n",
       "      <td>7</td>\n",
       "      <td>21</td>\n",
       "      <td>45</td>\n",
       "      <td>151</td>\n",
       "      <td>1417</td>\n",
       "      <td>13565</td>\n",
       "      <td>7284</td>\n",
       "    </tr>\n",
       "    <tr>\n",
       "      <th>42 semanas e mais</th>\n",
       "      <td>1</td>\n",
       "      <td>0</td>\n",
       "      <td>0</td>\n",
       "      <td>0</td>\n",
       "      <td>0</td>\n",
       "      <td>1</td>\n",
       "      <td>1</td>\n",
       "      <td>5</td>\n",
       "      <td>44</td>\n",
       "      <td>423</td>\n",
       "      <td>223</td>\n",
       "    </tr>\n",
       "    <tr>\n",
       "      <th>Menos de 22 semanas</th>\n",
       "      <td>1</td>\n",
       "      <td>0</td>\n",
       "      <td>1</td>\n",
       "      <td>0</td>\n",
       "      <td>0</td>\n",
       "      <td>0</td>\n",
       "      <td>0</td>\n",
       "      <td>1</td>\n",
       "      <td>0</td>\n",
       "      <td>3</td>\n",
       "      <td>1</td>\n",
       "    </tr>\n",
       "  </tbody>\n",
       "</table>\n",
       "</div>"
      ],
      "text/plain": [
       "APGAR5               0.0   1.0   2.0   3.0   4.0   5.0   6.0   7.0   8.0    \n",
       "GESTACAO                                                                    \n",
       "22 a 27 semanas         7     0     8     6     1     0     2    10    24  \\\n",
       "28 a 31 semanas         0     0     2     1     5     7     7    11    61   \n",
       "32 a 36 semanas         2     2     2     2     8    11    17    56   362   \n",
       "37 a 41 semanas         5    20     3     5     7    21    45   151  1417   \n",
       "42 semanas e mais       1     0     0     0     0     1     1     5    44   \n",
       "Menos de 22 semanas     1     0     1     0     0     0     0     1     0   \n",
       "\n",
       "APGAR5                9.0   10.0  \n",
       "GESTACAO                          \n",
       "22 a 27 semanas         19     8  \n",
       "28 a 31 semanas         55    13  \n",
       "32 a 36 semanas       1307   465  \n",
       "37 a 41 semanas      13565  7284  \n",
       "42 semanas e mais      423   223  \n",
       "Menos de 22 semanas      3     1  "
      ]
     },
     "execution_count": 16,
     "metadata": {},
     "output_type": "execute_result"
    }
   ],
   "source": [
    "df_cruz"
   ]
  },
  {
   "cell_type": "markdown",
   "metadata": {},
   "source": [
    "####  5) Da tabela cruzada do intem anterior, calcule os percentuais de linha. Ou seja, a distribuição da variável APGAR5 para cada classe de GESTACAO dado."
   ]
  },
  {
   "cell_type": "code",
   "execution_count": 17,
   "metadata": {},
   "outputs": [
    {
     "data": {
      "text/plain": [
       "APGAR5\n",
       "0.0      7\n",
       "1.0      0\n",
       "2.0      8\n",
       "3.0      6\n",
       "4.0      1\n",
       "5.0      0\n",
       "6.0      2\n",
       "7.0     10\n",
       "8.0     24\n",
       "9.0     19\n",
       "10.0     8\n",
       "Name: 22 a 27 semanas, dtype: int64"
      ]
     },
     "execution_count": 17,
     "metadata": {},
     "output_type": "execute_result"
    }
   ],
   "source": [
    "df_cruz.iloc[0,:]"
   ]
  },
  {
   "cell_type": "code",
   "execution_count": 18,
   "metadata": {},
   "outputs": [],
   "source": [
    "linhas = list()\n",
    "for i in range(0, 6):\n",
    "    linhas.append(df_cruz.iloc[i, :].sum())"
   ]
  },
  {
   "cell_type": "code",
   "execution_count": 19,
   "metadata": {},
   "outputs": [
    {
     "data": {
      "text/plain": [
       "[85, 162, 2234, 22523, 698, 7]"
      ]
     },
     "execution_count": 19,
     "metadata": {},
     "output_type": "execute_result"
    }
   ],
   "source": [
    "linhas"
   ]
  },
  {
   "cell_type": "code",
   "execution_count": 20,
   "metadata": {},
   "outputs": [],
   "source": [
    "df_div = df_cruz.div(linhas, axis=0)"
   ]
  },
  {
   "cell_type": "code",
   "execution_count": 21,
   "metadata": {},
   "outputs": [
    {
     "data": {
      "text/html": [
       "<div>\n",
       "<style scoped>\n",
       "    .dataframe tbody tr th:only-of-type {\n",
       "        vertical-align: middle;\n",
       "    }\n",
       "\n",
       "    .dataframe tbody tr th {\n",
       "        vertical-align: top;\n",
       "    }\n",
       "\n",
       "    .dataframe thead th {\n",
       "        text-align: right;\n",
       "    }\n",
       "</style>\n",
       "<table border=\"1\" class=\"dataframe\">\n",
       "  <thead>\n",
       "    <tr style=\"text-align: right;\">\n",
       "      <th>APGAR5</th>\n",
       "      <th>0.0</th>\n",
       "      <th>1.0</th>\n",
       "      <th>2.0</th>\n",
       "      <th>3.0</th>\n",
       "      <th>4.0</th>\n",
       "      <th>5.0</th>\n",
       "      <th>6.0</th>\n",
       "      <th>7.0</th>\n",
       "      <th>8.0</th>\n",
       "      <th>9.0</th>\n",
       "      <th>10.0</th>\n",
       "    </tr>\n",
       "    <tr>\n",
       "      <th>GESTACAO</th>\n",
       "      <th></th>\n",
       "      <th></th>\n",
       "      <th></th>\n",
       "      <th></th>\n",
       "      <th></th>\n",
       "      <th></th>\n",
       "      <th></th>\n",
       "      <th></th>\n",
       "      <th></th>\n",
       "      <th></th>\n",
       "      <th></th>\n",
       "    </tr>\n",
       "  </thead>\n",
       "  <tbody>\n",
       "    <tr>\n",
       "      <th>22 a 27 semanas</th>\n",
       "      <td>0.082353</td>\n",
       "      <td>0.000000</td>\n",
       "      <td>0.094118</td>\n",
       "      <td>0.070588</td>\n",
       "      <td>0.011765</td>\n",
       "      <td>0.000000</td>\n",
       "      <td>0.023529</td>\n",
       "      <td>0.117647</td>\n",
       "      <td>0.282353</td>\n",
       "      <td>0.223529</td>\n",
       "      <td>0.094118</td>\n",
       "    </tr>\n",
       "    <tr>\n",
       "      <th>28 a 31 semanas</th>\n",
       "      <td>0.000000</td>\n",
       "      <td>0.000000</td>\n",
       "      <td>0.012346</td>\n",
       "      <td>0.006173</td>\n",
       "      <td>0.030864</td>\n",
       "      <td>0.043210</td>\n",
       "      <td>0.043210</td>\n",
       "      <td>0.067901</td>\n",
       "      <td>0.376543</td>\n",
       "      <td>0.339506</td>\n",
       "      <td>0.080247</td>\n",
       "    </tr>\n",
       "    <tr>\n",
       "      <th>32 a 36 semanas</th>\n",
       "      <td>0.000895</td>\n",
       "      <td>0.000895</td>\n",
       "      <td>0.000895</td>\n",
       "      <td>0.000895</td>\n",
       "      <td>0.003581</td>\n",
       "      <td>0.004924</td>\n",
       "      <td>0.007610</td>\n",
       "      <td>0.025067</td>\n",
       "      <td>0.162041</td>\n",
       "      <td>0.585049</td>\n",
       "      <td>0.208147</td>\n",
       "    </tr>\n",
       "    <tr>\n",
       "      <th>37 a 41 semanas</th>\n",
       "      <td>0.000222</td>\n",
       "      <td>0.000888</td>\n",
       "      <td>0.000133</td>\n",
       "      <td>0.000222</td>\n",
       "      <td>0.000311</td>\n",
       "      <td>0.000932</td>\n",
       "      <td>0.001998</td>\n",
       "      <td>0.006704</td>\n",
       "      <td>0.062913</td>\n",
       "      <td>0.602273</td>\n",
       "      <td>0.323403</td>\n",
       "    </tr>\n",
       "    <tr>\n",
       "      <th>42 semanas e mais</th>\n",
       "      <td>0.001433</td>\n",
       "      <td>0.000000</td>\n",
       "      <td>0.000000</td>\n",
       "      <td>0.000000</td>\n",
       "      <td>0.000000</td>\n",
       "      <td>0.001433</td>\n",
       "      <td>0.001433</td>\n",
       "      <td>0.007163</td>\n",
       "      <td>0.063037</td>\n",
       "      <td>0.606017</td>\n",
       "      <td>0.319484</td>\n",
       "    </tr>\n",
       "  </tbody>\n",
       "</table>\n",
       "</div>"
      ],
      "text/plain": [
       "APGAR5                 0.0       1.0       2.0       3.0       4.0       5.0    \n",
       "GESTACAO                                                                        \n",
       "22 a 27 semanas    0.082353  0.000000  0.094118  0.070588  0.011765  0.000000  \\\n",
       "28 a 31 semanas    0.000000  0.000000  0.012346  0.006173  0.030864  0.043210   \n",
       "32 a 36 semanas    0.000895  0.000895  0.000895  0.000895  0.003581  0.004924   \n",
       "37 a 41 semanas    0.000222  0.000888  0.000133  0.000222  0.000311  0.000932   \n",
       "42 semanas e mais  0.001433  0.000000  0.000000  0.000000  0.000000  0.001433   \n",
       "\n",
       "APGAR5                 6.0       7.0       8.0       9.0       10.0  \n",
       "GESTACAO                                                             \n",
       "22 a 27 semanas    0.023529  0.117647  0.282353  0.223529  0.094118  \n",
       "28 a 31 semanas    0.043210  0.067901  0.376543  0.339506  0.080247  \n",
       "32 a 36 semanas    0.007610  0.025067  0.162041  0.585049  0.208147  \n",
       "37 a 41 semanas    0.001998  0.006704  0.062913  0.602273  0.323403  \n",
       "42 semanas e mais  0.001433  0.007163  0.063037  0.606017  0.319484  "
      ]
     },
     "execution_count": 21,
     "metadata": {},
     "output_type": "execute_result"
    }
   ],
   "source": [
    "df_div.head()"
   ]
  },
  {
   "cell_type": "markdown",
   "metadata": {},
   "source": [
    "####  6) Os médicos costumam classificar parto prematuro quando a gestação tem menos que 37 semanas. Faça um gráfico de barras da tabela cruzada acima e conclua se você acha que este conjunto de dados corrobora ou não com a afirmação dos médicos."
   ]
  },
  {
   "cell_type": "code",
   "execution_count": 22,
   "metadata": {},
   "outputs": [
    {
     "data": {
      "text/html": [
       "<div>\n",
       "<style scoped>\n",
       "    .dataframe tbody tr th:only-of-type {\n",
       "        vertical-align: middle;\n",
       "    }\n",
       "\n",
       "    .dataframe tbody tr th {\n",
       "        vertical-align: top;\n",
       "    }\n",
       "\n",
       "    .dataframe thead th {\n",
       "        text-align: right;\n",
       "    }\n",
       "</style>\n",
       "<table border=\"1\" class=\"dataframe\">\n",
       "  <thead>\n",
       "    <tr style=\"text-align: right;\">\n",
       "      <th>APGAR5</th>\n",
       "      <th>0.0</th>\n",
       "      <th>1.0</th>\n",
       "      <th>2.0</th>\n",
       "      <th>3.0</th>\n",
       "      <th>4.0</th>\n",
       "      <th>5.0</th>\n",
       "      <th>6.0</th>\n",
       "      <th>7.0</th>\n",
       "      <th>8.0</th>\n",
       "      <th>9.0</th>\n",
       "      <th>10.0</th>\n",
       "    </tr>\n",
       "    <tr>\n",
       "      <th>GESTACAO</th>\n",
       "      <th></th>\n",
       "      <th></th>\n",
       "      <th></th>\n",
       "      <th></th>\n",
       "      <th></th>\n",
       "      <th></th>\n",
       "      <th></th>\n",
       "      <th></th>\n",
       "      <th></th>\n",
       "      <th></th>\n",
       "      <th></th>\n",
       "    </tr>\n",
       "  </thead>\n",
       "  <tbody>\n",
       "    <tr>\n",
       "      <th>22 a 27 semanas</th>\n",
       "      <td>0.082353</td>\n",
       "      <td>0.000000</td>\n",
       "      <td>0.094118</td>\n",
       "      <td>0.070588</td>\n",
       "      <td>0.011765</td>\n",
       "      <td>0.000000</td>\n",
       "      <td>0.023529</td>\n",
       "      <td>0.117647</td>\n",
       "      <td>0.282353</td>\n",
       "      <td>0.223529</td>\n",
       "      <td>0.094118</td>\n",
       "    </tr>\n",
       "    <tr>\n",
       "      <th>28 a 31 semanas</th>\n",
       "      <td>0.000000</td>\n",
       "      <td>0.000000</td>\n",
       "      <td>0.012346</td>\n",
       "      <td>0.006173</td>\n",
       "      <td>0.030864</td>\n",
       "      <td>0.043210</td>\n",
       "      <td>0.043210</td>\n",
       "      <td>0.067901</td>\n",
       "      <td>0.376543</td>\n",
       "      <td>0.339506</td>\n",
       "      <td>0.080247</td>\n",
       "    </tr>\n",
       "    <tr>\n",
       "      <th>32 a 36 semanas</th>\n",
       "      <td>0.000895</td>\n",
       "      <td>0.000895</td>\n",
       "      <td>0.000895</td>\n",
       "      <td>0.000895</td>\n",
       "      <td>0.003581</td>\n",
       "      <td>0.004924</td>\n",
       "      <td>0.007610</td>\n",
       "      <td>0.025067</td>\n",
       "      <td>0.162041</td>\n",
       "      <td>0.585049</td>\n",
       "      <td>0.208147</td>\n",
       "    </tr>\n",
       "    <tr>\n",
       "      <th>37 a 41 semanas</th>\n",
       "      <td>0.000222</td>\n",
       "      <td>0.000888</td>\n",
       "      <td>0.000133</td>\n",
       "      <td>0.000222</td>\n",
       "      <td>0.000311</td>\n",
       "      <td>0.000932</td>\n",
       "      <td>0.001998</td>\n",
       "      <td>0.006704</td>\n",
       "      <td>0.062913</td>\n",
       "      <td>0.602273</td>\n",
       "      <td>0.323403</td>\n",
       "    </tr>\n",
       "    <tr>\n",
       "      <th>42 semanas e mais</th>\n",
       "      <td>0.001433</td>\n",
       "      <td>0.000000</td>\n",
       "      <td>0.000000</td>\n",
       "      <td>0.000000</td>\n",
       "      <td>0.000000</td>\n",
       "      <td>0.001433</td>\n",
       "      <td>0.001433</td>\n",
       "      <td>0.007163</td>\n",
       "      <td>0.063037</td>\n",
       "      <td>0.606017</td>\n",
       "      <td>0.319484</td>\n",
       "    </tr>\n",
       "    <tr>\n",
       "      <th>Menos de 22 semanas</th>\n",
       "      <td>0.142857</td>\n",
       "      <td>0.000000</td>\n",
       "      <td>0.142857</td>\n",
       "      <td>0.000000</td>\n",
       "      <td>0.000000</td>\n",
       "      <td>0.000000</td>\n",
       "      <td>0.000000</td>\n",
       "      <td>0.142857</td>\n",
       "      <td>0.000000</td>\n",
       "      <td>0.428571</td>\n",
       "      <td>0.142857</td>\n",
       "    </tr>\n",
       "  </tbody>\n",
       "</table>\n",
       "</div>"
      ],
      "text/plain": [
       "APGAR5                   0.0       1.0       2.0       3.0       4.0    \n",
       "GESTACAO                                                                \n",
       "22 a 27 semanas      0.082353  0.000000  0.094118  0.070588  0.011765  \\\n",
       "28 a 31 semanas      0.000000  0.000000  0.012346  0.006173  0.030864   \n",
       "32 a 36 semanas      0.000895  0.000895  0.000895  0.000895  0.003581   \n",
       "37 a 41 semanas      0.000222  0.000888  0.000133  0.000222  0.000311   \n",
       "42 semanas e mais    0.001433  0.000000  0.000000  0.000000  0.000000   \n",
       "Menos de 22 semanas  0.142857  0.000000  0.142857  0.000000  0.000000   \n",
       "\n",
       "APGAR5                   5.0       6.0       7.0       8.0       9.0    \n",
       "GESTACAO                                                                \n",
       "22 a 27 semanas      0.000000  0.023529  0.117647  0.282353  0.223529  \\\n",
       "28 a 31 semanas      0.043210  0.043210  0.067901  0.376543  0.339506   \n",
       "32 a 36 semanas      0.004924  0.007610  0.025067  0.162041  0.585049   \n",
       "37 a 41 semanas      0.000932  0.001998  0.006704  0.062913  0.602273   \n",
       "42 semanas e mais    0.001433  0.001433  0.007163  0.063037  0.606017   \n",
       "Menos de 22 semanas  0.000000  0.000000  0.142857  0.000000  0.428571   \n",
       "\n",
       "APGAR5                   10.0  \n",
       "GESTACAO                       \n",
       "22 a 27 semanas      0.094118  \n",
       "28 a 31 semanas      0.080247  \n",
       "32 a 36 semanas      0.208147  \n",
       "37 a 41 semanas      0.323403  \n",
       "42 semanas e mais    0.319484  \n",
       "Menos de 22 semanas  0.142857  "
      ]
     },
     "execution_count": 22,
     "metadata": {},
     "output_type": "execute_result"
    }
   ],
   "source": [
    "df_div"
   ]
  },
  {
   "cell_type": "code",
   "execution_count": 23,
   "metadata": {},
   "outputs": [],
   "source": [
    "df_premat = df_div.iloc[[0,1,2],:]"
   ]
  },
  {
   "cell_type": "code",
   "execution_count": 24,
   "metadata": {},
   "outputs": [
    {
     "data": {
      "text/html": [
       "<div>\n",
       "<style scoped>\n",
       "    .dataframe tbody tr th:only-of-type {\n",
       "        vertical-align: middle;\n",
       "    }\n",
       "\n",
       "    .dataframe tbody tr th {\n",
       "        vertical-align: top;\n",
       "    }\n",
       "\n",
       "    .dataframe thead th {\n",
       "        text-align: right;\n",
       "    }\n",
       "</style>\n",
       "<table border=\"1\" class=\"dataframe\">\n",
       "  <thead>\n",
       "    <tr style=\"text-align: right;\">\n",
       "      <th>APGAR5</th>\n",
       "      <th>0.0</th>\n",
       "      <th>1.0</th>\n",
       "      <th>2.0</th>\n",
       "      <th>3.0</th>\n",
       "      <th>4.0</th>\n",
       "      <th>5.0</th>\n",
       "      <th>6.0</th>\n",
       "      <th>7.0</th>\n",
       "      <th>8.0</th>\n",
       "      <th>9.0</th>\n",
       "      <th>10.0</th>\n",
       "    </tr>\n",
       "    <tr>\n",
       "      <th>GESTACAO</th>\n",
       "      <th></th>\n",
       "      <th></th>\n",
       "      <th></th>\n",
       "      <th></th>\n",
       "      <th></th>\n",
       "      <th></th>\n",
       "      <th></th>\n",
       "      <th></th>\n",
       "      <th></th>\n",
       "      <th></th>\n",
       "      <th></th>\n",
       "    </tr>\n",
       "  </thead>\n",
       "  <tbody>\n",
       "    <tr>\n",
       "      <th>37 a 41 semanas</th>\n",
       "      <td>0.000222</td>\n",
       "      <td>0.000888</td>\n",
       "      <td>0.000133</td>\n",
       "      <td>0.000222</td>\n",
       "      <td>0.000311</td>\n",
       "      <td>0.000932</td>\n",
       "      <td>0.001998</td>\n",
       "      <td>0.006704</td>\n",
       "      <td>0.062913</td>\n",
       "      <td>0.602273</td>\n",
       "      <td>0.323403</td>\n",
       "    </tr>\n",
       "    <tr>\n",
       "      <th>42 semanas e mais</th>\n",
       "      <td>0.001433</td>\n",
       "      <td>0.000000</td>\n",
       "      <td>0.000000</td>\n",
       "      <td>0.000000</td>\n",
       "      <td>0.000000</td>\n",
       "      <td>0.001433</td>\n",
       "      <td>0.001433</td>\n",
       "      <td>0.007163</td>\n",
       "      <td>0.063037</td>\n",
       "      <td>0.606017</td>\n",
       "      <td>0.319484</td>\n",
       "    </tr>\n",
       "    <tr>\n",
       "      <th>Menos de 22 semanas</th>\n",
       "      <td>0.142857</td>\n",
       "      <td>0.000000</td>\n",
       "      <td>0.142857</td>\n",
       "      <td>0.000000</td>\n",
       "      <td>0.000000</td>\n",
       "      <td>0.000000</td>\n",
       "      <td>0.000000</td>\n",
       "      <td>0.142857</td>\n",
       "      <td>0.000000</td>\n",
       "      <td>0.428571</td>\n",
       "      <td>0.142857</td>\n",
       "    </tr>\n",
       "  </tbody>\n",
       "</table>\n",
       "</div>"
      ],
      "text/plain": [
       "APGAR5                   0.0       1.0       2.0       3.0       4.0    \n",
       "GESTACAO                                                                \n",
       "37 a 41 semanas      0.000222  0.000888  0.000133  0.000222  0.000311  \\\n",
       "42 semanas e mais    0.001433  0.000000  0.000000  0.000000  0.000000   \n",
       "Menos de 22 semanas  0.142857  0.000000  0.142857  0.000000  0.000000   \n",
       "\n",
       "APGAR5                   5.0       6.0       7.0       8.0       9.0    \n",
       "GESTACAO                                                                \n",
       "37 a 41 semanas      0.000932  0.001998  0.006704  0.062913  0.602273  \\\n",
       "42 semanas e mais    0.001433  0.001433  0.007163  0.063037  0.606017   \n",
       "Menos de 22 semanas  0.000000  0.000000  0.142857  0.000000  0.428571   \n",
       "\n",
       "APGAR5                   10.0  \n",
       "GESTACAO                       \n",
       "37 a 41 semanas      0.323403  \n",
       "42 semanas e mais    0.319484  \n",
       "Menos de 22 semanas  0.142857  "
      ]
     },
     "execution_count": 24,
     "metadata": {},
     "output_type": "execute_result"
    }
   ],
   "source": [
    "df_div.iloc[[3,4,5],:]"
   ]
  },
  {
   "cell_type": "code",
   "execution_count": 25,
   "metadata": {},
   "outputs": [],
   "source": [
    "df_n_premat = df_div.iloc[[3,4,5],:]"
   ]
  },
  {
   "cell_type": "code",
   "execution_count": 26,
   "metadata": {},
   "outputs": [
    {
     "data": {
      "text/plain": [
       "0    22 a 27 semanas\n",
       "1    28 a 31 semanas\n",
       "2    32 a 36 semanas\n",
       "Name: GESTACAO, dtype: object"
      ]
     },
     "execution_count": 26,
     "metadata": {},
     "output_type": "execute_result"
    }
   ],
   "source": [
    "df_premat.reset_index()[\"GESTACAO\"]"
   ]
  },
  {
   "cell_type": "code",
   "execution_count": 27,
   "metadata": {},
   "outputs": [
    {
     "data": {
      "text/plain": [
       "Text(0.5, 1.0, 'Após das 36 semanas')"
      ]
     },
     "execution_count": 27,
     "metadata": {},
     "output_type": "execute_result"
    },
    {
     "data": {
      "image/png": "[encoded data removed]",
      "text/plain": [
       "<Figure size 1000x400 with 2 Axes>"
      ]
     },
     "metadata": {},
     "output_type": "display_data"
    }
   ],
   "source": [
    "plt.close('all')\n",
    "fig, axes = plt.subplots(1,2, figsize=(10,4))\n",
    "\n",
    "sns.barplot(ax = axes[0], data=df_premat, errorbar=(\"ci\", False))\n",
    "axes[0].set_title(\"Antes das 36 semanas\")\n",
    "sns.barplot(ax = axes[1], data=df_n_premat, errorbar=(\"ci\", False))\n",
    "axes[1].set_title(\"Após das 36 semanas\")"
   ]
  },
  {
   "cell_type": "markdown",
   "metadata": {},
   "source": [
    "Pode ser dizer que antes das 36 semanas a chance do beber nascer com o apgar menor que 7 é bem maior"
   ]
  },
  {
   "cell_type": "markdown",
   "metadata": {},
   "source": [
    "#### 7) Veja se há relação entre APGAR5 e o peso do bebê. Isso pode ser feito de diversas formas. Fique à vontade para escolher a melhor maneira na sua opinião, ou até testar mais de um dos gráficos que vimos. Fique à vontade também para consultar a documentação e utilizar algum outro recurso se achar conveniente."
   ]
  },
  {
   "cell_type": "code",
   "execution_count": 28,
   "metadata": {},
   "outputs": [
    {
     "data": {
      "text/html": [
       "<div>\n",
       "<style scoped>\n",
       "    .dataframe tbody tr th:only-of-type {\n",
       "        vertical-align: middle;\n",
       "    }\n",
       "\n",
       "    .dataframe tbody tr th {\n",
       "        vertical-align: top;\n",
       "    }\n",
       "\n",
       "    .dataframe thead th {\n",
       "        text-align: right;\n",
       "    }\n",
       "</style>\n",
       "<table border=\"1\" class=\"dataframe\">\n",
       "  <thead>\n",
       "    <tr style=\"text-align: right;\">\n",
       "      <th></th>\n",
       "      <th>APGAR5</th>\n",
       "      <th>GESTACAO</th>\n",
       "      <th>SEXO</th>\n",
       "      <th>PESO</th>\n",
       "      <th>IDADEMAE</th>\n",
       "      <th>cat_1</th>\n",
       "    </tr>\n",
       "  </thead>\n",
       "  <tbody>\n",
       "    <tr>\n",
       "      <th>0</th>\n",
       "      <td>10.0</td>\n",
       "      <td>37 a 41 semanas</td>\n",
       "      <td>Masculino</td>\n",
       "      <td>3685</td>\n",
       "      <td>19</td>\n",
       "      <td>normal</td>\n",
       "    </tr>\n",
       "    <tr>\n",
       "      <th>1</th>\n",
       "      <td>9.0</td>\n",
       "      <td>37 a 41 semanas</td>\n",
       "      <td>Feminino</td>\n",
       "      <td>3055</td>\n",
       "      <td>29</td>\n",
       "      <td>normal</td>\n",
       "    </tr>\n",
       "    <tr>\n",
       "      <th>2</th>\n",
       "      <td>10.0</td>\n",
       "      <td>37 a 41 semanas</td>\n",
       "      <td>Feminino</td>\n",
       "      <td>3460</td>\n",
       "      <td>37</td>\n",
       "      <td>normal</td>\n",
       "    </tr>\n",
       "    <tr>\n",
       "      <th>3</th>\n",
       "      <td>10.0</td>\n",
       "      <td>37 a 41 semanas</td>\n",
       "      <td>Feminino</td>\n",
       "      <td>2982</td>\n",
       "      <td>30</td>\n",
       "      <td>normal</td>\n",
       "    </tr>\n",
       "    <tr>\n",
       "      <th>4</th>\n",
       "      <td>10.0</td>\n",
       "      <td>37 a 41 semanas</td>\n",
       "      <td>Feminino</td>\n",
       "      <td>3310</td>\n",
       "      <td>30</td>\n",
       "      <td>normal</td>\n",
       "    </tr>\n",
       "  </tbody>\n",
       "</table>\n",
       "</div>"
      ],
      "text/plain": [
       "   APGAR5         GESTACAO       SEXO  PESO  IDADEMAE   cat_1\n",
       "0    10.0  37 a 41 semanas  Masculino  3685        19  normal\n",
       "1     9.0  37 a 41 semanas   Feminino  3055        29  normal\n",
       "2    10.0  37 a 41 semanas   Feminino  3460        37  normal\n",
       "3    10.0  37 a 41 semanas   Feminino  2982        30  normal\n",
       "4    10.0  37 a 41 semanas   Feminino  3310        30  normal"
      ]
     },
     "execution_count": 28,
     "metadata": {},
     "output_type": "execute_result"
    }
   ],
   "source": [
    "df.head()"
   ]
  },
  {
   "cell_type": "code",
   "execution_count": 49,
   "metadata": {},
   "outputs": [
    {
     "data": {
      "text/plain": [
       "<Axes: xlabel='PESO', ylabel='Count'>"
      ]
     },
     "execution_count": 49,
     "metadata": {},
     "output_type": "execute_result"
    },
    {
     "data": {
      "image/png": "[encoded data removed]",
      "text/plain": [
       "<Figure size 1000x600 with 2 Axes>"
      ]
     },
     "metadata": {},
     "output_type": "display_data"
    }
   ],
   "source": [
    "plt.close('all')\n",
    "fig, axes = plt.subplots(2,1, figsize=(10,6))\n",
    "\n",
    "sns.scatterplot(ax=axes[0], x=\"PESO\", y=\"APGAR5\", data=df, alpha=0.4, hue=\"PESO\", palette=\"dark:salmon_r\")\n",
    "sns.histplot(ax=axes[1], x=\"PESO\", data=df, kde = True, alpha=.25)\n"
   ]
  },
  {
   "cell_type": "code",
   "execution_count": 33,
   "metadata": {},
   "outputs": [
    {
     "data": {
      "text/plain": [
       "Text(0.5, 0, 'APGAR5')"
      ]
     },
     "execution_count": 33,
     "metadata": {},
     "output_type": "execute_result"
    },
    {
     "data": {
      "image/png": "[encoded data removed]",
      "text/plain": [
       "<Figure size 1000x600 with 1 Axes>"
      ]
     },
     "metadata": {},
     "output_type": "display_data"
    }
   ],
   "source": [
    "plt.close('all')\n",
    "fig, axes = plt.subplots(figsize=(10,6))\n",
    "\n",
    "sns.boxplot(x=\"cat_1\", y=\"PESO\", data=df)\n",
    "axes.set_xlabel(\"APGAR5\")\n"
   ]
  },
  {
   "cell_type": "code",
   "execution_count": null,
   "metadata": {},
   "outputs": [],
   "source": []
  }
 ],
 "metadata": {
  "kernelspec": {
   "display_name": "Python 3 (ipykernel)",
   "language": "python",
   "name": "python3"
  },
  "language_info": {
   "codemirror_mode": {
    "name": "ipython",
    "version": 3
   },
   "file_extension": ".py",
   "mimetype": "text/x-python",
   "name": "python",
   "nbconvert_exporter": "python",
   "pygments_lexer": "ipython3",
   "version": "3.11.2"
  }
 },
 "nbformat": 4,
 "nbformat_minor": 4
}
